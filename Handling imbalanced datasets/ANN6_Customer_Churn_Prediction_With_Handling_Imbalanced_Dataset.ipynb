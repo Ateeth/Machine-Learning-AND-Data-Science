{
  "cells": [
    {
      "cell_type": "code",
      "execution_count": 1,
      "metadata": {
        "id": "V6D03aiWr6Wl"
      },
      "outputs": [],
      "source": [
        "import pandas as pd\n",
        "import matplotlib.pyplot as plt\n",
        "import numpy as np\n",
        "%matplotlib inline"
      ]
    },
    {
      "cell_type": "markdown",
      "metadata": {
        "id": "Xubmgdxwr6Wp"
      },
      "source": [
        "### Load dataset"
      ]
    },
    {
      "cell_type": "code",
      "execution_count": 2,
      "metadata": {
        "colab": {
          "base_uri": "https://localhost:8080/",
          "height": 386
        },
        "id": "LdoIij8Qr6Wr",
        "outputId": "c245793c-beba-4e3f-ae3f-14cfb1f75736"
      },
      "outputs": [
        {
          "output_type": "execute_result",
          "data": {
            "text/plain": [
              "   customerID  gender  SeniorCitizen Partner Dependents  tenure PhoneService  \\\n",
              "0  7590-VHVEG  Female              0     Yes         No       1           No   \n",
              "1  5575-GNVDE    Male              0      No         No      34          Yes   \n",
              "2  3668-QPYBK    Male              0      No         No       2          Yes   \n",
              "3  7795-CFOCW    Male              0      No         No      45           No   \n",
              "4  9237-HQITU  Female              0      No         No       2          Yes   \n",
              "\n",
              "      MultipleLines InternetService OnlineSecurity  ... DeviceProtection  \\\n",
              "0  No phone service             DSL             No  ...               No   \n",
              "1                No             DSL            Yes  ...              Yes   \n",
              "2                No             DSL            Yes  ...               No   \n",
              "3  No phone service             DSL            Yes  ...              Yes   \n",
              "4                No     Fiber optic             No  ...               No   \n",
              "\n",
              "  TechSupport StreamingTV StreamingMovies        Contract PaperlessBilling  \\\n",
              "0          No          No              No  Month-to-month              Yes   \n",
              "1          No          No              No        One year               No   \n",
              "2          No          No              No  Month-to-month              Yes   \n",
              "3         Yes          No              No        One year               No   \n",
              "4          No          No              No  Month-to-month              Yes   \n",
              "\n",
              "               PaymentMethod MonthlyCharges  TotalCharges Churn  \n",
              "0           Electronic check          29.85         29.85    No  \n",
              "1               Mailed check          56.95        1889.5    No  \n",
              "2               Mailed check          53.85        108.15   Yes  \n",
              "3  Bank transfer (automatic)          42.30       1840.75    No  \n",
              "4           Electronic check          70.70        151.65   Yes  \n",
              "\n",
              "[5 rows x 21 columns]"
            ],
            "text/html": [
              "\n",
              "  <div id=\"df-d97692e9-8c99-428b-b074-756c96bb2691\">\n",
              "    <div class=\"colab-df-container\">\n",
              "      <div>\n",
              "<style scoped>\n",
              "    .dataframe tbody tr th:only-of-type {\n",
              "        vertical-align: middle;\n",
              "    }\n",
              "\n",
              "    .dataframe tbody tr th {\n",
              "        vertical-align: top;\n",
              "    }\n",
              "\n",
              "    .dataframe thead th {\n",
              "        text-align: right;\n",
              "    }\n",
              "</style>\n",
              "<table border=\"1\" class=\"dataframe\">\n",
              "  <thead>\n",
              "    <tr style=\"text-align: right;\">\n",
              "      <th></th>\n",
              "      <th>customerID</th>\n",
              "      <th>gender</th>\n",
              "      <th>SeniorCitizen</th>\n",
              "      <th>Partner</th>\n",
              "      <th>Dependents</th>\n",
              "      <th>tenure</th>\n",
              "      <th>PhoneService</th>\n",
              "      <th>MultipleLines</th>\n",
              "      <th>InternetService</th>\n",
              "      <th>OnlineSecurity</th>\n",
              "      <th>...</th>\n",
              "      <th>DeviceProtection</th>\n",
              "      <th>TechSupport</th>\n",
              "      <th>StreamingTV</th>\n",
              "      <th>StreamingMovies</th>\n",
              "      <th>Contract</th>\n",
              "      <th>PaperlessBilling</th>\n",
              "      <th>PaymentMethod</th>\n",
              "      <th>MonthlyCharges</th>\n",
              "      <th>TotalCharges</th>\n",
              "      <th>Churn</th>\n",
              "    </tr>\n",
              "  </thead>\n",
              "  <tbody>\n",
              "    <tr>\n",
              "      <th>0</th>\n",
              "      <td>7590-VHVEG</td>\n",
              "      <td>Female</td>\n",
              "      <td>0</td>\n",
              "      <td>Yes</td>\n",
              "      <td>No</td>\n",
              "      <td>1</td>\n",
              "      <td>No</td>\n",
              "      <td>No phone service</td>\n",
              "      <td>DSL</td>\n",
              "      <td>No</td>\n",
              "      <td>...</td>\n",
              "      <td>No</td>\n",
              "      <td>No</td>\n",
              "      <td>No</td>\n",
              "      <td>No</td>\n",
              "      <td>Month-to-month</td>\n",
              "      <td>Yes</td>\n",
              "      <td>Electronic check</td>\n",
              "      <td>29.85</td>\n",
              "      <td>29.85</td>\n",
              "      <td>No</td>\n",
              "    </tr>\n",
              "    <tr>\n",
              "      <th>1</th>\n",
              "      <td>5575-GNVDE</td>\n",
              "      <td>Male</td>\n",
              "      <td>0</td>\n",
              "      <td>No</td>\n",
              "      <td>No</td>\n",
              "      <td>34</td>\n",
              "      <td>Yes</td>\n",
              "      <td>No</td>\n",
              "      <td>DSL</td>\n",
              "      <td>Yes</td>\n",
              "      <td>...</td>\n",
              "      <td>Yes</td>\n",
              "      <td>No</td>\n",
              "      <td>No</td>\n",
              "      <td>No</td>\n",
              "      <td>One year</td>\n",
              "      <td>No</td>\n",
              "      <td>Mailed check</td>\n",
              "      <td>56.95</td>\n",
              "      <td>1889.5</td>\n",
              "      <td>No</td>\n",
              "    </tr>\n",
              "    <tr>\n",
              "      <th>2</th>\n",
              "      <td>3668-QPYBK</td>\n",
              "      <td>Male</td>\n",
              "      <td>0</td>\n",
              "      <td>No</td>\n",
              "      <td>No</td>\n",
              "      <td>2</td>\n",
              "      <td>Yes</td>\n",
              "      <td>No</td>\n",
              "      <td>DSL</td>\n",
              "      <td>Yes</td>\n",
              "      <td>...</td>\n",
              "      <td>No</td>\n",
              "      <td>No</td>\n",
              "      <td>No</td>\n",
              "      <td>No</td>\n",
              "      <td>Month-to-month</td>\n",
              "      <td>Yes</td>\n",
              "      <td>Mailed check</td>\n",
              "      <td>53.85</td>\n",
              "      <td>108.15</td>\n",
              "      <td>Yes</td>\n",
              "    </tr>\n",
              "    <tr>\n",
              "      <th>3</th>\n",
              "      <td>7795-CFOCW</td>\n",
              "      <td>Male</td>\n",
              "      <td>0</td>\n",
              "      <td>No</td>\n",
              "      <td>No</td>\n",
              "      <td>45</td>\n",
              "      <td>No</td>\n",
              "      <td>No phone service</td>\n",
              "      <td>DSL</td>\n",
              "      <td>Yes</td>\n",
              "      <td>...</td>\n",
              "      <td>Yes</td>\n",
              "      <td>Yes</td>\n",
              "      <td>No</td>\n",
              "      <td>No</td>\n",
              "      <td>One year</td>\n",
              "      <td>No</td>\n",
              "      <td>Bank transfer (automatic)</td>\n",
              "      <td>42.30</td>\n",
              "      <td>1840.75</td>\n",
              "      <td>No</td>\n",
              "    </tr>\n",
              "    <tr>\n",
              "      <th>4</th>\n",
              "      <td>9237-HQITU</td>\n",
              "      <td>Female</td>\n",
              "      <td>0</td>\n",
              "      <td>No</td>\n",
              "      <td>No</td>\n",
              "      <td>2</td>\n",
              "      <td>Yes</td>\n",
              "      <td>No</td>\n",
              "      <td>Fiber optic</td>\n",
              "      <td>No</td>\n",
              "      <td>...</td>\n",
              "      <td>No</td>\n",
              "      <td>No</td>\n",
              "      <td>No</td>\n",
              "      <td>No</td>\n",
              "      <td>Month-to-month</td>\n",
              "      <td>Yes</td>\n",
              "      <td>Electronic check</td>\n",
              "      <td>70.70</td>\n",
              "      <td>151.65</td>\n",
              "      <td>Yes</td>\n",
              "    </tr>\n",
              "  </tbody>\n",
              "</table>\n",
              "<p>5 rows × 21 columns</p>\n",
              "</div>\n",
              "      <button class=\"colab-df-convert\" onclick=\"convertToInteractive('df-d97692e9-8c99-428b-b074-756c96bb2691')\"\n",
              "              title=\"Convert this dataframe to an interactive table.\"\n",
              "              style=\"display:none;\">\n",
              "        \n",
              "  <svg xmlns=\"http://www.w3.org/2000/svg\" height=\"24px\"viewBox=\"0 0 24 24\"\n",
              "       width=\"24px\">\n",
              "    <path d=\"M0 0h24v24H0V0z\" fill=\"none\"/>\n",
              "    <path d=\"M18.56 5.44l.94 2.06.94-2.06 2.06-.94-2.06-.94-.94-2.06-.94 2.06-2.06.94zm-11 1L8.5 8.5l.94-2.06 2.06-.94-2.06-.94L8.5 2.5l-.94 2.06-2.06.94zm10 10l.94 2.06.94-2.06 2.06-.94-2.06-.94-.94-2.06-.94 2.06-2.06.94z\"/><path d=\"M17.41 7.96l-1.37-1.37c-.4-.4-.92-.59-1.43-.59-.52 0-1.04.2-1.43.59L10.3 9.45l-7.72 7.72c-.78.78-.78 2.05 0 2.83L4 21.41c.39.39.9.59 1.41.59.51 0 1.02-.2 1.41-.59l7.78-7.78 2.81-2.81c.8-.78.8-2.07 0-2.86zM5.41 20L4 18.59l7.72-7.72 1.47 1.35L5.41 20z\"/>\n",
              "  </svg>\n",
              "      </button>\n",
              "      \n",
              "  <style>\n",
              "    .colab-df-container {\n",
              "      display:flex;\n",
              "      flex-wrap:wrap;\n",
              "      gap: 12px;\n",
              "    }\n",
              "\n",
              "    .colab-df-convert {\n",
              "      background-color: #E8F0FE;\n",
              "      border: none;\n",
              "      border-radius: 50%;\n",
              "      cursor: pointer;\n",
              "      display: none;\n",
              "      fill: #1967D2;\n",
              "      height: 32px;\n",
              "      padding: 0 0 0 0;\n",
              "      width: 32px;\n",
              "    }\n",
              "\n",
              "    .colab-df-convert:hover {\n",
              "      background-color: #E2EBFA;\n",
              "      box-shadow: 0px 1px 2px rgba(60, 64, 67, 0.3), 0px 1px 3px 1px rgba(60, 64, 67, 0.15);\n",
              "      fill: #174EA6;\n",
              "    }\n",
              "\n",
              "    [theme=dark] .colab-df-convert {\n",
              "      background-color: #3B4455;\n",
              "      fill: #D2E3FC;\n",
              "    }\n",
              "\n",
              "    [theme=dark] .colab-df-convert:hover {\n",
              "      background-color: #434B5C;\n",
              "      box-shadow: 0px 1px 3px 1px rgba(0, 0, 0, 0.15);\n",
              "      filter: drop-shadow(0px 1px 2px rgba(0, 0, 0, 0.3));\n",
              "      fill: #FFFFFF;\n",
              "    }\n",
              "  </style>\n",
              "\n",
              "      <script>\n",
              "        const buttonEl =\n",
              "          document.querySelector('#df-d97692e9-8c99-428b-b074-756c96bb2691 button.colab-df-convert');\n",
              "        buttonEl.style.display =\n",
              "          google.colab.kernel.accessAllowed ? 'block' : 'none';\n",
              "\n",
              "        async function convertToInteractive(key) {\n",
              "          const element = document.querySelector('#df-d97692e9-8c99-428b-b074-756c96bb2691');\n",
              "          const dataTable =\n",
              "            await google.colab.kernel.invokeFunction('convertToInteractive',\n",
              "                                                     [key], {});\n",
              "          if (!dataTable) return;\n",
              "\n",
              "          const docLinkHtml = 'Like what you see? Visit the ' +\n",
              "            '<a target=\"_blank\" href=https://colab.research.google.com/notebooks/data_table.ipynb>data table notebook</a>'\n",
              "            + ' to learn more about interactive tables.';\n",
              "          element.innerHTML = '';\n",
              "          dataTable['output_type'] = 'display_data';\n",
              "          await google.colab.output.renderOutput(dataTable, element);\n",
              "          const docLink = document.createElement('div');\n",
              "          docLink.innerHTML = docLinkHtml;\n",
              "          element.appendChild(docLink);\n",
              "        }\n",
              "      </script>\n",
              "    </div>\n",
              "  </div>\n",
              "  "
            ]
          },
          "metadata": {},
          "execution_count": 2
        }
      ],
      "source": [
        "df = pd.read_csv(\"https://raw.githubusercontent.com/Ateeth/Deep-Learning/main/datasets/WA_Fn-UseC_-Telco-Customer-Churn.csv\")\n",
        "\n",
        "df.head()"
      ]
    },
    {
      "cell_type": "code",
      "execution_count": 3,
      "metadata": {
        "colab": {
          "base_uri": "https://localhost:8080/"
        },
        "id": "hk_Xz7Prr6Wt",
        "outputId": "b3775ec5-1bff-4767-80bd-9ab116850b26"
      },
      "outputs": [
        {
          "output_type": "execute_result",
          "data": {
            "text/plain": [
              "(7043, 21)"
            ]
          },
          "metadata": {},
          "execution_count": 3
        }
      ],
      "source": [
        "df.shape"
      ]
    },
    {
      "cell_type": "markdown",
      "metadata": {
        "id": "WWtdAtSzr6Wu"
      },
      "source": [
        "### Exploratory Data Analysis"
      ]
    },
    {
      "cell_type": "markdown",
      "metadata": {
        "id": "ZA_58VWgr6Wv"
      },
      "source": [
        "#### Drop unnecessary columns like customerID"
      ]
    },
    {
      "cell_type": "code",
      "execution_count": 4,
      "metadata": {
        "colab": {
          "base_uri": "https://localhost:8080/",
          "height": 340
        },
        "id": "z2QVCAcBr6Wv",
        "outputId": "0f2a2c8c-4925-4c66-90c0-6f7204446c0a"
      },
      "outputs": [
        {
          "output_type": "execute_result",
          "data": {
            "text/plain": [
              "   gender  SeniorCitizen Partner Dependents  tenure PhoneService  \\\n",
              "0  Female              0     Yes         No       1           No   \n",
              "1    Male              0      No         No      34          Yes   \n",
              "2    Male              0      No         No       2          Yes   \n",
              "3    Male              0      No         No      45           No   \n",
              "4  Female              0      No         No       2          Yes   \n",
              "\n",
              "      MultipleLines InternetService OnlineSecurity OnlineBackup  \\\n",
              "0  No phone service             DSL             No          Yes   \n",
              "1                No             DSL            Yes           No   \n",
              "2                No             DSL            Yes          Yes   \n",
              "3  No phone service             DSL            Yes           No   \n",
              "4                No     Fiber optic             No           No   \n",
              "\n",
              "  DeviceProtection TechSupport StreamingTV StreamingMovies        Contract  \\\n",
              "0               No          No          No              No  Month-to-month   \n",
              "1              Yes          No          No              No        One year   \n",
              "2               No          No          No              No  Month-to-month   \n",
              "3              Yes         Yes          No              No        One year   \n",
              "4               No          No          No              No  Month-to-month   \n",
              "\n",
              "  PaperlessBilling              PaymentMethod  MonthlyCharges TotalCharges  \\\n",
              "0              Yes           Electronic check           29.85        29.85   \n",
              "1               No               Mailed check           56.95       1889.5   \n",
              "2              Yes               Mailed check           53.85       108.15   \n",
              "3               No  Bank transfer (automatic)           42.30      1840.75   \n",
              "4              Yes           Electronic check           70.70       151.65   \n",
              "\n",
              "  Churn  \n",
              "0    No  \n",
              "1    No  \n",
              "2   Yes  \n",
              "3    No  \n",
              "4   Yes  "
            ],
            "text/html": [
              "\n",
              "  <div id=\"df-5763f4e9-38d4-432e-afb9-10aa52db075c\">\n",
              "    <div class=\"colab-df-container\">\n",
              "      <div>\n",
              "<style scoped>\n",
              "    .dataframe tbody tr th:only-of-type {\n",
              "        vertical-align: middle;\n",
              "    }\n",
              "\n",
              "    .dataframe tbody tr th {\n",
              "        vertical-align: top;\n",
              "    }\n",
              "\n",
              "    .dataframe thead th {\n",
              "        text-align: right;\n",
              "    }\n",
              "</style>\n",
              "<table border=\"1\" class=\"dataframe\">\n",
              "  <thead>\n",
              "    <tr style=\"text-align: right;\">\n",
              "      <th></th>\n",
              "      <th>gender</th>\n",
              "      <th>SeniorCitizen</th>\n",
              "      <th>Partner</th>\n",
              "      <th>Dependents</th>\n",
              "      <th>tenure</th>\n",
              "      <th>PhoneService</th>\n",
              "      <th>MultipleLines</th>\n",
              "      <th>InternetService</th>\n",
              "      <th>OnlineSecurity</th>\n",
              "      <th>OnlineBackup</th>\n",
              "      <th>DeviceProtection</th>\n",
              "      <th>TechSupport</th>\n",
              "      <th>StreamingTV</th>\n",
              "      <th>StreamingMovies</th>\n",
              "      <th>Contract</th>\n",
              "      <th>PaperlessBilling</th>\n",
              "      <th>PaymentMethod</th>\n",
              "      <th>MonthlyCharges</th>\n",
              "      <th>TotalCharges</th>\n",
              "      <th>Churn</th>\n",
              "    </tr>\n",
              "  </thead>\n",
              "  <tbody>\n",
              "    <tr>\n",
              "      <th>0</th>\n",
              "      <td>Female</td>\n",
              "      <td>0</td>\n",
              "      <td>Yes</td>\n",
              "      <td>No</td>\n",
              "      <td>1</td>\n",
              "      <td>No</td>\n",
              "      <td>No phone service</td>\n",
              "      <td>DSL</td>\n",
              "      <td>No</td>\n",
              "      <td>Yes</td>\n",
              "      <td>No</td>\n",
              "      <td>No</td>\n",
              "      <td>No</td>\n",
              "      <td>No</td>\n",
              "      <td>Month-to-month</td>\n",
              "      <td>Yes</td>\n",
              "      <td>Electronic check</td>\n",
              "      <td>29.85</td>\n",
              "      <td>29.85</td>\n",
              "      <td>No</td>\n",
              "    </tr>\n",
              "    <tr>\n",
              "      <th>1</th>\n",
              "      <td>Male</td>\n",
              "      <td>0</td>\n",
              "      <td>No</td>\n",
              "      <td>No</td>\n",
              "      <td>34</td>\n",
              "      <td>Yes</td>\n",
              "      <td>No</td>\n",
              "      <td>DSL</td>\n",
              "      <td>Yes</td>\n",
              "      <td>No</td>\n",
              "      <td>Yes</td>\n",
              "      <td>No</td>\n",
              "      <td>No</td>\n",
              "      <td>No</td>\n",
              "      <td>One year</td>\n",
              "      <td>No</td>\n",
              "      <td>Mailed check</td>\n",
              "      <td>56.95</td>\n",
              "      <td>1889.5</td>\n",
              "      <td>No</td>\n",
              "    </tr>\n",
              "    <tr>\n",
              "      <th>2</th>\n",
              "      <td>Male</td>\n",
              "      <td>0</td>\n",
              "      <td>No</td>\n",
              "      <td>No</td>\n",
              "      <td>2</td>\n",
              "      <td>Yes</td>\n",
              "      <td>No</td>\n",
              "      <td>DSL</td>\n",
              "      <td>Yes</td>\n",
              "      <td>Yes</td>\n",
              "      <td>No</td>\n",
              "      <td>No</td>\n",
              "      <td>No</td>\n",
              "      <td>No</td>\n",
              "      <td>Month-to-month</td>\n",
              "      <td>Yes</td>\n",
              "      <td>Mailed check</td>\n",
              "      <td>53.85</td>\n",
              "      <td>108.15</td>\n",
              "      <td>Yes</td>\n",
              "    </tr>\n",
              "    <tr>\n",
              "      <th>3</th>\n",
              "      <td>Male</td>\n",
              "      <td>0</td>\n",
              "      <td>No</td>\n",
              "      <td>No</td>\n",
              "      <td>45</td>\n",
              "      <td>No</td>\n",
              "      <td>No phone service</td>\n",
              "      <td>DSL</td>\n",
              "      <td>Yes</td>\n",
              "      <td>No</td>\n",
              "      <td>Yes</td>\n",
              "      <td>Yes</td>\n",
              "      <td>No</td>\n",
              "      <td>No</td>\n",
              "      <td>One year</td>\n",
              "      <td>No</td>\n",
              "      <td>Bank transfer (automatic)</td>\n",
              "      <td>42.30</td>\n",
              "      <td>1840.75</td>\n",
              "      <td>No</td>\n",
              "    </tr>\n",
              "    <tr>\n",
              "      <th>4</th>\n",
              "      <td>Female</td>\n",
              "      <td>0</td>\n",
              "      <td>No</td>\n",
              "      <td>No</td>\n",
              "      <td>2</td>\n",
              "      <td>Yes</td>\n",
              "      <td>No</td>\n",
              "      <td>Fiber optic</td>\n",
              "      <td>No</td>\n",
              "      <td>No</td>\n",
              "      <td>No</td>\n",
              "      <td>No</td>\n",
              "      <td>No</td>\n",
              "      <td>No</td>\n",
              "      <td>Month-to-month</td>\n",
              "      <td>Yes</td>\n",
              "      <td>Electronic check</td>\n",
              "      <td>70.70</td>\n",
              "      <td>151.65</td>\n",
              "      <td>Yes</td>\n",
              "    </tr>\n",
              "  </tbody>\n",
              "</table>\n",
              "</div>\n",
              "      <button class=\"colab-df-convert\" onclick=\"convertToInteractive('df-5763f4e9-38d4-432e-afb9-10aa52db075c')\"\n",
              "              title=\"Convert this dataframe to an interactive table.\"\n",
              "              style=\"display:none;\">\n",
              "        \n",
              "  <svg xmlns=\"http://www.w3.org/2000/svg\" height=\"24px\"viewBox=\"0 0 24 24\"\n",
              "       width=\"24px\">\n",
              "    <path d=\"M0 0h24v24H0V0z\" fill=\"none\"/>\n",
              "    <path d=\"M18.56 5.44l.94 2.06.94-2.06 2.06-.94-2.06-.94-.94-2.06-.94 2.06-2.06.94zm-11 1L8.5 8.5l.94-2.06 2.06-.94-2.06-.94L8.5 2.5l-.94 2.06-2.06.94zm10 10l.94 2.06.94-2.06 2.06-.94-2.06-.94-.94-2.06-.94 2.06-2.06.94z\"/><path d=\"M17.41 7.96l-1.37-1.37c-.4-.4-.92-.59-1.43-.59-.52 0-1.04.2-1.43.59L10.3 9.45l-7.72 7.72c-.78.78-.78 2.05 0 2.83L4 21.41c.39.39.9.59 1.41.59.51 0 1.02-.2 1.41-.59l7.78-7.78 2.81-2.81c.8-.78.8-2.07 0-2.86zM5.41 20L4 18.59l7.72-7.72 1.47 1.35L5.41 20z\"/>\n",
              "  </svg>\n",
              "      </button>\n",
              "      \n",
              "  <style>\n",
              "    .colab-df-container {\n",
              "      display:flex;\n",
              "      flex-wrap:wrap;\n",
              "      gap: 12px;\n",
              "    }\n",
              "\n",
              "    .colab-df-convert {\n",
              "      background-color: #E8F0FE;\n",
              "      border: none;\n",
              "      border-radius: 50%;\n",
              "      cursor: pointer;\n",
              "      display: none;\n",
              "      fill: #1967D2;\n",
              "      height: 32px;\n",
              "      padding: 0 0 0 0;\n",
              "      width: 32px;\n",
              "    }\n",
              "\n",
              "    .colab-df-convert:hover {\n",
              "      background-color: #E2EBFA;\n",
              "      box-shadow: 0px 1px 2px rgba(60, 64, 67, 0.3), 0px 1px 3px 1px rgba(60, 64, 67, 0.15);\n",
              "      fill: #174EA6;\n",
              "    }\n",
              "\n",
              "    [theme=dark] .colab-df-convert {\n",
              "      background-color: #3B4455;\n",
              "      fill: #D2E3FC;\n",
              "    }\n",
              "\n",
              "    [theme=dark] .colab-df-convert:hover {\n",
              "      background-color: #434B5C;\n",
              "      box-shadow: 0px 1px 3px 1px rgba(0, 0, 0, 0.15);\n",
              "      filter: drop-shadow(0px 1px 2px rgba(0, 0, 0, 0.3));\n",
              "      fill: #FFFFFF;\n",
              "    }\n",
              "  </style>\n",
              "\n",
              "      <script>\n",
              "        const buttonEl =\n",
              "          document.querySelector('#df-5763f4e9-38d4-432e-afb9-10aa52db075c button.colab-df-convert');\n",
              "        buttonEl.style.display =\n",
              "          google.colab.kernel.accessAllowed ? 'block' : 'none';\n",
              "\n",
              "        async function convertToInteractive(key) {\n",
              "          const element = document.querySelector('#df-5763f4e9-38d4-432e-afb9-10aa52db075c');\n",
              "          const dataTable =\n",
              "            await google.colab.kernel.invokeFunction('convertToInteractive',\n",
              "                                                     [key], {});\n",
              "          if (!dataTable) return;\n",
              "\n",
              "          const docLinkHtml = 'Like what you see? Visit the ' +\n",
              "            '<a target=\"_blank\" href=https://colab.research.google.com/notebooks/data_table.ipynb>data table notebook</a>'\n",
              "            + ' to learn more about interactive tables.';\n",
              "          element.innerHTML = '';\n",
              "          dataTable['output_type'] = 'display_data';\n",
              "          await google.colab.output.renderOutput(dataTable, element);\n",
              "          const docLink = document.createElement('div');\n",
              "          docLink.innerHTML = docLinkHtml;\n",
              "          element.appendChild(docLink);\n",
              "        }\n",
              "      </script>\n",
              "    </div>\n",
              "  </div>\n",
              "  "
            ]
          },
          "metadata": {},
          "execution_count": 4
        }
      ],
      "source": [
        "df = df.drop('customerID' , axis = 1)\n",
        "df.head()"
      ]
    },
    {
      "cell_type": "markdown",
      "metadata": {
        "id": "9OmS_iTQr6Wv"
      },
      "source": [
        "#### Check out datatypes of columns and change if necessary"
      ]
    },
    {
      "cell_type": "code",
      "execution_count": 5,
      "metadata": {
        "colab": {
          "base_uri": "https://localhost:8080/"
        },
        "id": "ygFIMiwPr6Ww",
        "outputId": "d739dbd2-8c16-427b-8944-b98fa128e7a0"
      },
      "outputs": [
        {
          "output_type": "execute_result",
          "data": {
            "text/plain": [
              "gender               object\n",
              "SeniorCitizen         int64\n",
              "Partner              object\n",
              "Dependents           object\n",
              "tenure                int64\n",
              "PhoneService         object\n",
              "MultipleLines        object\n",
              "InternetService      object\n",
              "OnlineSecurity       object\n",
              "OnlineBackup         object\n",
              "DeviceProtection     object\n",
              "TechSupport          object\n",
              "StreamingTV          object\n",
              "StreamingMovies      object\n",
              "Contract             object\n",
              "PaperlessBilling     object\n",
              "PaymentMethod        object\n",
              "MonthlyCharges      float64\n",
              "TotalCharges         object\n",
              "Churn                object\n",
              "dtype: object"
            ]
          },
          "metadata": {},
          "execution_count": 5
        }
      ],
      "source": [
        "df.dtypes"
      ]
    },
    {
      "cell_type": "markdown",
      "metadata": {
        "id": "Y3o7q04Er6Ww"
      },
      "source": [
        "Observe that total charges column is type object"
      ]
    },
    {
      "cell_type": "code",
      "execution_count": 6,
      "metadata": {
        "colab": {
          "base_uri": "https://localhost:8080/"
        },
        "id": "7mdnoPynr6Ww",
        "outputId": "8b100d39-dbc2-46f2-ce9b-d790419b1ecc"
      },
      "outputs": [
        {
          "output_type": "execute_result",
          "data": {
            "text/plain": [
              "array(['29.85', '1889.5', '108.15', ..., '346.45', '306.6', '6844.5'],\n",
              "      dtype=object)"
            ]
          },
          "metadata": {},
          "execution_count": 6
        }
      ],
      "source": [
        "df.TotalCharges.values"
      ]
    },
    {
      "cell_type": "markdown",
      "metadata": {
        "id": "hvTqUhFSr6Wx"
      },
      "source": [
        "##### Find rows where TotalCharges values are \" \" and drop them"
      ]
    },
    {
      "cell_type": "code",
      "execution_count": 7,
      "metadata": {
        "colab": {
          "base_uri": "https://localhost:8080/"
        },
        "id": "JPByM2Yvr6Wx",
        "outputId": "0fbfd20b-bcca-42ea-f3c8-151d9168438a"
      },
      "outputs": [
        {
          "output_type": "execute_result",
          "data": {
            "text/plain": [
              "(11, 20)"
            ]
          },
          "metadata": {},
          "execution_count": 7
        }
      ],
      "source": [
        "df[pd.to_numeric(df.TotalCharges , errors = 'coerce').isnull()].shape"
      ]
    },
    {
      "cell_type": "markdown",
      "metadata": {
        "id": "LqKJpcT8r6Wx"
      },
      "source": [
        "11 such rows are present compared to 7043 rows which is quite few they can be dropped"
      ]
    },
    {
      "cell_type": "code",
      "execution_count": 8,
      "metadata": {
        "id": "AUxV2jeZr6Wx"
      },
      "outputs": [],
      "source": [
        "df1 = df[df.TotalCharges != ' ']"
      ]
    },
    {
      "cell_type": "code",
      "execution_count": 9,
      "metadata": {
        "colab": {
          "base_uri": "https://localhost:8080/"
        },
        "id": "JK5c5v8fr6Wy",
        "outputId": "616ef348-ca0a-4091-8e3b-1bf0dae29b23"
      },
      "outputs": [
        {
          "output_type": "execute_result",
          "data": {
            "text/plain": [
              "(7032, 20)"
            ]
          },
          "metadata": {},
          "execution_count": 9
        }
      ],
      "source": [
        "df1.shape"
      ]
    },
    {
      "cell_type": "markdown",
      "metadata": {
        "id": "rJBwqqC2r6Wy"
      },
      "source": [
        "##### Convert TotalCharges to float"
      ]
    },
    {
      "cell_type": "code",
      "execution_count": 10,
      "metadata": {
        "colab": {
          "base_uri": "https://localhost:8080/"
        },
        "id": "3cGL_kDRr6Wy",
        "outputId": "2552ad22-91f2-4789-d09e-a8afc7dea637"
      },
      "outputs": [
        {
          "output_type": "stream",
          "name": "stderr",
          "text": [
            "/usr/local/lib/python3.8/dist-packages/pandas/core/generic.py:5516: SettingWithCopyWarning: \n",
            "A value is trying to be set on a copy of a slice from a DataFrame.\n",
            "Try using .loc[row_indexer,col_indexer] = value instead\n",
            "\n",
            "See the caveats in the documentation: https://pandas.pydata.org/pandas-docs/stable/user_guide/indexing.html#returning-a-view-versus-a-copy\n",
            "  self[name] = value\n"
          ]
        }
      ],
      "source": [
        "df1.TotalCharges = pd.to_numeric(df1.TotalCharges)"
      ]
    },
    {
      "cell_type": "markdown",
      "metadata": {
        "id": "V9lgM04Ur6Wy"
      },
      "source": [
        "#### Data Visualization"
      ]
    },
    {
      "cell_type": "markdown",
      "metadata": {
        "id": "lrNN2i5Pr6Wy"
      },
      "source": [
        "##### Explore tenure column with churn"
      ]
    },
    {
      "cell_type": "code",
      "execution_count": 11,
      "metadata": {
        "colab": {
          "base_uri": "https://localhost:8080/",
          "height": 402
        },
        "id": "eJMhqWRir6Wz",
        "outputId": "b1f9ab65-a3b2-484c-97d4-c11efbbdf4b7"
      },
      "outputs": [
        {
          "output_type": "stream",
          "name": "stderr",
          "text": [
            "/usr/local/lib/python3.8/dist-packages/numpy/core/fromnumeric.py:3208: VisibleDeprecationWarning: Creating an ndarray from ragged nested sequences (which is a list-or-tuple of lists-or-tuples-or ndarrays with different lengths or shapes) is deprecated. If you meant to do this, you must specify 'dtype=object' when creating the ndarray.\n",
            "  return asarray(a).size\n",
            "/usr/local/lib/python3.8/dist-packages/matplotlib/cbook/__init__.py:1376: VisibleDeprecationWarning: Creating an ndarray from ragged nested sequences (which is a list-or-tuple of lists-or-tuples-or ndarrays with different lengths or shapes) is deprecated. If you meant to do this, you must specify 'dtype=object' when creating the ndarray.\n",
            "  X = np.atleast_1d(X.T if isinstance(X, np.ndarray) else np.asarray(X))\n"
          ]
        },
        {
          "output_type": "execute_result",
          "data": {
            "text/plain": [
              "<matplotlib.legend.Legend at 0x7f159f8de130>"
            ]
          },
          "metadata": {},
          "execution_count": 11
        },
        {
          "output_type": "display_data",
          "data": {
            "text/plain": [
              "<Figure size 432x288 with 1 Axes>"
            ],
            "image/png": "[encoded data removed]"
          },
          "metadata": {
            "needs_background": "light"
          }
        }
      ],
      "source": [
        "tenure_churn_no = df1[df1.Churn == 'No'].tenure\n",
        "tenure_churn_yes = df1[df1.Churn == 'Yes'].tenure\n",
        "\n",
        "plt.hist([tenure_churn_yes  , tenure_churn_no] , color = ['green' , 'red'] , label = ['YES' , 'NO'])\n",
        "\n",
        "plt.xlabel('tenure')\n",
        "plt.ylabel('Number of customers')\n",
        "plt.title('Customer Churn Prediction Visualization')\n",
        "\n",
        "plt.legend()"
      ]
    },
    {
      "cell_type": "code",
      "execution_count": 12,
      "metadata": {
        "colab": {
          "base_uri": "https://localhost:8080/",
          "height": 296
        },
        "id": "wPYN2F_yr6Wz",
        "outputId": "407a83c5-ea52-4e9c-89dc-585ee955d84a"
      },
      "outputs": [
        {
          "output_type": "execute_result",
          "data": {
            "text/plain": [
              "<matplotlib.axes._subplots.AxesSubplot at 0x7f1597b7cbe0>"
            ]
          },
          "metadata": {},
          "execution_count": 12
        },
        {
          "output_type": "display_data",
          "data": {
            "text/plain": [
              "<Figure size 432x288 with 1 Axes>"
            ],
            "image/png": "[encoded data removed]"
          },
          "metadata": {
            "needs_background": "light"
          }
        }
      ],
      "source": [
        "import seaborn as sns\n",
        "sns.histplot(data = df1 , x = 'tenure', hue = 'Churn' ,  multiple=\"dodge\")"
      ]
    },
    {
      "cell_type": "markdown",
      "metadata": {
        "id": "A75YEWCSr6Wz"
      },
      "source": [
        "It can be observed that customers who are with the company for long time have less chance of leaving i.e churn = No"
      ]
    },
    {
      "cell_type": "markdown",
      "metadata": {
        "id": "8mQPm5gSr6Wz"
      },
      "source": [
        "##### Explore Monthly charges column with churn"
      ]
    },
    {
      "cell_type": "code",
      "execution_count": 13,
      "metadata": {
        "colab": {
          "base_uri": "https://localhost:8080/",
          "height": 402
        },
        "id": "TBtTcLsUr6Wz",
        "outputId": "f4816644-2807-4bec-95c1-bd5f9c38e169"
      },
      "outputs": [
        {
          "output_type": "stream",
          "name": "stderr",
          "text": [
            "/usr/local/lib/python3.8/dist-packages/numpy/core/fromnumeric.py:3208: VisibleDeprecationWarning: Creating an ndarray from ragged nested sequences (which is a list-or-tuple of lists-or-tuples-or ndarrays with different lengths or shapes) is deprecated. If you meant to do this, you must specify 'dtype=object' when creating the ndarray.\n",
            "  return asarray(a).size\n",
            "/usr/local/lib/python3.8/dist-packages/matplotlib/cbook/__init__.py:1376: VisibleDeprecationWarning: Creating an ndarray from ragged nested sequences (which is a list-or-tuple of lists-or-tuples-or ndarrays with different lengths or shapes) is deprecated. If you meant to do this, you must specify 'dtype=object' when creating the ndarray.\n",
            "  X = np.atleast_1d(X.T if isinstance(X, np.ndarray) else np.asarray(X))\n"
          ]
        },
        {
          "output_type": "execute_result",
          "data": {
            "text/plain": [
              "<matplotlib.legend.Legend at 0x7f1597af47f0>"
            ]
          },
          "metadata": {},
          "execution_count": 13
        },
        {
          "output_type": "display_data",
          "data": {
            "text/plain": [
              "<Figure size 432x288 with 1 Axes>"
            ],
            "image/png": "[encoded data removed]"
          },
          "metadata": {
            "needs_background": "light"
          }
        }
      ],
      "source": [
        "mc_churn_no = df1[df1.Churn == 'No'].MonthlyCharges\n",
        "mc_churn_yes = df1[df1.Churn == 'Yes'].MonthlyCharges\n",
        "\n",
        "plt.hist([mc_churn_yes  , mc_churn_no] , color = ['green' , 'red'] , label = ['YES' , 'NO'])\n",
        "\n",
        "plt.xlabel('Monthly Charges')\n",
        "plt.ylabel('Number of customers')\n",
        "plt.title('Customer Churn Prediction Visualization')\n",
        "\n",
        "plt.legend()"
      ]
    },
    {
      "cell_type": "code",
      "execution_count": 14,
      "metadata": {
        "colab": {
          "base_uri": "https://localhost:8080/",
          "height": 296
        },
        "id": "znw8YqzNr6W0",
        "outputId": "13d86883-b5d2-414b-b1ba-787f24ba08be"
      },
      "outputs": [
        {
          "output_type": "execute_result",
          "data": {
            "text/plain": [
              "<matplotlib.axes._subplots.AxesSubplot at 0x7f1597a0b1f0>"
            ]
          },
          "metadata": {},
          "execution_count": 14
        },
        {
          "output_type": "display_data",
          "data": {
            "text/plain": [
              "<Figure size 432x288 with 1 Axes>"
            ],
            "image/png": "[encoded data removed]"
          },
          "metadata": {
            "needs_background": "light"
          }
        }
      ],
      "source": [
        "import seaborn as sns\n",
        "sns.histplot(data = df1 , x = 'MonthlyCharges', hue = 'Churn' ,  multiple=\"dodge\")"
      ]
    },
    {
      "cell_type": "markdown",
      "metadata": {
        "id": "oRK_sbP9r6W0"
      },
      "source": [
        "#### Label Encoding of categorical columns"
      ]
    },
    {
      "cell_type": "markdown",
      "metadata": {
        "id": "RASgwRw4r6W0"
      },
      "source": [
        "##### Check unique values in columns which are of object type"
      ]
    },
    {
      "cell_type": "code",
      "execution_count": 15,
      "metadata": {
        "id": "bGfUQ7ghr6W0"
      },
      "outputs": [],
      "source": [
        "def print_unique_col_values(df) :\n",
        "  for column in df :\n",
        "    if df[column].dtypes == 'object' : \n",
        "      print(f'{column} : {df[column].unique()}')"
      ]
    },
    {
      "cell_type": "code",
      "execution_count": 16,
      "metadata": {
        "colab": {
          "base_uri": "https://localhost:8080/"
        },
        "id": "G8Wg1gBSr6W0",
        "outputId": "897014ac-69c6-464a-ce14-a90d153ba95a"
      },
      "outputs": [
        {
          "output_type": "stream",
          "name": "stdout",
          "text": [
            "gender : ['Female' 'Male']\n",
            "Partner : ['Yes' 'No']\n",
            "Dependents : ['No' 'Yes']\n",
            "PhoneService : ['No' 'Yes']\n",
            "MultipleLines : ['No phone service' 'No' 'Yes']\n",
            "InternetService : ['DSL' 'Fiber optic' 'No']\n",
            "OnlineSecurity : ['No' 'Yes' 'No internet service']\n",
            "OnlineBackup : ['Yes' 'No' 'No internet service']\n",
            "DeviceProtection : ['No' 'Yes' 'No internet service']\n",
            "TechSupport : ['No' 'Yes' 'No internet service']\n",
            "StreamingTV : ['No' 'Yes' 'No internet service']\n",
            "StreamingMovies : ['No' 'Yes' 'No internet service']\n",
            "Contract : ['Month-to-month' 'One year' 'Two year']\n",
            "PaperlessBilling : ['Yes' 'No']\n",
            "PaymentMethod : ['Electronic check' 'Mailed check' 'Bank transfer (automatic)'\n",
            " 'Credit card (automatic)']\n",
            "Churn : ['No' 'Yes']\n"
          ]
        }
      ],
      "source": [
        "print_unique_col_values(df1)"
      ]
    },
    {
      "cell_type": "markdown",
      "metadata": {
        "id": "_ekc4M4dr6W1"
      },
      "source": [
        "#### Values like No internet service / No phone service replace with No"
      ]
    },
    {
      "cell_type": "code",
      "execution_count": 17,
      "metadata": {
        "colab": {
          "base_uri": "https://localhost:8080/"
        },
        "id": "-JnHzA0Mr6W1",
        "outputId": "28e06d28-a014-4737-8fd7-e3d124352dc7"
      },
      "outputs": [
        {
          "output_type": "stream",
          "name": "stdout",
          "text": [
            "gender : ['Female' 'Male']\n",
            "Partner : ['Yes' 'No']\n",
            "Dependents : ['No' 'Yes']\n",
            "PhoneService : ['No' 'Yes']\n",
            "MultipleLines : ['No' 'Yes']\n",
            "InternetService : ['DSL' 'Fiber optic' 'No']\n",
            "OnlineSecurity : ['No' 'Yes']\n",
            "OnlineBackup : ['Yes' 'No']\n",
            "DeviceProtection : ['No' 'Yes']\n",
            "TechSupport : ['No' 'Yes']\n",
            "StreamingTV : ['No' 'Yes']\n",
            "StreamingMovies : ['No' 'Yes']\n",
            "Contract : ['Month-to-month' 'One year' 'Two year']\n",
            "PaperlessBilling : ['Yes' 'No']\n",
            "PaymentMethod : ['Electronic check' 'Mailed check' 'Bank transfer (automatic)'\n",
            " 'Credit card (automatic)']\n",
            "Churn : ['No' 'Yes']\n"
          ]
        }
      ],
      "source": [
        "df1 = df1.replace('No internet service' , 'No')\n",
        "df1 = df1.replace('No phone service' , 'No')\n",
        "\n",
        "print_unique_col_values(df1)"
      ]
    },
    {
      "cell_type": "markdown",
      "metadata": {
        "id": "GkgJNANAr6W1"
      },
      "source": [
        "#### Replace Yes , No with 1 , 0 . Also replace Female , Male 1 , 0"
      ]
    },
    {
      "cell_type": "code",
      "execution_count": 18,
      "metadata": {
        "id": "bKzgnhVdr6W1"
      },
      "outputs": [],
      "source": [
        "yes_no_columns = ['Partner' , 'Dependents' , 'PhoneService' , 'MultipleLines' , 'OnlineSecurity' , 'OnlineBackup' , 'DeviceProtection' , 'TechSupport' , 'StreamingTV' , 'StreamingMovies' , 'PaperlessBilling' , 'Churn']\n",
        "\n",
        "for col in yes_no_columns : \n",
        "  df1[col] = df1[col].replace({'Yes' : 1 , 'No' : 0})\n",
        "  \n",
        "df1['gender'] = df1['gender'].replace({'Female' : 1 , 'Male' : 0})"
      ]
    },
    {
      "cell_type": "code",
      "execution_count": 19,
      "metadata": {
        "colab": {
          "base_uri": "https://localhost:8080/"
        },
        "id": "HSy1s1eYr6W1",
        "outputId": "b9e610e4-78ab-4640-8059-b686dad5729b"
      },
      "outputs": [
        {
          "output_type": "stream",
          "name": "stdout",
          "text": [
            "gender : [1 0]\n",
            "SeniorCitizen : [0 1]\n",
            "Partner : [1 0]\n",
            "Dependents : [0 1]\n",
            "tenure : [ 1 34  2 45  8 22 10 28 62 13 16 58 49 25 69 52 71 21 12 30 47 72 17 27\n",
            "  5 46 11 70 63 43 15 60 18 66  9  3 31 50 64 56  7 42 35 48 29 65 38 68\n",
            " 32 55 37 36 41  6  4 33 67 23 57 61 14 20 53 40 59 24 44 19 54 51 26 39]\n",
            "PhoneService : [0 1]\n",
            "MultipleLines : [0 1]\n",
            "InternetService : ['DSL' 'Fiber optic' 'No']\n",
            "OnlineSecurity : [0 1]\n",
            "OnlineBackup : [1 0]\n",
            "DeviceProtection : [0 1]\n",
            "TechSupport : [0 1]\n",
            "StreamingTV : [0 1]\n",
            "StreamingMovies : [0 1]\n",
            "Contract : ['Month-to-month' 'One year' 'Two year']\n",
            "PaperlessBilling : [1 0]\n",
            "PaymentMethod : ['Electronic check' 'Mailed check' 'Bank transfer (automatic)'\n",
            " 'Credit card (automatic)']\n",
            "MonthlyCharges : [29.85 56.95 53.85 ... 63.1  44.2  78.7 ]\n",
            "TotalCharges : [  29.85 1889.5   108.15 ...  346.45  306.6  6844.5 ]\n",
            "Churn : [0 1]\n"
          ]
        }
      ],
      "source": [
        "for column in df1 : \n",
        "  print(f'{column} : {df1[column].unique()}')"
      ]
    },
    {
      "cell_type": "markdown",
      "metadata": {
        "id": "b4NkYkNqr6W1"
      },
      "source": [
        "#### One hot encoding of categorical columns also drop first category to avoid dummy variable trap"
      ]
    },
    {
      "cell_type": "code",
      "execution_count": 20,
      "metadata": {
        "colab": {
          "base_uri": "https://localhost:8080/"
        },
        "id": "SPiNzevRr6W2",
        "outputId": "8145b4b5-8dd6-41dc-fe9a-31f599e23966"
      },
      "outputs": [
        {
          "output_type": "execute_result",
          "data": {
            "text/plain": [
              "gender                                     int64\n",
              "SeniorCitizen                              int64\n",
              "Partner                                    int64\n",
              "Dependents                                 int64\n",
              "tenure                                     int64\n",
              "PhoneService                               int64\n",
              "MultipleLines                              int64\n",
              "OnlineSecurity                             int64\n",
              "OnlineBackup                               int64\n",
              "DeviceProtection                           int64\n",
              "TechSupport                                int64\n",
              "StreamingTV                                int64\n",
              "StreamingMovies                            int64\n",
              "PaperlessBilling                           int64\n",
              "MonthlyCharges                           float64\n",
              "TotalCharges                             float64\n",
              "Churn                                      int64\n",
              "InternetService_Fiber optic                uint8\n",
              "InternetService_No                         uint8\n",
              "Contract_One year                          uint8\n",
              "Contract_Two year                          uint8\n",
              "PaymentMethod_Credit card (automatic)      uint8\n",
              "PaymentMethod_Electronic check             uint8\n",
              "PaymentMethod_Mailed check                 uint8\n",
              "dtype: object"
            ]
          },
          "metadata": {},
          "execution_count": 20
        }
      ],
      "source": [
        "df2 = pd.get_dummies(data = df1 , columns = ['InternetService' , 'Contract' , 'PaymentMethod'] , drop_first = True)\n",
        "\n",
        "df2.dtypes"
      ]
    },
    {
      "cell_type": "markdown",
      "metadata": {
        "id": "o_W5bXOAr6W2"
      },
      "source": [
        "Now all columns are either integer or float, no more categorical columns"
      ]
    },
    {
      "cell_type": "markdown",
      "metadata": {
        "id": "URlisn0Tr6W2"
      },
      "source": [
        "### Perform scaling of columns and try and make them in range 0 to 1 to improve model"
      ]
    },
    {
      "cell_type": "code",
      "execution_count": 21,
      "metadata": {
        "colab": {
          "base_uri": "https://localhost:8080/",
          "height": 317
        },
        "id": "FWTSx1TGr6W2",
        "outputId": "b9448f1d-232e-4b5e-8ff8-509ad2bded7e"
      },
      "outputs": [
        {
          "output_type": "execute_result",
          "data": {
            "text/plain": [
              "   gender  SeniorCitizen  Partner  Dependents    tenure  PhoneService  \\\n",
              "0       1              0        1           0  0.000000             0   \n",
              "1       0              0        0           0  0.464789             1   \n",
              "2       0              0        0           0  0.014085             1   \n",
              "3       0              0        0           0  0.619718             0   \n",
              "4       1              0        0           0  0.014085             1   \n",
              "\n",
              "   MultipleLines  OnlineSecurity  OnlineBackup  DeviceProtection  ...  \\\n",
              "0              0               0             1                 0  ...   \n",
              "1              0               1             0                 1  ...   \n",
              "2              0               1             1                 0  ...   \n",
              "3              0               1             0                 1  ...   \n",
              "4              0               0             0                 0  ...   \n",
              "\n",
              "   MonthlyCharges  TotalCharges  Churn  InternetService_Fiber optic  \\\n",
              "0        0.115423      0.001275      0                            0   \n",
              "1        0.385075      0.215867      0                            0   \n",
              "2        0.354229      0.010310      1                            0   \n",
              "3        0.239303      0.210241      0                            0   \n",
              "4        0.521891      0.015330      1                            1   \n",
              "\n",
              "   InternetService_No  Contract_One year  Contract_Two year  \\\n",
              "0                   0                  0                  0   \n",
              "1                   0                  1                  0   \n",
              "2                   0                  0                  0   \n",
              "3                   0                  1                  0   \n",
              "4                   0                  0                  0   \n",
              "\n",
              "   PaymentMethod_Credit card (automatic)  PaymentMethod_Electronic check  \\\n",
              "0                                      0                               1   \n",
              "1                                      0                               0   \n",
              "2                                      0                               0   \n",
              "3                                      0                               0   \n",
              "4                                      0                               1   \n",
              "\n",
              "   PaymentMethod_Mailed check  \n",
              "0                           0  \n",
              "1                           1  \n",
              "2                           1  \n",
              "3                           0  \n",
              "4                           0  \n",
              "\n",
              "[5 rows x 24 columns]"
            ],
            "text/html": [
              "\n",
              "  <div id=\"df-ae05b70e-aa4b-4cf2-973a-9bfd264d6d94\">\n",
              "    <div class=\"colab-df-container\">\n",
              "      <div>\n",
              "<style scoped>\n",
              "    .dataframe tbody tr th:only-of-type {\n",
              "        vertical-align: middle;\n",
              "    }\n",
              "\n",
              "    .dataframe tbody tr th {\n",
              "        vertical-align: top;\n",
              "    }\n",
              "\n",
              "    .dataframe thead th {\n",
              "        text-align: right;\n",
              "    }\n",
              "</style>\n",
              "<table border=\"1\" class=\"dataframe\">\n",
              "  <thead>\n",
              "    <tr style=\"text-align: right;\">\n",
              "      <th></th>\n",
              "      <th>gender</th>\n",
              "      <th>SeniorCitizen</th>\n",
              "      <th>Partner</th>\n",
              "      <th>Dependents</th>\n",
              "      <th>tenure</th>\n",
              "      <th>PhoneService</th>\n",
              "      <th>MultipleLines</th>\n",
              "      <th>OnlineSecurity</th>\n",
              "      <th>OnlineBackup</th>\n",
              "      <th>DeviceProtection</th>\n",
              "      <th>...</th>\n",
              "      <th>MonthlyCharges</th>\n",
              "      <th>TotalCharges</th>\n",
              "      <th>Churn</th>\n",
              "      <th>InternetService_Fiber optic</th>\n",
              "      <th>InternetService_No</th>\n",
              "      <th>Contract_One year</th>\n",
              "      <th>Contract_Two year</th>\n",
              "      <th>PaymentMethod_Credit card (automatic)</th>\n",
              "      <th>PaymentMethod_Electronic check</th>\n",
              "      <th>PaymentMethod_Mailed check</th>\n",
              "    </tr>\n",
              "  </thead>\n",
              "  <tbody>\n",
              "    <tr>\n",
              "      <th>0</th>\n",
              "      <td>1</td>\n",
              "      <td>0</td>\n",
              "      <td>1</td>\n",
              "      <td>0</td>\n",
              "      <td>0.000000</td>\n",
              "      <td>0</td>\n",
              "      <td>0</td>\n",
              "      <td>0</td>\n",
              "      <td>1</td>\n",
              "      <td>0</td>\n",
              "      <td>...</td>\n",
              "      <td>0.115423</td>\n",
              "      <td>0.001275</td>\n",
              "      <td>0</td>\n",
              "      <td>0</td>\n",
              "      <td>0</td>\n",
              "      <td>0</td>\n",
              "      <td>0</td>\n",
              "      <td>0</td>\n",
              "      <td>1</td>\n",
              "      <td>0</td>\n",
              "    </tr>\n",
              "    <tr>\n",
              "      <th>1</th>\n",
              "      <td>0</td>\n",
              "      <td>0</td>\n",
              "      <td>0</td>\n",
              "      <td>0</td>\n",
              "      <td>0.464789</td>\n",
              "      <td>1</td>\n",
              "      <td>0</td>\n",
              "      <td>1</td>\n",
              "      <td>0</td>\n",
              "      <td>1</td>\n",
              "      <td>...</td>\n",
              "      <td>0.385075</td>\n",
              "      <td>0.215867</td>\n",
              "      <td>0</td>\n",
              "      <td>0</td>\n",
              "      <td>0</td>\n",
              "      <td>1</td>\n",
              "      <td>0</td>\n",
              "      <td>0</td>\n",
              "      <td>0</td>\n",
              "      <td>1</td>\n",
              "    </tr>\n",
              "    <tr>\n",
              "      <th>2</th>\n",
              "      <td>0</td>\n",
              "      <td>0</td>\n",
              "      <td>0</td>\n",
              "      <td>0</td>\n",
              "      <td>0.014085</td>\n",
              "      <td>1</td>\n",
              "      <td>0</td>\n",
              "      <td>1</td>\n",
              "      <td>1</td>\n",
              "      <td>0</td>\n",
              "      <td>...</td>\n",
              "      <td>0.354229</td>\n",
              "      <td>0.010310</td>\n",
              "      <td>1</td>\n",
              "      <td>0</td>\n",
              "      <td>0</td>\n",
              "      <td>0</td>\n",
              "      <td>0</td>\n",
              "      <td>0</td>\n",
              "      <td>0</td>\n",
              "      <td>1</td>\n",
              "    </tr>\n",
              "    <tr>\n",
              "      <th>3</th>\n",
              "      <td>0</td>\n",
              "      <td>0</td>\n",
              "      <td>0</td>\n",
              "      <td>0</td>\n",
              "      <td>0.619718</td>\n",
              "      <td>0</td>\n",
              "      <td>0</td>\n",
              "      <td>1</td>\n",
              "      <td>0</td>\n",
              "      <td>1</td>\n",
              "      <td>...</td>\n",
              "      <td>0.239303</td>\n",
              "      <td>0.210241</td>\n",
              "      <td>0</td>\n",
              "      <td>0</td>\n",
              "      <td>0</td>\n",
              "      <td>1</td>\n",
              "      <td>0</td>\n",
              "      <td>0</td>\n",
              "      <td>0</td>\n",
              "      <td>0</td>\n",
              "    </tr>\n",
              "    <tr>\n",
              "      <th>4</th>\n",
              "      <td>1</td>\n",
              "      <td>0</td>\n",
              "      <td>0</td>\n",
              "      <td>0</td>\n",
              "      <td>0.014085</td>\n",
              "      <td>1</td>\n",
              "      <td>0</td>\n",
              "      <td>0</td>\n",
              "      <td>0</td>\n",
              "      <td>0</td>\n",
              "      <td>...</td>\n",
              "      <td>0.521891</td>\n",
              "      <td>0.015330</td>\n",
              "      <td>1</td>\n",
              "      <td>1</td>\n",
              "      <td>0</td>\n",
              "      <td>0</td>\n",
              "      <td>0</td>\n",
              "      <td>0</td>\n",
              "      <td>1</td>\n",
              "      <td>0</td>\n",
              "    </tr>\n",
              "  </tbody>\n",
              "</table>\n",
              "<p>5 rows × 24 columns</p>\n",
              "</div>\n",
              "      <button class=\"colab-df-convert\" onclick=\"convertToInteractive('df-ae05b70e-aa4b-4cf2-973a-9bfd264d6d94')\"\n",
              "              title=\"Convert this dataframe to an interactive table.\"\n",
              "              style=\"display:none;\">\n",
              "        \n",
              "  <svg xmlns=\"http://www.w3.org/2000/svg\" height=\"24px\"viewBox=\"0 0 24 24\"\n",
              "       width=\"24px\">\n",
              "    <path d=\"M0 0h24v24H0V0z\" fill=\"none\"/>\n",
              "    <path d=\"M18.56 5.44l.94 2.06.94-2.06 2.06-.94-2.06-.94-.94-2.06-.94 2.06-2.06.94zm-11 1L8.5 8.5l.94-2.06 2.06-.94-2.06-.94L8.5 2.5l-.94 2.06-2.06.94zm10 10l.94 2.06.94-2.06 2.06-.94-2.06-.94-.94-2.06-.94 2.06-2.06.94z\"/><path d=\"M17.41 7.96l-1.37-1.37c-.4-.4-.92-.59-1.43-.59-.52 0-1.04.2-1.43.59L10.3 9.45l-7.72 7.72c-.78.78-.78 2.05 0 2.83L4 21.41c.39.39.9.59 1.41.59.51 0 1.02-.2 1.41-.59l7.78-7.78 2.81-2.81c.8-.78.8-2.07 0-2.86zM5.41 20L4 18.59l7.72-7.72 1.47 1.35L5.41 20z\"/>\n",
              "  </svg>\n",
              "      </button>\n",
              "      \n",
              "  <style>\n",
              "    .colab-df-container {\n",
              "      display:flex;\n",
              "      flex-wrap:wrap;\n",
              "      gap: 12px;\n",
              "    }\n",
              "\n",
              "    .colab-df-convert {\n",
              "      background-color: #E8F0FE;\n",
              "      border: none;\n",
              "      border-radius: 50%;\n",
              "      cursor: pointer;\n",
              "      display: none;\n",
              "      fill: #1967D2;\n",
              "      height: 32px;\n",
              "      padding: 0 0 0 0;\n",
              "      width: 32px;\n",
              "    }\n",
              "\n",
              "    .colab-df-convert:hover {\n",
              "      background-color: #E2EBFA;\n",
              "      box-shadow: 0px 1px 2px rgba(60, 64, 67, 0.3), 0px 1px 3px 1px rgba(60, 64, 67, 0.15);\n",
              "      fill: #174EA6;\n",
              "    }\n",
              "\n",
              "    [theme=dark] .colab-df-convert {\n",
              "      background-color: #3B4455;\n",
              "      fill: #D2E3FC;\n",
              "    }\n",
              "\n",
              "    [theme=dark] .colab-df-convert:hover {\n",
              "      background-color: #434B5C;\n",
              "      box-shadow: 0px 1px 3px 1px rgba(0, 0, 0, 0.15);\n",
              "      filter: drop-shadow(0px 1px 2px rgba(0, 0, 0, 0.3));\n",
              "      fill: #FFFFFF;\n",
              "    }\n",
              "  </style>\n",
              "\n",
              "      <script>\n",
              "        const buttonEl =\n",
              "          document.querySelector('#df-ae05b70e-aa4b-4cf2-973a-9bfd264d6d94 button.colab-df-convert');\n",
              "        buttonEl.style.display =\n",
              "          google.colab.kernel.accessAllowed ? 'block' : 'none';\n",
              "\n",
              "        async function convertToInteractive(key) {\n",
              "          const element = document.querySelector('#df-ae05b70e-aa4b-4cf2-973a-9bfd264d6d94');\n",
              "          const dataTable =\n",
              "            await google.colab.kernel.invokeFunction('convertToInteractive',\n",
              "                                                     [key], {});\n",
              "          if (!dataTable) return;\n",
              "\n",
              "          const docLinkHtml = 'Like what you see? Visit the ' +\n",
              "            '<a target=\"_blank\" href=https://colab.research.google.com/notebooks/data_table.ipynb>data table notebook</a>'\n",
              "            + ' to learn more about interactive tables.';\n",
              "          element.innerHTML = '';\n",
              "          dataTable['output_type'] = 'display_data';\n",
              "          await google.colab.output.renderOutput(dataTable, element);\n",
              "          const docLink = document.createElement('div');\n",
              "          docLink.innerHTML = docLinkHtml;\n",
              "          element.appendChild(docLink);\n",
              "        }\n",
              "      </script>\n",
              "    </div>\n",
              "  </div>\n",
              "  "
            ]
          },
          "metadata": {},
          "execution_count": 21
        }
      ],
      "source": [
        "cols_to_scale = ['tenure' , 'MonthlyCharges' , 'TotalCharges']\n",
        "\n",
        "from sklearn.preprocessing import MinMaxScaler\n",
        "scaler = MinMaxScaler()\n",
        "\n",
        "df2[cols_to_scale] = scaler.fit_transform(df2[cols_to_scale])\n",
        "\n",
        "df2.head()"
      ]
    },
    {
      "cell_type": "markdown",
      "metadata": {
        "id": "uh78pAErr6W2"
      },
      "source": [
        "### Split dependent and independent features and split the data into test and train"
      ]
    },
    {
      "cell_type": "code",
      "execution_count": 22,
      "metadata": {
        "id": "ig4P3TYCr6W2"
      },
      "outputs": [],
      "source": [
        "X = df2.drop('Churn' , axis = 1)\n",
        "y = df2['Churn']"
      ]
    },
    {
      "cell_type": "code",
      "execution_count": 23,
      "metadata": {
        "id": "pFNTGMHbr6W2"
      },
      "outputs": [],
      "source": [
        "from sklearn.model_selection import train_test_split\n",
        "X_train , X_test , y_train , y_test = train_test_split(X , y , test_size = 0.2 , random_state = 15)"
      ]
    },
    {
      "cell_type": "code",
      "execution_count": 24,
      "metadata": {
        "colab": {
          "base_uri": "https://localhost:8080/"
        },
        "id": "Vfwwz1KCr6W3",
        "outputId": "b7274d57-380d-407f-ad49-ef15a98b2dc4"
      },
      "outputs": [
        {
          "output_type": "execute_result",
          "data": {
            "text/plain": [
              "(5625, 23)"
            ]
          },
          "metadata": {},
          "execution_count": 24
        }
      ],
      "source": [
        "X_train.shape"
      ]
    },
    {
      "cell_type": "code",
      "execution_count": 25,
      "metadata": {
        "colab": {
          "base_uri": "https://localhost:8080/"
        },
        "id": "0HgaNs5Vr6W3",
        "outputId": "a9c2a0ac-81a5-444d-d221-bfc4db01be3f"
      },
      "outputs": [
        {
          "output_type": "execute_result",
          "data": {
            "text/plain": [
              "(1407, 23)"
            ]
          },
          "metadata": {},
          "execution_count": 25
        }
      ],
      "source": [
        "X_test.shape"
      ]
    },
    {
      "cell_type": "markdown",
      "metadata": {
        "id": "YD8jwY59r6W3"
      },
      "source": [
        "### Creating ANN"
      ]
    },
    {
      "cell_type": "code",
      "source": [
        "pip install tensorflow_addons"
      ],
      "metadata": {
        "colab": {
          "base_uri": "https://localhost:8080/"
        },
        "id": "PvyXHNkntBn9",
        "outputId": "a9c23859-bb95-4fae-96e1-158497bf7593"
      },
      "execution_count": 26,
      "outputs": [
        {
          "output_type": "stream",
          "name": "stdout",
          "text": [
            "Looking in indexes: https://pypi.org/simple, https://us-python.pkg.dev/colab-wheels/public/simple/\n",
            "Requirement already satisfied: tensorflow_addons in /usr/local/lib/python3.8/dist-packages (0.19.0)\n",
            "Requirement already satisfied: packaging in /usr/local/lib/python3.8/dist-packages (from tensorflow_addons) (21.3)\n",
            "Requirement already satisfied: typeguard>=2.7 in /usr/local/lib/python3.8/dist-packages (from tensorflow_addons) (2.7.1)\n",
            "Requirement already satisfied: pyparsing!=3.0.5,>=2.0.2 in /usr/local/lib/python3.8/dist-packages (from packaging->tensorflow_addons) (3.0.9)\n"
          ]
        }
      ]
    },
    {
      "cell_type": "code",
      "source": [
        "from tensorflow_addons import losses"
      ],
      "metadata": {
        "id": "gzReGZeAsWvp"
      },
      "execution_count": 27,
      "outputs": []
    },
    {
      "cell_type": "code",
      "source": [
        "import tensorflow as tf\n",
        "from tensorflow import keras\n",
        "from sklearn.metrics import confusion_matrix , classification_report"
      ],
      "metadata": {
        "id": "xsrLgB9isYN2"
      },
      "execution_count": 28,
      "outputs": []
    },
    {
      "cell_type": "code",
      "execution_count": 29,
      "metadata": {
        "id": "NbayGO87r6W5"
      },
      "outputs": [],
      "source": [
        "def ANN(X_train, y_train, X_test, y_test, loss, weights):\n",
        "    model = keras.Sequential([\n",
        "        keras.layers.Dense(26, input_dim= X_train.shape[1], activation='relu'),\n",
        "        keras.layers.Dense(15, activation='relu'),\n",
        "        keras.layers.Dense(1, activation='sigmoid')\n",
        "    ])\n",
        "\n",
        "    model.compile(optimizer='adam', loss=loss, metrics=['accuracy'])\n",
        "    \n",
        "    if weights == -1:\n",
        "        model.fit(X_train, y_train, epochs=100)\n",
        "    else:\n",
        "        model.fit(X_train, y_train, epochs=100, class_weight = weights)\n",
        "    \n",
        "    print(model.evaluate(X_test, y_test))\n",
        "    \n",
        "    y_preds = model.predict(X_test)\n",
        "    y_preds = np.round(y_preds)\n",
        "    \n",
        "    print(\"Classification Report: \\n\", classification_report(y_test, y_preds))\n",
        "    \n",
        "    return y_preds"
      ]
    },
    {
      "cell_type": "code",
      "source": [
        "y_preds = ANN(X_train, y_train, X_test, y_test, 'binary_crossentropy', -1)"
      ],
      "metadata": {
        "colab": {
          "base_uri": "https://localhost:8080/"
        },
        "id": "nca5WnuZsizs",
        "outputId": "31c8b253-0fc6-487e-b4ae-8d7726224088"
      },
      "execution_count": 30,
      "outputs": [
        {
          "output_type": "stream",
          "name": "stdout",
          "text": [
            "Epoch 1/100\n",
            "176/176 [==============================] - 2s 3ms/step - loss: 0.5440 - accuracy: 0.7365\n",
            "Epoch 2/100\n",
            "176/176 [==============================] - 1s 3ms/step - loss: 0.4330 - accuracy: 0.7924\n",
            "Epoch 3/100\n",
            "176/176 [==============================] - 1s 3ms/step - loss: 0.4214 - accuracy: 0.8004\n",
            "Epoch 4/100\n",
            "176/176 [==============================] - 1s 3ms/step - loss: 0.4191 - accuracy: 0.8011\n",
            "Epoch 5/100\n",
            "176/176 [==============================] - 1s 3ms/step - loss: 0.4176 - accuracy: 0.8034\n",
            "Epoch 6/100\n",
            "176/176 [==============================] - 1s 3ms/step - loss: 0.4148 - accuracy: 0.8066\n",
            "Epoch 7/100\n",
            "176/176 [==============================] - 0s 3ms/step - loss: 0.4138 - accuracy: 0.8059\n",
            "Epoch 8/100\n",
            "176/176 [==============================] - 1s 3ms/step - loss: 0.4128 - accuracy: 0.8055\n",
            "Epoch 9/100\n",
            "176/176 [==============================] - 0s 3ms/step - loss: 0.4105 - accuracy: 0.8059\n",
            "Epoch 10/100\n",
            "176/176 [==============================] - 0s 3ms/step - loss: 0.4099 - accuracy: 0.8075\n",
            "Epoch 11/100\n",
            "176/176 [==============================] - 1s 7ms/step - loss: 0.4076 - accuracy: 0.8096\n",
            "Epoch 12/100\n",
            "176/176 [==============================] - 1s 8ms/step - loss: 0.4084 - accuracy: 0.8069\n",
            "Epoch 13/100\n",
            "176/176 [==============================] - 1s 5ms/step - loss: 0.4074 - accuracy: 0.8055\n",
            "Epoch 14/100\n",
            "176/176 [==============================] - 1s 5ms/step - loss: 0.4049 - accuracy: 0.8114\n",
            "Epoch 15/100\n",
            "176/176 [==============================] - 1s 4ms/step - loss: 0.4042 - accuracy: 0.8107\n",
            "Epoch 16/100\n",
            "176/176 [==============================] - 1s 5ms/step - loss: 0.4039 - accuracy: 0.8108\n",
            "Epoch 17/100\n",
            "176/176 [==============================] - 1s 5ms/step - loss: 0.4031 - accuracy: 0.8103\n",
            "Epoch 18/100\n",
            "176/176 [==============================] - 1s 6ms/step - loss: 0.4021 - accuracy: 0.8140\n",
            "Epoch 19/100\n",
            "176/176 [==============================] - 1s 5ms/step - loss: 0.4023 - accuracy: 0.8121\n",
            "Epoch 20/100\n",
            "176/176 [==============================] - 1s 5ms/step - loss: 0.4019 - accuracy: 0.8124\n",
            "Epoch 21/100\n",
            "176/176 [==============================] - 1s 5ms/step - loss: 0.3999 - accuracy: 0.8132\n",
            "Epoch 22/100\n",
            "176/176 [==============================] - 1s 5ms/step - loss: 0.3991 - accuracy: 0.8151\n",
            "Epoch 23/100\n",
            "176/176 [==============================] - 1s 5ms/step - loss: 0.3982 - accuracy: 0.8148\n",
            "Epoch 24/100\n",
            "176/176 [==============================] - 1s 5ms/step - loss: 0.3981 - accuracy: 0.8158\n",
            "Epoch 25/100\n",
            "176/176 [==============================] - 1s 4ms/step - loss: 0.3976 - accuracy: 0.8117\n",
            "Epoch 26/100\n",
            "176/176 [==============================] - 1s 4ms/step - loss: 0.3969 - accuracy: 0.8180\n",
            "Epoch 27/100\n",
            "176/176 [==============================] - 1s 4ms/step - loss: 0.3962 - accuracy: 0.8156\n",
            "Epoch 28/100\n",
            "176/176 [==============================] - 1s 4ms/step - loss: 0.3947 - accuracy: 0.8164\n",
            "Epoch 29/100\n",
            "176/176 [==============================] - 1s 5ms/step - loss: 0.3952 - accuracy: 0.8162\n",
            "Epoch 30/100\n",
            "176/176 [==============================] - 1s 4ms/step - loss: 0.3952 - accuracy: 0.8148\n",
            "Epoch 31/100\n",
            "176/176 [==============================] - 1s 4ms/step - loss: 0.3935 - accuracy: 0.8165\n",
            "Epoch 32/100\n",
            "176/176 [==============================] - 1s 5ms/step - loss: 0.3930 - accuracy: 0.8171\n",
            "Epoch 33/100\n",
            "176/176 [==============================] - 1s 5ms/step - loss: 0.3931 - accuracy: 0.8162\n",
            "Epoch 34/100\n",
            "176/176 [==============================] - 1s 4ms/step - loss: 0.3919 - accuracy: 0.8196\n",
            "Epoch 35/100\n",
            "176/176 [==============================] - 1s 4ms/step - loss: 0.3920 - accuracy: 0.8192\n",
            "Epoch 36/100\n",
            "176/176 [==============================] - 1s 4ms/step - loss: 0.3914 - accuracy: 0.8183\n",
            "Epoch 37/100\n",
            "176/176 [==============================] - 1s 5ms/step - loss: 0.3904 - accuracy: 0.8219\n",
            "Epoch 38/100\n",
            "176/176 [==============================] - 1s 5ms/step - loss: 0.3896 - accuracy: 0.8188\n",
            "Epoch 39/100\n",
            "176/176 [==============================] - 1s 4ms/step - loss: 0.3892 - accuracy: 0.8187\n",
            "Epoch 40/100\n",
            "176/176 [==============================] - 0s 3ms/step - loss: 0.3884 - accuracy: 0.8217\n",
            "Epoch 41/100\n",
            "176/176 [==============================] - 1s 3ms/step - loss: 0.3885 - accuracy: 0.8183\n",
            "Epoch 42/100\n",
            "176/176 [==============================] - 1s 3ms/step - loss: 0.3889 - accuracy: 0.8187\n",
            "Epoch 43/100\n",
            "176/176 [==============================] - 1s 3ms/step - loss: 0.3875 - accuracy: 0.8212\n",
            "Epoch 44/100\n",
            "176/176 [==============================] - 0s 3ms/step - loss: 0.3877 - accuracy: 0.8210\n",
            "Epoch 45/100\n",
            "176/176 [==============================] - 0s 3ms/step - loss: 0.3853 - accuracy: 0.8203\n",
            "Epoch 46/100\n",
            "176/176 [==============================] - 0s 3ms/step - loss: 0.3851 - accuracy: 0.8206\n",
            "Epoch 47/100\n",
            "176/176 [==============================] - 0s 3ms/step - loss: 0.3863 - accuracy: 0.8226\n",
            "Epoch 48/100\n",
            "176/176 [==============================] - 0s 3ms/step - loss: 0.3851 - accuracy: 0.8206\n",
            "Epoch 49/100\n",
            "176/176 [==============================] - 0s 3ms/step - loss: 0.3853 - accuracy: 0.8240\n",
            "Epoch 50/100\n",
            "176/176 [==============================] - 0s 3ms/step - loss: 0.3843 - accuracy: 0.8213\n",
            "Epoch 51/100\n",
            "176/176 [==============================] - 0s 3ms/step - loss: 0.3842 - accuracy: 0.8204\n",
            "Epoch 52/100\n",
            "176/176 [==============================] - 0s 3ms/step - loss: 0.3838 - accuracy: 0.8212\n",
            "Epoch 53/100\n",
            "176/176 [==============================] - 0s 3ms/step - loss: 0.3829 - accuracy: 0.8220\n",
            "Epoch 54/100\n",
            "176/176 [==============================] - 0s 3ms/step - loss: 0.3830 - accuracy: 0.8204\n",
            "Epoch 55/100\n",
            "176/176 [==============================] - 0s 3ms/step - loss: 0.3821 - accuracy: 0.8220\n",
            "Epoch 56/100\n",
            "176/176 [==============================] - 0s 3ms/step - loss: 0.3804 - accuracy: 0.8212\n",
            "Epoch 57/100\n",
            "176/176 [==============================] - 1s 3ms/step - loss: 0.3815 - accuracy: 0.8231\n",
            "Epoch 58/100\n",
            "176/176 [==============================] - 0s 3ms/step - loss: 0.3815 - accuracy: 0.8183\n",
            "Epoch 59/100\n",
            "176/176 [==============================] - 0s 3ms/step - loss: 0.3809 - accuracy: 0.8217\n",
            "Epoch 60/100\n",
            "176/176 [==============================] - 1s 3ms/step - loss: 0.3797 - accuracy: 0.8272\n",
            "Epoch 61/100\n",
            "176/176 [==============================] - 0s 3ms/step - loss: 0.3796 - accuracy: 0.8219\n",
            "Epoch 62/100\n",
            "176/176 [==============================] - 0s 3ms/step - loss: 0.3792 - accuracy: 0.8245\n",
            "Epoch 63/100\n",
            "176/176 [==============================] - 0s 3ms/step - loss: 0.3790 - accuracy: 0.8210\n",
            "Epoch 64/100\n",
            "176/176 [==============================] - 0s 3ms/step - loss: 0.3784 - accuracy: 0.8236\n",
            "Epoch 65/100\n",
            "176/176 [==============================] - 0s 3ms/step - loss: 0.3773 - accuracy: 0.8244\n",
            "Epoch 66/100\n",
            "176/176 [==============================] - 0s 3ms/step - loss: 0.3776 - accuracy: 0.8222\n",
            "Epoch 67/100\n",
            "176/176 [==============================] - 1s 3ms/step - loss: 0.3781 - accuracy: 0.8217\n",
            "Epoch 68/100\n",
            "176/176 [==============================] - 0s 3ms/step - loss: 0.3771 - accuracy: 0.8244\n",
            "Epoch 69/100\n",
            "176/176 [==============================] - 0s 3ms/step - loss: 0.3765 - accuracy: 0.8235\n",
            "Epoch 70/100\n",
            "176/176 [==============================] - 0s 3ms/step - loss: 0.3758 - accuracy: 0.8251\n",
            "Epoch 71/100\n",
            "176/176 [==============================] - 0s 3ms/step - loss: 0.3762 - accuracy: 0.8233\n",
            "Epoch 72/100\n",
            "176/176 [==============================] - 0s 3ms/step - loss: 0.3760 - accuracy: 0.8233\n",
            "Epoch 73/100\n",
            "176/176 [==============================] - 0s 3ms/step - loss: 0.3758 - accuracy: 0.8236\n",
            "Epoch 74/100\n",
            "176/176 [==============================] - 0s 3ms/step - loss: 0.3753 - accuracy: 0.8233\n",
            "Epoch 75/100\n",
            "176/176 [==============================] - 0s 3ms/step - loss: 0.3746 - accuracy: 0.8251\n",
            "Epoch 76/100\n",
            "176/176 [==============================] - 0s 3ms/step - loss: 0.3744 - accuracy: 0.8236\n",
            "Epoch 77/100\n",
            "176/176 [==============================] - 0s 3ms/step - loss: 0.3741 - accuracy: 0.8251\n",
            "Epoch 78/100\n",
            "176/176 [==============================] - 0s 3ms/step - loss: 0.3730 - accuracy: 0.8244\n",
            "Epoch 79/100\n",
            "176/176 [==============================] - 0s 3ms/step - loss: 0.3717 - accuracy: 0.8249\n",
            "Epoch 80/100\n",
            "176/176 [==============================] - 0s 3ms/step - loss: 0.3729 - accuracy: 0.8260\n",
            "Epoch 81/100\n",
            "176/176 [==============================] - 0s 3ms/step - loss: 0.3718 - accuracy: 0.8247\n",
            "Epoch 82/100\n",
            "176/176 [==============================] - 0s 3ms/step - loss: 0.3716 - accuracy: 0.8270\n",
            "Epoch 83/100\n",
            "176/176 [==============================] - 0s 3ms/step - loss: 0.3714 - accuracy: 0.8247\n",
            "Epoch 84/100\n",
            "176/176 [==============================] - 0s 3ms/step - loss: 0.3714 - accuracy: 0.8274\n",
            "Epoch 85/100\n",
            "176/176 [==============================] - 0s 3ms/step - loss: 0.3724 - accuracy: 0.8258\n",
            "Epoch 86/100\n",
            "176/176 [==============================] - 0s 3ms/step - loss: 0.3723 - accuracy: 0.8226\n",
            "Epoch 87/100\n",
            "176/176 [==============================] - 0s 3ms/step - loss: 0.3714 - accuracy: 0.8244\n",
            "Epoch 88/100\n",
            "176/176 [==============================] - 0s 3ms/step - loss: 0.3697 - accuracy: 0.8258\n",
            "Epoch 89/100\n",
            "176/176 [==============================] - 0s 3ms/step - loss: 0.3691 - accuracy: 0.8260\n",
            "Epoch 90/100\n",
            "176/176 [==============================] - 0s 3ms/step - loss: 0.3691 - accuracy: 0.8254\n",
            "Epoch 91/100\n",
            "176/176 [==============================] - 0s 3ms/step - loss: 0.3696 - accuracy: 0.8276\n",
            "Epoch 92/100\n",
            "176/176 [==============================] - 0s 3ms/step - loss: 0.3700 - accuracy: 0.8284\n",
            "Epoch 93/100\n",
            "176/176 [==============================] - 0s 3ms/step - loss: 0.3686 - accuracy: 0.8290\n",
            "Epoch 94/100\n",
            "176/176 [==============================] - 1s 3ms/step - loss: 0.3682 - accuracy: 0.8286\n",
            "Epoch 95/100\n",
            "176/176 [==============================] - 1s 3ms/step - loss: 0.3677 - accuracy: 0.8245\n",
            "Epoch 96/100\n",
            "176/176 [==============================] - 1s 3ms/step - loss: 0.3676 - accuracy: 0.8268\n",
            "Epoch 97/100\n",
            "176/176 [==============================] - 1s 3ms/step - loss: 0.3670 - accuracy: 0.8288\n",
            "Epoch 98/100\n",
            "176/176 [==============================] - 0s 3ms/step - loss: 0.3670 - accuracy: 0.8270\n",
            "Epoch 99/100\n",
            "176/176 [==============================] - 0s 3ms/step - loss: 0.3662 - accuracy: 0.8311\n",
            "Epoch 100/100\n",
            "176/176 [==============================] - 0s 3ms/step - loss: 0.3679 - accuracy: 0.8311\n",
            "44/44 [==============================] - 0s 2ms/step - loss: 0.4590 - accuracy: 0.7939\n",
            "[0.45897239446640015, 0.7938876748085022]\n",
            "44/44 [==============================] - 0s 1ms/step\n",
            "Classification Report: \n",
            "               precision    recall  f1-score   support\n",
            "\n",
            "           0       0.84      0.89      0.87      1040\n",
            "           1       0.63      0.51      0.56       367\n",
            "\n",
            "    accuracy                           0.79      1407\n",
            "   macro avg       0.73      0.70      0.71      1407\n",
            "weighted avg       0.78      0.79      0.79      1407\n",
            "\n"
          ]
        }
      ]
    },
    {
      "cell_type": "code",
      "source": [
        "y.value_counts()"
      ],
      "metadata": {
        "colab": {
          "base_uri": "https://localhost:8080/"
        },
        "id": "qFtXxDiStgEY",
        "outputId": "fe8d6c31-6662-47dc-f5d6-ad8c86e0fb29"
      },
      "execution_count": 31,
      "outputs": [
        {
          "output_type": "execute_result",
          "data": {
            "text/plain": [
              "0    5163\n",
              "1    1869\n",
              "Name: Churn, dtype: int64"
            ]
          },
          "metadata": {},
          "execution_count": 31
        }
      ]
    },
    {
      "cell_type": "markdown",
      "source": [
        "**Note that in the above cell that how imbalanced target variable is**"
      ],
      "metadata": {
        "id": "cYU6BbRftlrY"
      }
    },
    {
      "cell_type": "markdown",
      "source": [
        "## Migitating Skewdness of Data\n",
        "\n",
        "**Stratify is number of records in test and train of different classes will be in same ratio as they are in the dataset before splitting into test and train**\n",
        "\n",
        "Reference : reference: https://www.kaggle.com/rafjaa/resampling-strategies-for-imbalanced-datasets"
      ],
      "metadata": {
        "id": "K7RUsQSBtznL"
      }
    },
    {
      "cell_type": "markdown",
      "source": [
        "### Method 1: Undersampling"
      ],
      "metadata": {
        "id": "x9Y_q78EuFZH"
      }
    },
    {
      "cell_type": "markdown",
      "source": [
        "This makes count of majority class equal to count of minority class by taking a random sample of rows equal to count of minority class"
      ],
      "metadata": {
        "id": "vTqO2myFudCk"
      }
    },
    {
      "cell_type": "code",
      "source": [
        "# Class count\n",
        "count_class_0, count_class_1 = df2.Churn.value_counts()\n",
        "\n",
        "# Divide by class\n",
        "df_class_0 = df2[df2['Churn'] == 0]\n",
        "df_class_1 = df2[df2['Churn'] == 1]"
      ],
      "metadata": {
        "id": "3EgmWrvntu2c"
      },
      "execution_count": 32,
      "outputs": []
    },
    {
      "cell_type": "code",
      "source": [
        "# Undersample 0-class and concat the DataFrames of both class\n",
        "df_class_0_under = df_class_0.sample(count_class_1)\n",
        "df_test_under = pd.concat([df_class_0_under, df_class_1], axis=0)\n",
        "\n",
        "print('Random under-sampling:')\n",
        "print(df_test_under.Churn.value_counts())"
      ],
      "metadata": {
        "colab": {
          "base_uri": "https://localhost:8080/"
        },
        "id": "Yz2CJygeuPxA",
        "outputId": "204bf5b1-7a17-42da-b089-bead1200550b"
      },
      "execution_count": 33,
      "outputs": [
        {
          "output_type": "stream",
          "name": "stdout",
          "text": [
            "Random under-sampling:\n",
            "0    1869\n",
            "1    1869\n",
            "Name: Churn, dtype: int64\n"
          ]
        }
      ]
    },
    {
      "cell_type": "code",
      "source": [
        "X = df_test_under.drop('Churn',axis='columns')\n",
        "y = df_test_under['Churn']\n",
        "\n",
        "from sklearn.model_selection import train_test_split\n",
        "X_train, X_test, y_train, y_test = train_test_split(X, y, test_size=0.2, random_state=15, stratify=y)"
      ],
      "metadata": {
        "id": "afEXYoPhu04I"
      },
      "execution_count": 34,
      "outputs": []
    },
    {
      "cell_type": "code",
      "source": [
        "y_train.value_counts()"
      ],
      "metadata": {
        "colab": {
          "base_uri": "https://localhost:8080/"
        },
        "id": "JGSAjviEu6hy",
        "outputId": "3be1e87b-56a0-46fa-ec42-87a414b6dd60"
      },
      "execution_count": 35,
      "outputs": [
        {
          "output_type": "execute_result",
          "data": {
            "text/plain": [
              "0    1495\n",
              "1    1495\n",
              "Name: Churn, dtype: int64"
            ]
          },
          "metadata": {},
          "execution_count": 35
        }
      ]
    },
    {
      "cell_type": "code",
      "source": [
        "y_preds = ANN(X_train, y_train, X_test, y_test, 'binary_crossentropy', -1)"
      ],
      "metadata": {
        "colab": {
          "base_uri": "https://localhost:8080/"
        },
        "id": "c7J5KVc1u8hc",
        "outputId": "4c579c0e-b47c-4b9e-a0fd-6612281db979"
      },
      "execution_count": 36,
      "outputs": [
        {
          "output_type": "stream",
          "name": "stdout",
          "text": [
            "Epoch 1/100\n",
            "94/94 [==============================] - 1s 3ms/step - loss: 0.6180 - accuracy: 0.6709\n",
            "Epoch 2/100\n",
            "94/94 [==============================] - 0s 3ms/step - loss: 0.5037 - accuracy: 0.7555\n",
            "Epoch 3/100\n",
            "94/94 [==============================] - 0s 3ms/step - loss: 0.4828 - accuracy: 0.7659\n",
            "Epoch 4/100\n",
            "94/94 [==============================] - 0s 3ms/step - loss: 0.4770 - accuracy: 0.7722\n",
            "Epoch 5/100\n",
            "94/94 [==============================] - 0s 3ms/step - loss: 0.4739 - accuracy: 0.7732\n",
            "Epoch 6/100\n",
            "94/94 [==============================] - 0s 3ms/step - loss: 0.4707 - accuracy: 0.7709\n",
            "Epoch 7/100\n",
            "94/94 [==============================] - 0s 3ms/step - loss: 0.4690 - accuracy: 0.7773\n",
            "Epoch 8/100\n",
            "94/94 [==============================] - 0s 3ms/step - loss: 0.4671 - accuracy: 0.7722\n",
            "Epoch 9/100\n",
            "94/94 [==============================] - 0s 3ms/step - loss: 0.4652 - accuracy: 0.7766\n",
            "Epoch 10/100\n",
            "94/94 [==============================] - 0s 3ms/step - loss: 0.4654 - accuracy: 0.7739\n",
            "Epoch 11/100\n",
            "94/94 [==============================] - 0s 3ms/step - loss: 0.4621 - accuracy: 0.7753\n",
            "Epoch 12/100\n",
            "94/94 [==============================] - 0s 3ms/step - loss: 0.4610 - accuracy: 0.7803\n",
            "Epoch 13/100\n",
            "94/94 [==============================] - 0s 3ms/step - loss: 0.4587 - accuracy: 0.7776\n",
            "Epoch 14/100\n",
            "94/94 [==============================] - 0s 3ms/step - loss: 0.4570 - accuracy: 0.7813\n",
            "Epoch 15/100\n",
            "94/94 [==============================] - 0s 3ms/step - loss: 0.4546 - accuracy: 0.7813\n",
            "Epoch 16/100\n",
            "94/94 [==============================] - 0s 3ms/step - loss: 0.4536 - accuracy: 0.7799\n",
            "Epoch 17/100\n",
            "94/94 [==============================] - 0s 3ms/step - loss: 0.4546 - accuracy: 0.7799\n",
            "Epoch 18/100\n",
            "94/94 [==============================] - 0s 3ms/step - loss: 0.4511 - accuracy: 0.7836\n",
            "Epoch 19/100\n",
            "94/94 [==============================] - 0s 3ms/step - loss: 0.4489 - accuracy: 0.7890\n",
            "Epoch 20/100\n",
            "94/94 [==============================] - 0s 3ms/step - loss: 0.4474 - accuracy: 0.7876\n",
            "Epoch 21/100\n",
            "94/94 [==============================] - 0s 3ms/step - loss: 0.4454 - accuracy: 0.7873\n",
            "Epoch 22/100\n",
            "94/94 [==============================] - 0s 3ms/step - loss: 0.4495 - accuracy: 0.7826\n",
            "Epoch 23/100\n",
            "94/94 [==============================] - 0s 3ms/step - loss: 0.4436 - accuracy: 0.7853\n",
            "Epoch 24/100\n",
            "94/94 [==============================] - 0s 3ms/step - loss: 0.4438 - accuracy: 0.7866\n",
            "Epoch 25/100\n",
            "94/94 [==============================] - 0s 3ms/step - loss: 0.4425 - accuracy: 0.7920\n",
            "Epoch 26/100\n",
            "94/94 [==============================] - 0s 3ms/step - loss: 0.4422 - accuracy: 0.7893\n",
            "Epoch 27/100\n",
            "94/94 [==============================] - 0s 3ms/step - loss: 0.4389 - accuracy: 0.7950\n",
            "Epoch 28/100\n",
            "94/94 [==============================] - 0s 3ms/step - loss: 0.4389 - accuracy: 0.7930\n",
            "Epoch 29/100\n",
            "94/94 [==============================] - 0s 3ms/step - loss: 0.4381 - accuracy: 0.7926\n",
            "Epoch 30/100\n",
            "94/94 [==============================] - 0s 3ms/step - loss: 0.4370 - accuracy: 0.7943\n",
            "Epoch 31/100\n",
            "94/94 [==============================] - 0s 3ms/step - loss: 0.4359 - accuracy: 0.7923\n",
            "Epoch 32/100\n",
            "94/94 [==============================] - 0s 3ms/step - loss: 0.4350 - accuracy: 0.7980\n",
            "Epoch 33/100\n",
            "94/94 [==============================] - 0s 3ms/step - loss: 0.4346 - accuracy: 0.7930\n",
            "Epoch 34/100\n",
            "94/94 [==============================] - 0s 3ms/step - loss: 0.4323 - accuracy: 0.7997\n",
            "Epoch 35/100\n",
            "94/94 [==============================] - 0s 3ms/step - loss: 0.4319 - accuracy: 0.7980\n",
            "Epoch 36/100\n",
            "94/94 [==============================] - 0s 3ms/step - loss: 0.4324 - accuracy: 0.7973\n",
            "Epoch 37/100\n",
            "94/94 [==============================] - 0s 3ms/step - loss: 0.4312 - accuracy: 0.8013\n",
            "Epoch 38/100\n",
            "94/94 [==============================] - 0s 3ms/step - loss: 0.4335 - accuracy: 0.8013\n",
            "Epoch 39/100\n",
            "94/94 [==============================] - 0s 3ms/step - loss: 0.4284 - accuracy: 0.7963\n",
            "Epoch 40/100\n",
            "94/94 [==============================] - 0s 3ms/step - loss: 0.4274 - accuracy: 0.8043\n",
            "Epoch 41/100\n",
            "94/94 [==============================] - 0s 3ms/step - loss: 0.4257 - accuracy: 0.8033\n",
            "Epoch 42/100\n",
            "94/94 [==============================] - 0s 3ms/step - loss: 0.4247 - accuracy: 0.7960\n",
            "Epoch 43/100\n",
            "94/94 [==============================] - 0s 3ms/step - loss: 0.4237 - accuracy: 0.8023\n",
            "Epoch 44/100\n",
            "94/94 [==============================] - 0s 3ms/step - loss: 0.4231 - accuracy: 0.8074\n",
            "Epoch 45/100\n",
            "94/94 [==============================] - 0s 3ms/step - loss: 0.4213 - accuracy: 0.8030\n",
            "Epoch 46/100\n",
            "94/94 [==============================] - 0s 3ms/step - loss: 0.4233 - accuracy: 0.8007\n",
            "Epoch 47/100\n",
            "94/94 [==============================] - 0s 3ms/step - loss: 0.4200 - accuracy: 0.8043\n",
            "Epoch 48/100\n",
            "94/94 [==============================] - 0s 3ms/step - loss: 0.4203 - accuracy: 0.8050\n",
            "Epoch 49/100\n",
            "94/94 [==============================] - 0s 3ms/step - loss: 0.4190 - accuracy: 0.8070\n",
            "Epoch 50/100\n",
            "94/94 [==============================] - 0s 3ms/step - loss: 0.4183 - accuracy: 0.8087\n",
            "Epoch 51/100\n",
            "94/94 [==============================] - 0s 3ms/step - loss: 0.4165 - accuracy: 0.8057\n",
            "Epoch 52/100\n",
            "94/94 [==============================] - 0s 3ms/step - loss: 0.4168 - accuracy: 0.8087\n",
            "Epoch 53/100\n",
            "94/94 [==============================] - 0s 3ms/step - loss: 0.4156 - accuracy: 0.8080\n",
            "Epoch 54/100\n",
            "94/94 [==============================] - 0s 3ms/step - loss: 0.4170 - accuracy: 0.8033\n",
            "Epoch 55/100\n",
            "94/94 [==============================] - 0s 3ms/step - loss: 0.4141 - accuracy: 0.8114\n",
            "Epoch 56/100\n",
            "94/94 [==============================] - 0s 3ms/step - loss: 0.4135 - accuracy: 0.8094\n",
            "Epoch 57/100\n",
            "94/94 [==============================] - 0s 3ms/step - loss: 0.4130 - accuracy: 0.8097\n",
            "Epoch 58/100\n",
            "94/94 [==============================] - 0s 3ms/step - loss: 0.4122 - accuracy: 0.8097\n",
            "Epoch 59/100\n",
            "94/94 [==============================] - 0s 3ms/step - loss: 0.4108 - accuracy: 0.8114\n",
            "Epoch 60/100\n",
            "94/94 [==============================] - 0s 3ms/step - loss: 0.4124 - accuracy: 0.8107\n",
            "Epoch 61/100\n",
            "94/94 [==============================] - 0s 3ms/step - loss: 0.4103 - accuracy: 0.8161\n",
            "Epoch 62/100\n",
            "94/94 [==============================] - 0s 3ms/step - loss: 0.4087 - accuracy: 0.8181\n",
            "Epoch 63/100\n",
            "94/94 [==============================] - 0s 3ms/step - loss: 0.4066 - accuracy: 0.8107\n",
            "Epoch 64/100\n",
            "94/94 [==============================] - 0s 3ms/step - loss: 0.4078 - accuracy: 0.8147\n",
            "Epoch 65/100\n",
            "94/94 [==============================] - 0s 3ms/step - loss: 0.4063 - accuracy: 0.8134\n",
            "Epoch 66/100\n",
            "94/94 [==============================] - 0s 3ms/step - loss: 0.4049 - accuracy: 0.8154\n",
            "Epoch 67/100\n",
            "94/94 [==============================] - 0s 3ms/step - loss: 0.4049 - accuracy: 0.8140\n",
            "Epoch 68/100\n",
            "94/94 [==============================] - 0s 3ms/step - loss: 0.4075 - accuracy: 0.8154\n",
            "Epoch 69/100\n",
            "94/94 [==============================] - 0s 3ms/step - loss: 0.4033 - accuracy: 0.8164\n",
            "Epoch 70/100\n",
            "94/94 [==============================] - 0s 3ms/step - loss: 0.4017 - accuracy: 0.8154\n",
            "Epoch 71/100\n",
            "94/94 [==============================] - 0s 3ms/step - loss: 0.4020 - accuracy: 0.8191\n",
            "Epoch 72/100\n",
            "94/94 [==============================] - 0s 3ms/step - loss: 0.4005 - accuracy: 0.8191\n",
            "Epoch 73/100\n",
            "94/94 [==============================] - 0s 3ms/step - loss: 0.4011 - accuracy: 0.8161\n",
            "Epoch 74/100\n",
            "94/94 [==============================] - 0s 3ms/step - loss: 0.4004 - accuracy: 0.8194\n",
            "Epoch 75/100\n",
            "94/94 [==============================] - 0s 3ms/step - loss: 0.3991 - accuracy: 0.8151\n",
            "Epoch 76/100\n",
            "94/94 [==============================] - 0s 3ms/step - loss: 0.4008 - accuracy: 0.8164\n",
            "Epoch 77/100\n",
            "94/94 [==============================] - 0s 3ms/step - loss: 0.3987 - accuracy: 0.8184\n",
            "Epoch 78/100\n",
            "94/94 [==============================] - 0s 3ms/step - loss: 0.3983 - accuracy: 0.8177\n",
            "Epoch 79/100\n",
            "94/94 [==============================] - 0s 3ms/step - loss: 0.3984 - accuracy: 0.8144\n",
            "Epoch 80/100\n",
            "94/94 [==============================] - 0s 3ms/step - loss: 0.4002 - accuracy: 0.8187\n",
            "Epoch 81/100\n",
            "94/94 [==============================] - 0s 3ms/step - loss: 0.3971 - accuracy: 0.8191\n",
            "Epoch 82/100\n",
            "94/94 [==============================] - 0s 3ms/step - loss: 0.3971 - accuracy: 0.8194\n",
            "Epoch 83/100\n",
            "94/94 [==============================] - 0s 3ms/step - loss: 0.3942 - accuracy: 0.8154\n",
            "Epoch 84/100\n",
            "94/94 [==============================] - 0s 3ms/step - loss: 0.3948 - accuracy: 0.8247\n",
            "Epoch 85/100\n",
            "94/94 [==============================] - 0s 3ms/step - loss: 0.3947 - accuracy: 0.8204\n",
            "Epoch 86/100\n",
            "94/94 [==============================] - 0s 3ms/step - loss: 0.3919 - accuracy: 0.8247\n",
            "Epoch 87/100\n",
            "94/94 [==============================] - 0s 3ms/step - loss: 0.3916 - accuracy: 0.8194\n",
            "Epoch 88/100\n",
            "94/94 [==============================] - 0s 3ms/step - loss: 0.3908 - accuracy: 0.8204\n",
            "Epoch 89/100\n",
            "94/94 [==============================] - 0s 3ms/step - loss: 0.3913 - accuracy: 0.8187\n",
            "Epoch 90/100\n",
            "94/94 [==============================] - 0s 3ms/step - loss: 0.3891 - accuracy: 0.8204\n",
            "Epoch 91/100\n",
            "94/94 [==============================] - 0s 3ms/step - loss: 0.3914 - accuracy: 0.8221\n",
            "Epoch 92/100\n",
            "94/94 [==============================] - 0s 3ms/step - loss: 0.3885 - accuracy: 0.8214\n",
            "Epoch 93/100\n",
            "94/94 [==============================] - 0s 3ms/step - loss: 0.3881 - accuracy: 0.8221\n",
            "Epoch 94/100\n",
            "94/94 [==============================] - 0s 3ms/step - loss: 0.3864 - accuracy: 0.8258\n",
            "Epoch 95/100\n",
            "94/94 [==============================] - 0s 3ms/step - loss: 0.3871 - accuracy: 0.8274\n",
            "Epoch 96/100\n",
            "94/94 [==============================] - 0s 3ms/step - loss: 0.3885 - accuracy: 0.8194\n",
            "Epoch 97/100\n",
            "94/94 [==============================] - 0s 3ms/step - loss: 0.3880 - accuracy: 0.8224\n",
            "Epoch 98/100\n",
            "94/94 [==============================] - 0s 3ms/step - loss: 0.3858 - accuracy: 0.8234\n",
            "Epoch 99/100\n",
            "94/94 [==============================] - 0s 3ms/step - loss: 0.3858 - accuracy: 0.8247\n",
            "Epoch 100/100\n",
            "94/94 [==============================] - 0s 3ms/step - loss: 0.3835 - accuracy: 0.8268\n",
            "24/24 [==============================] - 0s 2ms/step - loss: 0.5815 - accuracy: 0.7286\n",
            "[0.5814753770828247, 0.7286096215248108]\n",
            "24/24 [==============================] - 0s 1ms/step\n",
            "Classification Report: \n",
            "               precision    recall  f1-score   support\n",
            "\n",
            "           0       0.73      0.72      0.73       374\n",
            "           1       0.72      0.74      0.73       374\n",
            "\n",
            "    accuracy                           0.73       748\n",
            "   macro avg       0.73      0.73      0.73       748\n",
            "weighted avg       0.73      0.73      0.73       748\n",
            "\n"
          ]
        }
      ]
    },
    {
      "cell_type": "markdown",
      "source": [
        "Check classification report above. f1-score for minority class improved. We have more generalized classifier which classifies both classes with similar prediction score"
      ],
      "metadata": {
        "id": "QnLw5Fpjvac-"
      }
    },
    {
      "cell_type": "markdown",
      "source": [
        "### Method 2: Oversampling"
      ],
      "metadata": {
        "id": "5Dg9k6Mwvumx"
      }
    },
    {
      "cell_type": "code",
      "source": [
        "# Oversample 1-class and concat the DataFrames of both classes\n",
        "\n",
        "# Duplicate records of minority class random rows to make it same number as majority class\n",
        "df_class_1_over = df_class_1.sample(count_class_0, replace=True)\n",
        "df_test_over = pd.concat([df_class_0, df_class_1_over], axis=0)\n",
        "\n",
        "print('Random over-sampling:')\n",
        "print(df_test_over.Churn.value_counts())"
      ],
      "metadata": {
        "colab": {
          "base_uri": "https://localhost:8080/"
        },
        "id": "07xAy10Lv7En",
        "outputId": "055cce72-f387-42fb-85e5-c498e48bbb41"
      },
      "execution_count": 37,
      "outputs": [
        {
          "output_type": "stream",
          "name": "stdout",
          "text": [
            "Random over-sampling:\n",
            "0    5163\n",
            "1    5163\n",
            "Name: Churn, dtype: int64\n"
          ]
        }
      ]
    },
    {
      "cell_type": "code",
      "source": [
        "X = df_test_over.drop('Churn',axis='columns')\n",
        "y = df_test_over['Churn']\n",
        "\n",
        "from sklearn.model_selection import train_test_split\n",
        "X_train, X_test, y_train, y_test = train_test_split(X, y, test_size=0.2, random_state=15, stratify=y)"
      ],
      "metadata": {
        "id": "FKgxIwJiwI9p"
      },
      "execution_count": 38,
      "outputs": []
    },
    {
      "cell_type": "code",
      "source": [
        "# Number of classes in training Data\n",
        "y_train.value_counts()"
      ],
      "metadata": {
        "colab": {
          "base_uri": "https://localhost:8080/"
        },
        "id": "OcD1LSczwL_p",
        "outputId": "b98141bb-e66e-4dfb-b988-08f4178ce40f"
      },
      "execution_count": 39,
      "outputs": [
        {
          "output_type": "execute_result",
          "data": {
            "text/plain": [
              "1    4130\n",
              "0    4130\n",
              "Name: Churn, dtype: int64"
            ]
          },
          "metadata": {},
          "execution_count": 39
        }
      ]
    },
    {
      "cell_type": "code",
      "source": [
        "loss = keras.losses.BinaryCrossentropy()\n",
        "weights = -1\n",
        "y_preds = ANN(X_train, y_train, X_test, y_test, 'binary_crossentropy', -1)"
      ],
      "metadata": {
        "colab": {
          "base_uri": "https://localhost:8080/"
        },
        "id": "otc8GKWswPGo",
        "outputId": "66006e2a-56c2-4c40-f10d-78afa87fa865"
      },
      "execution_count": 40,
      "outputs": [
        {
          "output_type": "stream",
          "name": "stdout",
          "text": [
            "Epoch 1/100\n",
            "259/259 [==============================] - 1s 3ms/step - loss: 0.5549 - accuracy: 0.7257\n",
            "Epoch 2/100\n",
            "259/259 [==============================] - 1s 5ms/step - loss: 0.4897 - accuracy: 0.7598\n",
            "Epoch 3/100\n",
            "259/259 [==============================] - 1s 4ms/step - loss: 0.4805 - accuracy: 0.7633\n",
            "Epoch 4/100\n",
            "259/259 [==============================] - 1s 4ms/step - loss: 0.4760 - accuracy: 0.7685\n",
            "Epoch 5/100\n",
            "259/259 [==============================] - 1s 4ms/step - loss: 0.4733 - accuracy: 0.7697\n",
            "Epoch 6/100\n",
            "259/259 [==============================] - 1s 3ms/step - loss: 0.4704 - accuracy: 0.7688\n",
            "Epoch 7/100\n",
            "259/259 [==============================] - 1s 3ms/step - loss: 0.4675 - accuracy: 0.7722\n",
            "Epoch 8/100\n",
            "259/259 [==============================] - 1s 3ms/step - loss: 0.4659 - accuracy: 0.7738\n",
            "Epoch 9/100\n",
            "259/259 [==============================] - 1s 3ms/step - loss: 0.4653 - accuracy: 0.7742\n",
            "Epoch 10/100\n",
            "259/259 [==============================] - 1s 3ms/step - loss: 0.4606 - accuracy: 0.7769\n",
            "Epoch 11/100\n",
            "259/259 [==============================] - 1s 3ms/step - loss: 0.4602 - accuracy: 0.7803\n",
            "Epoch 12/100\n",
            "259/259 [==============================] - 1s 3ms/step - loss: 0.4575 - accuracy: 0.7804\n",
            "Epoch 13/100\n",
            "259/259 [==============================] - 1s 3ms/step - loss: 0.4563 - accuracy: 0.7794\n",
            "Epoch 14/100\n",
            "259/259 [==============================] - 1s 3ms/step - loss: 0.4549 - accuracy: 0.7833\n",
            "Epoch 15/100\n",
            "259/259 [==============================] - 1s 3ms/step - loss: 0.4526 - accuracy: 0.7843\n",
            "Epoch 16/100\n",
            "259/259 [==============================] - 1s 3ms/step - loss: 0.4502 - accuracy: 0.7822\n",
            "Epoch 17/100\n",
            "259/259 [==============================] - 1s 3ms/step - loss: 0.4482 - accuracy: 0.7864\n",
            "Epoch 18/100\n",
            "259/259 [==============================] - 1s 3ms/step - loss: 0.4477 - accuracy: 0.7856\n",
            "Epoch 19/100\n",
            "259/259 [==============================] - 1s 3ms/step - loss: 0.4455 - accuracy: 0.7887\n",
            "Epoch 20/100\n",
            "259/259 [==============================] - 1s 3ms/step - loss: 0.4438 - accuracy: 0.7866\n",
            "Epoch 21/100\n",
            "259/259 [==============================] - 1s 3ms/step - loss: 0.4403 - accuracy: 0.7901\n",
            "Epoch 22/100\n",
            "259/259 [==============================] - 1s 3ms/step - loss: 0.4396 - accuracy: 0.7885\n",
            "Epoch 23/100\n",
            "259/259 [==============================] - 1s 3ms/step - loss: 0.4384 - accuracy: 0.7887\n",
            "Epoch 24/100\n",
            "259/259 [==============================] - 1s 3ms/step - loss: 0.4374 - accuracy: 0.7908\n",
            "Epoch 25/100\n",
            "259/259 [==============================] - 1s 3ms/step - loss: 0.4347 - accuracy: 0.7921\n",
            "Epoch 26/100\n",
            "259/259 [==============================] - 1s 3ms/step - loss: 0.4333 - accuracy: 0.7946\n",
            "Epoch 27/100\n",
            "259/259 [==============================] - 1s 3ms/step - loss: 0.4326 - accuracy: 0.7935\n",
            "Epoch 28/100\n",
            "259/259 [==============================] - 1s 3ms/step - loss: 0.4312 - accuracy: 0.7970\n",
            "Epoch 29/100\n",
            "259/259 [==============================] - 1s 3ms/step - loss: 0.4295 - accuracy: 0.7975\n",
            "Epoch 30/100\n",
            "259/259 [==============================] - 1s 3ms/step - loss: 0.4283 - accuracy: 0.7960\n",
            "Epoch 31/100\n",
            "259/259 [==============================] - 1s 3ms/step - loss: 0.4263 - accuracy: 0.7999\n",
            "Epoch 32/100\n",
            "259/259 [==============================] - 1s 3ms/step - loss: 0.4256 - accuracy: 0.8002\n",
            "Epoch 33/100\n",
            "259/259 [==============================] - 1s 3ms/step - loss: 0.4237 - accuracy: 0.7985\n",
            "Epoch 34/100\n",
            "259/259 [==============================] - 1s 3ms/step - loss: 0.4250 - accuracy: 0.7998\n",
            "Epoch 35/100\n",
            "259/259 [==============================] - 1s 3ms/step - loss: 0.4226 - accuracy: 0.8031\n",
            "Epoch 36/100\n",
            "259/259 [==============================] - 1s 3ms/step - loss: 0.4209 - accuracy: 0.8017\n",
            "Epoch 37/100\n",
            "259/259 [==============================] - 1s 3ms/step - loss: 0.4193 - accuracy: 0.8029\n",
            "Epoch 38/100\n",
            "259/259 [==============================] - 1s 3ms/step - loss: 0.4189 - accuracy: 0.8021\n",
            "Epoch 39/100\n",
            "259/259 [==============================] - 1s 3ms/step - loss: 0.4173 - accuracy: 0.8036\n",
            "Epoch 40/100\n",
            "259/259 [==============================] - 1s 3ms/step - loss: 0.4163 - accuracy: 0.8051\n",
            "Epoch 41/100\n",
            "259/259 [==============================] - 1s 3ms/step - loss: 0.4146 - accuracy: 0.8057\n",
            "Epoch 42/100\n",
            "259/259 [==============================] - 1s 3ms/step - loss: 0.4140 - accuracy: 0.8096\n",
            "Epoch 43/100\n",
            "259/259 [==============================] - 1s 3ms/step - loss: 0.4133 - accuracy: 0.8067\n",
            "Epoch 44/100\n",
            "259/259 [==============================] - 1s 3ms/step - loss: 0.4128 - accuracy: 0.8065\n",
            "Epoch 45/100\n",
            "259/259 [==============================] - 1s 3ms/step - loss: 0.4113 - accuracy: 0.8098\n",
            "Epoch 46/100\n",
            "259/259 [==============================] - 1s 3ms/step - loss: 0.4094 - accuracy: 0.8114\n",
            "Epoch 47/100\n",
            "259/259 [==============================] - 1s 3ms/step - loss: 0.4092 - accuracy: 0.8114\n",
            "Epoch 48/100\n",
            "259/259 [==============================] - 1s 3ms/step - loss: 0.4078 - accuracy: 0.8108\n",
            "Epoch 49/100\n",
            "259/259 [==============================] - 1s 3ms/step - loss: 0.4073 - accuracy: 0.8103\n",
            "Epoch 50/100\n",
            "259/259 [==============================] - 1s 3ms/step - loss: 0.4068 - accuracy: 0.8120\n",
            "Epoch 51/100\n",
            "259/259 [==============================] - 1s 3ms/step - loss: 0.4064 - accuracy: 0.8143\n",
            "Epoch 52/100\n",
            "259/259 [==============================] - 1s 3ms/step - loss: 0.4041 - accuracy: 0.8108\n",
            "Epoch 53/100\n",
            "259/259 [==============================] - 1s 3ms/step - loss: 0.4028 - accuracy: 0.8132\n",
            "Epoch 54/100\n",
            "259/259 [==============================] - 1s 3ms/step - loss: 0.4027 - accuracy: 0.8150\n",
            "Epoch 55/100\n",
            "259/259 [==============================] - 1s 3ms/step - loss: 0.4011 - accuracy: 0.8153\n",
            "Epoch 56/100\n",
            "259/259 [==============================] - 1s 3ms/step - loss: 0.3996 - accuracy: 0.8144\n",
            "Epoch 57/100\n",
            "259/259 [==============================] - 1s 3ms/step - loss: 0.3993 - accuracy: 0.8151\n",
            "Epoch 58/100\n",
            "259/259 [==============================] - 1s 3ms/step - loss: 0.3963 - accuracy: 0.8200\n",
            "Epoch 59/100\n",
            "259/259 [==============================] - 1s 3ms/step - loss: 0.3966 - accuracy: 0.8159\n",
            "Epoch 60/100\n",
            "259/259 [==============================] - 1s 3ms/step - loss: 0.3965 - accuracy: 0.8207\n",
            "Epoch 61/100\n",
            "259/259 [==============================] - 1s 3ms/step - loss: 0.3936 - accuracy: 0.8191\n",
            "Epoch 62/100\n",
            "259/259 [==============================] - 1s 3ms/step - loss: 0.3939 - accuracy: 0.8178\n",
            "Epoch 63/100\n",
            "259/259 [==============================] - 1s 3ms/step - loss: 0.3922 - accuracy: 0.8194\n",
            "Epoch 64/100\n",
            "259/259 [==============================] - 1s 3ms/step - loss: 0.3933 - accuracy: 0.8188\n",
            "Epoch 65/100\n",
            "259/259 [==============================] - 1s 3ms/step - loss: 0.3919 - accuracy: 0.8217\n",
            "Epoch 66/100\n",
            "259/259 [==============================] - 1s 3ms/step - loss: 0.3900 - accuracy: 0.8251\n",
            "Epoch 67/100\n",
            "259/259 [==============================] - 1s 3ms/step - loss: 0.3895 - accuracy: 0.8238\n",
            "Epoch 68/100\n",
            "259/259 [==============================] - 1s 3ms/step - loss: 0.3885 - accuracy: 0.8252\n",
            "Epoch 69/100\n",
            "259/259 [==============================] - 1s 3ms/step - loss: 0.3880 - accuracy: 0.8270\n",
            "Epoch 70/100\n",
            "259/259 [==============================] - 1s 3ms/step - loss: 0.3888 - accuracy: 0.8234\n",
            "Epoch 71/100\n",
            "259/259 [==============================] - 1s 3ms/step - loss: 0.3871 - accuracy: 0.8259\n",
            "Epoch 72/100\n",
            "259/259 [==============================] - 1s 3ms/step - loss: 0.3851 - accuracy: 0.8248\n",
            "Epoch 73/100\n",
            "259/259 [==============================] - 1s 3ms/step - loss: 0.3853 - accuracy: 0.8257\n",
            "Epoch 74/100\n",
            "259/259 [==============================] - 1s 3ms/step - loss: 0.3827 - accuracy: 0.8272\n",
            "Epoch 75/100\n",
            "259/259 [==============================] - 1s 3ms/step - loss: 0.3846 - accuracy: 0.8255\n",
            "Epoch 76/100\n",
            "259/259 [==============================] - 1s 3ms/step - loss: 0.3833 - accuracy: 0.8254\n",
            "Epoch 77/100\n",
            "259/259 [==============================] - 1s 3ms/step - loss: 0.3817 - accuracy: 0.8294\n",
            "Epoch 78/100\n",
            "259/259 [==============================] - 1s 3ms/step - loss: 0.3817 - accuracy: 0.8240\n",
            "Epoch 79/100\n",
            "259/259 [==============================] - 1s 3ms/step - loss: 0.3803 - accuracy: 0.8274\n",
            "Epoch 80/100\n",
            "259/259 [==============================] - 1s 3ms/step - loss: 0.3806 - accuracy: 0.8291\n",
            "Epoch 81/100\n",
            "259/259 [==============================] - 1s 3ms/step - loss: 0.3802 - accuracy: 0.8288\n",
            "Epoch 82/100\n",
            "259/259 [==============================] - 1s 3ms/step - loss: 0.3799 - accuracy: 0.8291\n",
            "Epoch 83/100\n",
            "259/259 [==============================] - 1s 3ms/step - loss: 0.3784 - accuracy: 0.8295\n",
            "Epoch 84/100\n",
            "259/259 [==============================] - 1s 3ms/step - loss: 0.3786 - accuracy: 0.8276\n",
            "Epoch 85/100\n",
            "259/259 [==============================] - 1s 3ms/step - loss: 0.3758 - accuracy: 0.8314\n",
            "Epoch 86/100\n",
            "259/259 [==============================] - 1s 3ms/step - loss: 0.3766 - accuracy: 0.8316\n",
            "Epoch 87/100\n",
            "259/259 [==============================] - 1s 3ms/step - loss: 0.3762 - accuracy: 0.8306\n",
            "Epoch 88/100\n",
            "259/259 [==============================] - 1s 3ms/step - loss: 0.3756 - accuracy: 0.8298\n",
            "Epoch 89/100\n",
            "259/259 [==============================] - 1s 3ms/step - loss: 0.3757 - accuracy: 0.8332\n",
            "Epoch 90/100\n",
            "259/259 [==============================] - 1s 3ms/step - loss: 0.3745 - accuracy: 0.8316\n",
            "Epoch 91/100\n",
            "259/259 [==============================] - 1s 3ms/step - loss: 0.3751 - accuracy: 0.8311\n",
            "Epoch 92/100\n",
            "259/259 [==============================] - 1s 3ms/step - loss: 0.3731 - accuracy: 0.8321\n",
            "Epoch 93/100\n",
            "259/259 [==============================] - 1s 3ms/step - loss: 0.3721 - accuracy: 0.8333\n",
            "Epoch 94/100\n",
            "259/259 [==============================] - 1s 3ms/step - loss: 0.3719 - accuracy: 0.8339\n",
            "Epoch 95/100\n",
            "259/259 [==============================] - 1s 3ms/step - loss: 0.3698 - accuracy: 0.8339\n",
            "Epoch 96/100\n",
            "259/259 [==============================] - 1s 3ms/step - loss: 0.3709 - accuracy: 0.8311\n",
            "Epoch 97/100\n",
            "259/259 [==============================] - 1s 3ms/step - loss: 0.3693 - accuracy: 0.8375\n",
            "Epoch 98/100\n",
            "259/259 [==============================] - 1s 3ms/step - loss: 0.3691 - accuracy: 0.8367\n",
            "Epoch 99/100\n",
            "259/259 [==============================] - 1s 3ms/step - loss: 0.3683 - accuracy: 0.8378\n",
            "Epoch 100/100\n",
            "259/259 [==============================] - 1s 3ms/step - loss: 0.3688 - accuracy: 0.8327\n",
            "65/65 [==============================] - 0s 2ms/step - loss: 0.4714 - accuracy: 0.7865\n",
            "[0.47141700983047485, 0.7865440249443054]\n",
            "65/65 [==============================] - 0s 1ms/step\n",
            "Classification Report: \n",
            "               precision    recall  f1-score   support\n",
            "\n",
            "           0       0.85      0.70      0.77      1033\n",
            "           1       0.74      0.87      0.80      1033\n",
            "\n",
            "    accuracy                           0.79      2066\n",
            "   macro avg       0.80      0.79      0.78      2066\n",
            "weighted avg       0.80      0.79      0.78      2066\n",
            "\n"
          ]
        }
      ]
    },
    {
      "cell_type": "markdown",
      "source": [
        "Check classification report of imbalanced dataset. f1-score for minority class 1 improved . Score for class 0 reduced to 0.77 from 0.85 but that's ok. We have more generalized classifier which classifies both classes with similar prediction score"
      ],
      "metadata": {
        "id": "pzV7Oq4ExiFR"
      }
    },
    {
      "cell_type": "markdown",
      "source": [
        "### Method 3: SMOTE"
      ],
      "metadata": {
        "id": "pDSCwwC5x9oG"
      }
    },
    {
      "cell_type": "markdown",
      "source": [
        "SMOTE (Synthetic Minority Oversampling TEchnique) consists of synthesizing elements for the minority class, based on those that already exist. It works randomly picingk a point from the minority class and computing the k-nearest neighbors for this point. The synthetic points are added between the chosen point and its neighbors."
      ],
      "metadata": {
        "id": "7Cf5TkB_8Unw"
      }
    },
    {
      "cell_type": "code",
      "source": [
        "pip install imbalanced-learn "
      ],
      "metadata": {
        "colab": {
          "base_uri": "https://localhost:8080/"
        },
        "id": "dzgSWKkMyCEQ",
        "outputId": "22aee1ea-9308-4ac5-cc31-e217b67b0be3"
      },
      "execution_count": 41,
      "outputs": [
        {
          "output_type": "stream",
          "name": "stdout",
          "text": [
            "Looking in indexes: https://pypi.org/simple, https://us-python.pkg.dev/colab-wheels/public/simple/\n",
            "Requirement already satisfied: imbalanced-learn in /usr/local/lib/python3.8/dist-packages (0.8.1)\n",
            "Requirement already satisfied: scipy>=0.19.1 in /usr/local/lib/python3.8/dist-packages (from imbalanced-learn) (1.7.3)\n",
            "Requirement already satisfied: numpy>=1.13.3 in /usr/local/lib/python3.8/dist-packages (from imbalanced-learn) (1.21.6)\n",
            "Requirement already satisfied: scikit-learn>=0.24 in /usr/local/lib/python3.8/dist-packages (from imbalanced-learn) (1.0.2)\n",
            "Requirement already satisfied: joblib>=0.11 in /usr/local/lib/python3.8/dist-packages (from imbalanced-learn) (1.2.0)\n",
            "Requirement already satisfied: threadpoolctl>=2.0.0 in /usr/local/lib/python3.8/dist-packages (from scikit-learn>=0.24->imbalanced-learn) (3.1.0)\n"
          ]
        }
      ]
    },
    {
      "cell_type": "code",
      "source": [
        "X = df2.drop('Churn',axis='columns')\n",
        "y = df2['Churn']"
      ],
      "metadata": {
        "id": "O0A9k0f4xAXB"
      },
      "execution_count": 42,
      "outputs": []
    },
    {
      "cell_type": "code",
      "source": [
        "from imblearn.over_sampling import SMOTE\n",
        "\n",
        "smote = SMOTE(sampling_strategy='minority')\n",
        "X_sm, y_sm = smote.fit_resample(X, y)\n",
        "\n",
        "y_sm.value_counts()"
      ],
      "metadata": {
        "colab": {
          "base_uri": "https://localhost:8080/"
        },
        "id": "t-cHXOUYyNFo",
        "outputId": "3f10eb21-5c1f-48dc-acc5-0203359af8e7"
      },
      "execution_count": 43,
      "outputs": [
        {
          "output_type": "execute_result",
          "data": {
            "text/plain": [
              "0    5163\n",
              "1    5163\n",
              "Name: Churn, dtype: int64"
            ]
          },
          "metadata": {},
          "execution_count": 43
        }
      ]
    },
    {
      "cell_type": "code",
      "source": [
        "from sklearn.model_selection import train_test_split\n",
        "X_train, X_test, y_train, y_test = train_test_split(X_sm, y_sm, test_size=0.2, random_state=15, stratify=y_sm)"
      ],
      "metadata": {
        "id": "7omM3xd4ylKG"
      },
      "execution_count": 44,
      "outputs": []
    },
    {
      "cell_type": "code",
      "source": [
        "# Number of classes in training Data\n",
        "y_train.value_counts()"
      ],
      "metadata": {
        "colab": {
          "base_uri": "https://localhost:8080/"
        },
        "id": "NFRzBTZFyogV",
        "outputId": "cfba3914-8968-422d-c6f4-a4c3637a43f7"
      },
      "execution_count": 45,
      "outputs": [
        {
          "output_type": "execute_result",
          "data": {
            "text/plain": [
              "1    4130\n",
              "0    4130\n",
              "Name: Churn, dtype: int64"
            ]
          },
          "metadata": {},
          "execution_count": 45
        }
      ]
    },
    {
      "cell_type": "code",
      "source": [
        "y_preds = ANN(X_train, y_train, X_test, y_test, 'binary_crossentropy', -1)"
      ],
      "metadata": {
        "colab": {
          "base_uri": "https://localhost:8080/"
        },
        "id": "H6-VNPGByr4k",
        "outputId": "06cc1310-a58e-4b09-b734-1e5d73d10b73"
      },
      "execution_count": 46,
      "outputs": [
        {
          "output_type": "stream",
          "name": "stdout",
          "text": [
            "Epoch 1/100\n",
            "259/259 [==============================] - 1s 4ms/step - loss: 0.5444 - accuracy: 0.7222\n",
            "Epoch 2/100\n",
            "259/259 [==============================] - 1s 3ms/step - loss: 0.4665 - accuracy: 0.7818\n",
            "Epoch 3/100\n",
            "259/259 [==============================] - 1s 3ms/step - loss: 0.4583 - accuracy: 0.7878\n",
            "Epoch 4/100\n",
            "259/259 [==============================] - 1s 3ms/step - loss: 0.4531 - accuracy: 0.7903\n",
            "Epoch 5/100\n",
            "259/259 [==============================] - 1s 3ms/step - loss: 0.4490 - accuracy: 0.7935\n",
            "Epoch 6/100\n",
            "259/259 [==============================] - 1s 3ms/step - loss: 0.4443 - accuracy: 0.7919\n",
            "Epoch 7/100\n",
            "259/259 [==============================] - 1s 3ms/step - loss: 0.4413 - accuracy: 0.7964\n",
            "Epoch 8/100\n",
            "259/259 [==============================] - 1s 3ms/step - loss: 0.4384 - accuracy: 0.8004\n",
            "Epoch 9/100\n",
            "259/259 [==============================] - 1s 4ms/step - loss: 0.4360 - accuracy: 0.7981\n",
            "Epoch 10/100\n",
            "259/259 [==============================] - 1s 4ms/step - loss: 0.4334 - accuracy: 0.7999\n",
            "Epoch 11/100\n",
            "259/259 [==============================] - 1s 5ms/step - loss: 0.4303 - accuracy: 0.8012\n",
            "Epoch 12/100\n",
            "259/259 [==============================] - 1s 4ms/step - loss: 0.4283 - accuracy: 0.8042\n",
            "Epoch 13/100\n",
            "259/259 [==============================] - 1s 5ms/step - loss: 0.4262 - accuracy: 0.8047\n",
            "Epoch 14/100\n",
            "259/259 [==============================] - 1s 4ms/step - loss: 0.4237 - accuracy: 0.8057\n",
            "Epoch 15/100\n",
            "259/259 [==============================] - 1s 5ms/step - loss: 0.4219 - accuracy: 0.8065\n",
            "Epoch 16/100\n",
            "259/259 [==============================] - 1s 5ms/step - loss: 0.4202 - accuracy: 0.8050\n",
            "Epoch 17/100\n",
            "259/259 [==============================] - 1s 5ms/step - loss: 0.4182 - accuracy: 0.8097\n",
            "Epoch 18/100\n",
            "259/259 [==============================] - 1s 5ms/step - loss: 0.4165 - accuracy: 0.8105\n",
            "Epoch 19/100\n",
            "259/259 [==============================] - 1s 5ms/step - loss: 0.4133 - accuracy: 0.8125\n",
            "Epoch 20/100\n",
            "259/259 [==============================] - 1s 5ms/step - loss: 0.4127 - accuracy: 0.8136\n",
            "Epoch 21/100\n",
            "259/259 [==============================] - 1s 4ms/step - loss: 0.4110 - accuracy: 0.8125\n",
            "Epoch 22/100\n",
            "259/259 [==============================] - 1s 4ms/step - loss: 0.4101 - accuracy: 0.8142\n",
            "Epoch 23/100\n",
            "259/259 [==============================] - 1s 5ms/step - loss: 0.4091 - accuracy: 0.8155\n",
            "Epoch 24/100\n",
            "259/259 [==============================] - 1s 5ms/step - loss: 0.4070 - accuracy: 0.8183\n",
            "Epoch 25/100\n",
            "259/259 [==============================] - 1s 4ms/step - loss: 0.4059 - accuracy: 0.8177\n",
            "Epoch 26/100\n",
            "259/259 [==============================] - 1s 5ms/step - loss: 0.4041 - accuracy: 0.8240\n",
            "Epoch 27/100\n",
            "259/259 [==============================] - 1s 4ms/step - loss: 0.4039 - accuracy: 0.8191\n",
            "Epoch 28/100\n",
            "259/259 [==============================] - 1s 5ms/step - loss: 0.4009 - accuracy: 0.8199\n",
            "Epoch 29/100\n",
            "259/259 [==============================] - 1s 4ms/step - loss: 0.3998 - accuracy: 0.8211\n",
            "Epoch 30/100\n",
            "259/259 [==============================] - 1s 3ms/step - loss: 0.3987 - accuracy: 0.8245\n",
            "Epoch 31/100\n",
            "259/259 [==============================] - 1s 3ms/step - loss: 0.3982 - accuracy: 0.8196\n",
            "Epoch 32/100\n",
            "259/259 [==============================] - 1s 3ms/step - loss: 0.3967 - accuracy: 0.8224\n",
            "Epoch 33/100\n",
            "259/259 [==============================] - 1s 3ms/step - loss: 0.3950 - accuracy: 0.8263\n",
            "Epoch 34/100\n",
            "259/259 [==============================] - 1s 3ms/step - loss: 0.3935 - accuracy: 0.8254\n",
            "Epoch 35/100\n",
            "259/259 [==============================] - 1s 3ms/step - loss: 0.3933 - accuracy: 0.8262\n",
            "Epoch 36/100\n",
            "259/259 [==============================] - 1s 3ms/step - loss: 0.3923 - accuracy: 0.8277\n",
            "Epoch 37/100\n",
            "259/259 [==============================] - 1s 3ms/step - loss: 0.3912 - accuracy: 0.8265\n",
            "Epoch 38/100\n",
            "259/259 [==============================] - 1s 3ms/step - loss: 0.3903 - accuracy: 0.8253\n",
            "Epoch 39/100\n",
            "259/259 [==============================] - 1s 3ms/step - loss: 0.3883 - accuracy: 0.8264\n",
            "Epoch 40/100\n",
            "259/259 [==============================] - 1s 3ms/step - loss: 0.3883 - accuracy: 0.8280\n",
            "Epoch 41/100\n",
            "259/259 [==============================] - 1s 3ms/step - loss: 0.3860 - accuracy: 0.8291\n",
            "Epoch 42/100\n",
            "259/259 [==============================] - 1s 3ms/step - loss: 0.3871 - accuracy: 0.8299\n",
            "Epoch 43/100\n",
            "259/259 [==============================] - 1s 3ms/step - loss: 0.3845 - accuracy: 0.8314\n",
            "Epoch 44/100\n",
            "259/259 [==============================] - 1s 3ms/step - loss: 0.3835 - accuracy: 0.8305\n",
            "Epoch 45/100\n",
            "259/259 [==============================] - 1s 3ms/step - loss: 0.3828 - accuracy: 0.8317\n",
            "Epoch 46/100\n",
            "259/259 [==============================] - 1s 3ms/step - loss: 0.3820 - accuracy: 0.8305\n",
            "Epoch 47/100\n",
            "259/259 [==============================] - 1s 3ms/step - loss: 0.3821 - accuracy: 0.8286\n",
            "Epoch 48/100\n",
            "259/259 [==============================] - 1s 3ms/step - loss: 0.3802 - accuracy: 0.8341\n",
            "Epoch 49/100\n",
            "259/259 [==============================] - 1s 3ms/step - loss: 0.3782 - accuracy: 0.8329\n",
            "Epoch 50/100\n",
            "259/259 [==============================] - 1s 3ms/step - loss: 0.3807 - accuracy: 0.8327\n",
            "Epoch 51/100\n",
            "259/259 [==============================] - 1s 3ms/step - loss: 0.3776 - accuracy: 0.8331\n",
            "Epoch 52/100\n",
            "259/259 [==============================] - 1s 3ms/step - loss: 0.3761 - accuracy: 0.8349\n",
            "Epoch 53/100\n",
            "259/259 [==============================] - 1s 3ms/step - loss: 0.3763 - accuracy: 0.8340\n",
            "Epoch 54/100\n",
            "259/259 [==============================] - 1s 3ms/step - loss: 0.3736 - accuracy: 0.8333\n",
            "Epoch 55/100\n",
            "259/259 [==============================] - 1s 3ms/step - loss: 0.3754 - accuracy: 0.8334\n",
            "Epoch 56/100\n",
            "259/259 [==============================] - 1s 3ms/step - loss: 0.3734 - accuracy: 0.8361\n",
            "Epoch 57/100\n",
            "259/259 [==============================] - 1s 3ms/step - loss: 0.3730 - accuracy: 0.8351\n",
            "Epoch 58/100\n",
            "259/259 [==============================] - 1s 3ms/step - loss: 0.3729 - accuracy: 0.8362\n",
            "Epoch 59/100\n",
            "259/259 [==============================] - 1s 3ms/step - loss: 0.3711 - accuracy: 0.8362\n",
            "Epoch 60/100\n",
            "259/259 [==============================] - 1s 3ms/step - loss: 0.3716 - accuracy: 0.8368\n",
            "Epoch 61/100\n",
            "259/259 [==============================] - 1s 3ms/step - loss: 0.3704 - accuracy: 0.8378\n",
            "Epoch 62/100\n",
            "259/259 [==============================] - 1s 3ms/step - loss: 0.3684 - accuracy: 0.8368\n",
            "Epoch 63/100\n",
            "259/259 [==============================] - 1s 3ms/step - loss: 0.3688 - accuracy: 0.8377\n",
            "Epoch 64/100\n",
            "259/259 [==============================] - 1s 3ms/step - loss: 0.3678 - accuracy: 0.8374\n",
            "Epoch 65/100\n",
            "259/259 [==============================] - 1s 3ms/step - loss: 0.3676 - accuracy: 0.8368\n",
            "Epoch 66/100\n",
            "259/259 [==============================] - 1s 3ms/step - loss: 0.3657 - accuracy: 0.8395\n",
            "Epoch 67/100\n",
            "259/259 [==============================] - 1s 3ms/step - loss: 0.3658 - accuracy: 0.8414\n",
            "Epoch 68/100\n",
            "259/259 [==============================] - 1s 3ms/step - loss: 0.3661 - accuracy: 0.8407\n",
            "Epoch 69/100\n",
            "259/259 [==============================] - 1s 3ms/step - loss: 0.3640 - accuracy: 0.8406\n",
            "Epoch 70/100\n",
            "259/259 [==============================] - 1s 3ms/step - loss: 0.3637 - accuracy: 0.8413\n",
            "Epoch 71/100\n",
            "259/259 [==============================] - 1s 3ms/step - loss: 0.3636 - accuracy: 0.8413\n",
            "Epoch 72/100\n",
            "259/259 [==============================] - 1s 3ms/step - loss: 0.3622 - accuracy: 0.8418\n",
            "Epoch 73/100\n",
            "259/259 [==============================] - 1s 3ms/step - loss: 0.3624 - accuracy: 0.8406\n",
            "Epoch 74/100\n",
            "259/259 [==============================] - 1s 3ms/step - loss: 0.3630 - accuracy: 0.8441\n",
            "Epoch 75/100\n",
            "259/259 [==============================] - 1s 3ms/step - loss: 0.3620 - accuracy: 0.8408\n",
            "Epoch 76/100\n",
            "259/259 [==============================] - 1s 3ms/step - loss: 0.3612 - accuracy: 0.8419\n",
            "Epoch 77/100\n",
            "259/259 [==============================] - 1s 3ms/step - loss: 0.3599 - accuracy: 0.8447\n",
            "Epoch 78/100\n",
            "259/259 [==============================] - 1s 3ms/step - loss: 0.3615 - accuracy: 0.8430\n",
            "Epoch 79/100\n",
            "259/259 [==============================] - 1s 3ms/step - loss: 0.3602 - accuracy: 0.8390\n",
            "Epoch 80/100\n",
            "259/259 [==============================] - 1s 3ms/step - loss: 0.3618 - accuracy: 0.8420\n",
            "Epoch 81/100\n",
            "259/259 [==============================] - 1s 3ms/step - loss: 0.3591 - accuracy: 0.8431\n",
            "Epoch 82/100\n",
            "259/259 [==============================] - 1s 3ms/step - loss: 0.3600 - accuracy: 0.8420\n",
            "Epoch 83/100\n",
            "259/259 [==============================] - 1s 3ms/step - loss: 0.3563 - accuracy: 0.8471\n",
            "Epoch 84/100\n",
            "259/259 [==============================] - 1s 3ms/step - loss: 0.3585 - accuracy: 0.8454\n",
            "Epoch 85/100\n",
            "259/259 [==============================] - 1s 3ms/step - loss: 0.3580 - accuracy: 0.8446\n",
            "Epoch 86/100\n",
            "259/259 [==============================] - 1s 3ms/step - loss: 0.3553 - accuracy: 0.8431\n",
            "Epoch 87/100\n",
            "259/259 [==============================] - 1s 3ms/step - loss: 0.3551 - accuracy: 0.8472\n",
            "Epoch 88/100\n",
            "259/259 [==============================] - 1s 3ms/step - loss: 0.3552 - accuracy: 0.8469\n",
            "Epoch 89/100\n",
            "259/259 [==============================] - 1s 3ms/step - loss: 0.3563 - accuracy: 0.8461\n",
            "Epoch 90/100\n",
            "259/259 [==============================] - 1s 3ms/step - loss: 0.3543 - accuracy: 0.8455\n",
            "Epoch 91/100\n",
            "259/259 [==============================] - 1s 3ms/step - loss: 0.3539 - accuracy: 0.8462\n",
            "Epoch 92/100\n",
            "259/259 [==============================] - 1s 3ms/step - loss: 0.3546 - accuracy: 0.8439\n",
            "Epoch 93/100\n",
            "259/259 [==============================] - 1s 3ms/step - loss: 0.3531 - accuracy: 0.8464\n",
            "Epoch 94/100\n",
            "259/259 [==============================] - 1s 3ms/step - loss: 0.3529 - accuracy: 0.8472\n",
            "Epoch 95/100\n",
            "259/259 [==============================] - 1s 3ms/step - loss: 0.3538 - accuracy: 0.8452\n",
            "Epoch 96/100\n",
            "259/259 [==============================] - 1s 3ms/step - loss: 0.3521 - accuracy: 0.8472\n",
            "Epoch 97/100\n",
            "259/259 [==============================] - 1s 3ms/step - loss: 0.3526 - accuracy: 0.8478\n",
            "Epoch 98/100\n",
            "259/259 [==============================] - 1s 3ms/step - loss: 0.3516 - accuracy: 0.8477\n",
            "Epoch 99/100\n",
            "259/259 [==============================] - 1s 3ms/step - loss: 0.3497 - accuracy: 0.8466\n",
            "Epoch 100/100\n",
            "259/259 [==============================] - 1s 3ms/step - loss: 0.3493 - accuracy: 0.8469\n",
            "65/65 [==============================] - 0s 2ms/step - loss: 0.4762 - accuracy: 0.7904\n",
            "[0.47624602913856506, 0.7904162406921387]\n",
            "65/65 [==============================] - 0s 1ms/step\n",
            "Classification Report: \n",
            "               precision    recall  f1-score   support\n",
            "\n",
            "           0       0.85      0.71      0.77      1033\n",
            "           1       0.75      0.87      0.81      1033\n",
            "\n",
            "    accuracy                           0.79      2066\n",
            "   macro avg       0.80      0.79      0.79      2066\n",
            "weighted avg       0.80      0.79      0.79      2066\n",
            "\n"
          ]
        }
      ]
    },
    {
      "cell_type": "markdown",
      "source": [
        "\n",
        "SMOTE Oversampling increases f1 score of minority class."
      ],
      "metadata": {
        "id": "zlgqZ6mWzsBg"
      }
    },
    {
      "cell_type": "markdown",
      "source": [
        "### Method 4: Use of Ensemble with undersampling\n",
        "\n",
        "model1 --> class1(1495) + class0(0, 1495)\n",
        "\n",
        "model2 --> class1(1495) + class0(1496, 2990)\n",
        "\n",
        "model3 --> class1(1495) + class0(2990, 4130)"
      ],
      "metadata": {
        "id": "NZe-aA_JzwdL"
      }
    },
    {
      "cell_type": "code",
      "source": [
        "df2.Churn.value_counts()"
      ],
      "metadata": {
        "colab": {
          "base_uri": "https://localhost:8080/"
        },
        "id": "OYJoeVvjztE9",
        "outputId": "e5909764-e165-4b48-a54a-6836f988de8f"
      },
      "execution_count": 47,
      "outputs": [
        {
          "output_type": "execute_result",
          "data": {
            "text/plain": [
              "0    5163\n",
              "1    1869\n",
              "Name: Churn, dtype: int64"
            ]
          },
          "metadata": {},
          "execution_count": 47
        }
      ]
    },
    {
      "cell_type": "code",
      "source": [
        "# Regain Original features and labels\n",
        "X = df2.drop('Churn',axis='columns')\n",
        "y = df2['Churn']"
      ],
      "metadata": {
        "id": "nCn5exmgz-u6"
      },
      "execution_count": 48,
      "outputs": []
    },
    {
      "cell_type": "code",
      "source": [
        "from sklearn.model_selection import train_test_split\n",
        "X_train, X_test, y_train, y_test = train_test_split(X, y, test_size=0.2, random_state=15, stratify=y)"
      ],
      "metadata": {
        "id": "O9TMVIyr0B6m"
      },
      "execution_count": 49,
      "outputs": []
    },
    {
      "cell_type": "code",
      "source": [
        "y_train.value_counts()"
      ],
      "metadata": {
        "colab": {
          "base_uri": "https://localhost:8080/"
        },
        "id": "eXUdxe1I0GSJ",
        "outputId": "035d72cb-4d42-4d6c-be77-f1f9039a0b5a"
      },
      "execution_count": 50,
      "outputs": [
        {
          "output_type": "execute_result",
          "data": {
            "text/plain": [
              "0    4130\n",
              "1    1495\n",
              "Name: Churn, dtype: int64"
            ]
          },
          "metadata": {},
          "execution_count": 50
        }
      ]
    },
    {
      "cell_type": "code",
      "source": [
        "df3 = X_train.copy()\n",
        "df3['Churn'] = y_train"
      ],
      "metadata": {
        "id": "MhXa96gn13BB"
      },
      "execution_count": 51,
      "outputs": []
    },
    {
      "cell_type": "code",
      "source": [
        "df3.head()"
      ],
      "metadata": {
        "colab": {
          "base_uri": "https://localhost:8080/",
          "height": 317
        },
        "id": "1IZgFGe-2D9c",
        "outputId": "cab06e15-b486-495b-ed82-ce827862a6d2"
      },
      "execution_count": 52,
      "outputs": [
        {
          "output_type": "execute_result",
          "data": {
            "text/plain": [
              "      gender  SeniorCitizen  Partner  Dependents    tenure  PhoneService  \\\n",
              "684        1              0        0           0  0.000000             1   \n",
              "2446       1              0        0           0  0.239437             1   \n",
              "1680       0              0        1           1  0.774648             1   \n",
              "2220       0              0        1           0  1.000000             1   \n",
              "2842       1              0        0           0  0.042254             0   \n",
              "\n",
              "      MultipleLines  OnlineSecurity  OnlineBackup  DeviceProtection  ...  \\\n",
              "684               0               0             0                 0  ...   \n",
              "2446              1               0             1                 0  ...   \n",
              "1680              1               0             0                 0  ...   \n",
              "2220              0               1             1                 0  ...   \n",
              "2842              0               1             0                 1  ...   \n",
              "\n",
              "      MonthlyCharges  TotalCharges  InternetService_Fiber optic  \\\n",
              "684         0.525871      0.006035                            1   \n",
              "2446        0.713930      0.174077                            1   \n",
              "1680        0.061692      0.163034                            0   \n",
              "2220        0.607960      0.661718                            0   \n",
              "2842        0.298507      0.021169                            0   \n",
              "\n",
              "      InternetService_No  Contract_One year  Contract_Two year  \\\n",
              "684                    0                  0                  0   \n",
              "2446                   0                  0                  0   \n",
              "1680                   1                  1                  0   \n",
              "2220                   0                  0                  1   \n",
              "2842                   0                  0                  0   \n",
              "\n",
              "      PaymentMethod_Credit card (automatic)  PaymentMethod_Electronic check  \\\n",
              "684                                       0                               0   \n",
              "2446                                      1                               0   \n",
              "1680                                      0                               0   \n",
              "2220                                      0                               0   \n",
              "2842                                      0                               0   \n",
              "\n",
              "      PaymentMethod_Mailed check  Churn  \n",
              "684                            1      0  \n",
              "2446                           0      1  \n",
              "1680                           1      0  \n",
              "2220                           0      0  \n",
              "2842                           1      0  \n",
              "\n",
              "[5 rows x 24 columns]"
            ],
            "text/html": [
              "\n",
              "  <div id=\"df-bb1eb111-7cf7-40e2-8453-091792eab3d4\">\n",
              "    <div class=\"colab-df-container\">\n",
              "      <div>\n",
              "<style scoped>\n",
              "    .dataframe tbody tr th:only-of-type {\n",
              "        vertical-align: middle;\n",
              "    }\n",
              "\n",
              "    .dataframe tbody tr th {\n",
              "        vertical-align: top;\n",
              "    }\n",
              "\n",
              "    .dataframe thead th {\n",
              "        text-align: right;\n",
              "    }\n",
              "</style>\n",
              "<table border=\"1\" class=\"dataframe\">\n",
              "  <thead>\n",
              "    <tr style=\"text-align: right;\">\n",
              "      <th></th>\n",
              "      <th>gender</th>\n",
              "      <th>SeniorCitizen</th>\n",
              "      <th>Partner</th>\n",
              "      <th>Dependents</th>\n",
              "      <th>tenure</th>\n",
              "      <th>PhoneService</th>\n",
              "      <th>MultipleLines</th>\n",
              "      <th>OnlineSecurity</th>\n",
              "      <th>OnlineBackup</th>\n",
              "      <th>DeviceProtection</th>\n",
              "      <th>...</th>\n",
              "      <th>MonthlyCharges</th>\n",
              "      <th>TotalCharges</th>\n",
              "      <th>InternetService_Fiber optic</th>\n",
              "      <th>InternetService_No</th>\n",
              "      <th>Contract_One year</th>\n",
              "      <th>Contract_Two year</th>\n",
              "      <th>PaymentMethod_Credit card (automatic)</th>\n",
              "      <th>PaymentMethod_Electronic check</th>\n",
              "      <th>PaymentMethod_Mailed check</th>\n",
              "      <th>Churn</th>\n",
              "    </tr>\n",
              "  </thead>\n",
              "  <tbody>\n",
              "    <tr>\n",
              "      <th>684</th>\n",
              "      <td>1</td>\n",
              "      <td>0</td>\n",
              "      <td>0</td>\n",
              "      <td>0</td>\n",
              "      <td>0.000000</td>\n",
              "      <td>1</td>\n",
              "      <td>0</td>\n",
              "      <td>0</td>\n",
              "      <td>0</td>\n",
              "      <td>0</td>\n",
              "      <td>...</td>\n",
              "      <td>0.525871</td>\n",
              "      <td>0.006035</td>\n",
              "      <td>1</td>\n",
              "      <td>0</td>\n",
              "      <td>0</td>\n",
              "      <td>0</td>\n",
              "      <td>0</td>\n",
              "      <td>0</td>\n",
              "      <td>1</td>\n",
              "      <td>0</td>\n",
              "    </tr>\n",
              "    <tr>\n",
              "      <th>2446</th>\n",
              "      <td>1</td>\n",
              "      <td>0</td>\n",
              "      <td>0</td>\n",
              "      <td>0</td>\n",
              "      <td>0.239437</td>\n",
              "      <td>1</td>\n",
              "      <td>1</td>\n",
              "      <td>0</td>\n",
              "      <td>1</td>\n",
              "      <td>0</td>\n",
              "      <td>...</td>\n",
              "      <td>0.713930</td>\n",
              "      <td>0.174077</td>\n",
              "      <td>1</td>\n",
              "      <td>0</td>\n",
              "      <td>0</td>\n",
              "      <td>0</td>\n",
              "      <td>1</td>\n",
              "      <td>0</td>\n",
              "      <td>0</td>\n",
              "      <td>1</td>\n",
              "    </tr>\n",
              "    <tr>\n",
              "      <th>1680</th>\n",
              "      <td>0</td>\n",
              "      <td>0</td>\n",
              "      <td>1</td>\n",
              "      <td>1</td>\n",
              "      <td>0.774648</td>\n",
              "      <td>1</td>\n",
              "      <td>1</td>\n",
              "      <td>0</td>\n",
              "      <td>0</td>\n",
              "      <td>0</td>\n",
              "      <td>...</td>\n",
              "      <td>0.061692</td>\n",
              "      <td>0.163034</td>\n",
              "      <td>0</td>\n",
              "      <td>1</td>\n",
              "      <td>1</td>\n",
              "      <td>0</td>\n",
              "      <td>0</td>\n",
              "      <td>0</td>\n",
              "      <td>1</td>\n",
              "      <td>0</td>\n",
              "    </tr>\n",
              "    <tr>\n",
              "      <th>2220</th>\n",
              "      <td>0</td>\n",
              "      <td>0</td>\n",
              "      <td>1</td>\n",
              "      <td>0</td>\n",
              "      <td>1.000000</td>\n",
              "      <td>1</td>\n",
              "      <td>0</td>\n",
              "      <td>1</td>\n",
              "      <td>1</td>\n",
              "      <td>0</td>\n",
              "      <td>...</td>\n",
              "      <td>0.607960</td>\n",
              "      <td>0.661718</td>\n",
              "      <td>0</td>\n",
              "      <td>0</td>\n",
              "      <td>0</td>\n",
              "      <td>1</td>\n",
              "      <td>0</td>\n",
              "      <td>0</td>\n",
              "      <td>0</td>\n",
              "      <td>0</td>\n",
              "    </tr>\n",
              "    <tr>\n",
              "      <th>2842</th>\n",
              "      <td>1</td>\n",
              "      <td>0</td>\n",
              "      <td>0</td>\n",
              "      <td>0</td>\n",
              "      <td>0.042254</td>\n",
              "      <td>0</td>\n",
              "      <td>0</td>\n",
              "      <td>1</td>\n",
              "      <td>0</td>\n",
              "      <td>1</td>\n",
              "      <td>...</td>\n",
              "      <td>0.298507</td>\n",
              "      <td>0.021169</td>\n",
              "      <td>0</td>\n",
              "      <td>0</td>\n",
              "      <td>0</td>\n",
              "      <td>0</td>\n",
              "      <td>0</td>\n",
              "      <td>0</td>\n",
              "      <td>1</td>\n",
              "      <td>0</td>\n",
              "    </tr>\n",
              "  </tbody>\n",
              "</table>\n",
              "<p>5 rows × 24 columns</p>\n",
              "</div>\n",
              "      <button class=\"colab-df-convert\" onclick=\"convertToInteractive('df-bb1eb111-7cf7-40e2-8453-091792eab3d4')\"\n",
              "              title=\"Convert this dataframe to an interactive table.\"\n",
              "              style=\"display:none;\">\n",
              "        \n",
              "  <svg xmlns=\"http://www.w3.org/2000/svg\" height=\"24px\"viewBox=\"0 0 24 24\"\n",
              "       width=\"24px\">\n",
              "    <path d=\"M0 0h24v24H0V0z\" fill=\"none\"/>\n",
              "    <path d=\"M18.56 5.44l.94 2.06.94-2.06 2.06-.94-2.06-.94-.94-2.06-.94 2.06-2.06.94zm-11 1L8.5 8.5l.94-2.06 2.06-.94-2.06-.94L8.5 2.5l-.94 2.06-2.06.94zm10 10l.94 2.06.94-2.06 2.06-.94-2.06-.94-.94-2.06-.94 2.06-2.06.94z\"/><path d=\"M17.41 7.96l-1.37-1.37c-.4-.4-.92-.59-1.43-.59-.52 0-1.04.2-1.43.59L10.3 9.45l-7.72 7.72c-.78.78-.78 2.05 0 2.83L4 21.41c.39.39.9.59 1.41.59.51 0 1.02-.2 1.41-.59l7.78-7.78 2.81-2.81c.8-.78.8-2.07 0-2.86zM5.41 20L4 18.59l7.72-7.72 1.47 1.35L5.41 20z\"/>\n",
              "  </svg>\n",
              "      </button>\n",
              "      \n",
              "  <style>\n",
              "    .colab-df-container {\n",
              "      display:flex;\n",
              "      flex-wrap:wrap;\n",
              "      gap: 12px;\n",
              "    }\n",
              "\n",
              "    .colab-df-convert {\n",
              "      background-color: #E8F0FE;\n",
              "      border: none;\n",
              "      border-radius: 50%;\n",
              "      cursor: pointer;\n",
              "      display: none;\n",
              "      fill: #1967D2;\n",
              "      height: 32px;\n",
              "      padding: 0 0 0 0;\n",
              "      width: 32px;\n",
              "    }\n",
              "\n",
              "    .colab-df-convert:hover {\n",
              "      background-color: #E2EBFA;\n",
              "      box-shadow: 0px 1px 2px rgba(60, 64, 67, 0.3), 0px 1px 3px 1px rgba(60, 64, 67, 0.15);\n",
              "      fill: #174EA6;\n",
              "    }\n",
              "\n",
              "    [theme=dark] .colab-df-convert {\n",
              "      background-color: #3B4455;\n",
              "      fill: #D2E3FC;\n",
              "    }\n",
              "\n",
              "    [theme=dark] .colab-df-convert:hover {\n",
              "      background-color: #434B5C;\n",
              "      box-shadow: 0px 1px 3px 1px rgba(0, 0, 0, 0.15);\n",
              "      filter: drop-shadow(0px 1px 2px rgba(0, 0, 0, 0.3));\n",
              "      fill: #FFFFFF;\n",
              "    }\n",
              "  </style>\n",
              "\n",
              "      <script>\n",
              "        const buttonEl =\n",
              "          document.querySelector('#df-bb1eb111-7cf7-40e2-8453-091792eab3d4 button.colab-df-convert');\n",
              "        buttonEl.style.display =\n",
              "          google.colab.kernel.accessAllowed ? 'block' : 'none';\n",
              "\n",
              "        async function convertToInteractive(key) {\n",
              "          const element = document.querySelector('#df-bb1eb111-7cf7-40e2-8453-091792eab3d4');\n",
              "          const dataTable =\n",
              "            await google.colab.kernel.invokeFunction('convertToInteractive',\n",
              "                                                     [key], {});\n",
              "          if (!dataTable) return;\n",
              "\n",
              "          const docLinkHtml = 'Like what you see? Visit the ' +\n",
              "            '<a target=\"_blank\" href=https://colab.research.google.com/notebooks/data_table.ipynb>data table notebook</a>'\n",
              "            + ' to learn more about interactive tables.';\n",
              "          element.innerHTML = '';\n",
              "          dataTable['output_type'] = 'display_data';\n",
              "          await google.colab.output.renderOutput(dataTable, element);\n",
              "          const docLink = document.createElement('div');\n",
              "          docLink.innerHTML = docLinkHtml;\n",
              "          element.appendChild(docLink);\n",
              "        }\n",
              "      </script>\n",
              "    </div>\n",
              "  </div>\n",
              "  "
            ]
          },
          "metadata": {},
          "execution_count": 52
        }
      ]
    },
    {
      "cell_type": "code",
      "source": [
        "df3_class0 = df3[df3.Churn==0]\n",
        "df3_class1 = df3[df3.Churn==1]"
      ],
      "metadata": {
        "id": "2ZhbCJ742KaE"
      },
      "execution_count": 53,
      "outputs": []
    },
    {
      "cell_type": "code",
      "source": [
        "def get_train_batch(df_majority, df_minority, start, end):\n",
        "    df_train = pd.concat([df_majority[start:end], df_minority], axis=0)\n",
        "\n",
        "    X_train = df_train.drop('Churn', axis='columns')\n",
        "    y_train = df_train.Churn\n",
        "    return X_train, y_train  "
      ],
      "metadata": {
        "id": "GWZA0Tud2ObS"
      },
      "execution_count": 54,
      "outputs": []
    },
    {
      "cell_type": "code",
      "source": [
        "X_train, y_train = get_train_batch(df3_class0, df3_class1, 0, 1495)\n",
        "\n",
        "y_pred1 = ANN(X_train, y_train, X_test, y_test, 'binary_crossentropy', -1)"
      ],
      "metadata": {
        "colab": {
          "base_uri": "https://localhost:8080/"
        },
        "id": "cXTChMok2Taf",
        "outputId": "40af70ee-6214-45fd-ea50-8337ff294225"
      },
      "execution_count": 55,
      "outputs": [
        {
          "output_type": "stream",
          "name": "stdout",
          "text": [
            "Epoch 1/100\n",
            "94/94 [==============================] - 1s 3ms/step - loss: 0.6281 - accuracy: 0.6759\n",
            "Epoch 2/100\n",
            "94/94 [==============================] - 0s 3ms/step - loss: 0.5248 - accuracy: 0.7445\n",
            "Epoch 3/100\n",
            "94/94 [==============================] - 0s 3ms/step - loss: 0.4972 - accuracy: 0.7609\n",
            "Epoch 4/100\n",
            "94/94 [==============================] - 0s 3ms/step - loss: 0.4902 - accuracy: 0.7712\n",
            "Epoch 5/100\n",
            "94/94 [==============================] - 0s 3ms/step - loss: 0.4841 - accuracy: 0.7689\n",
            "Epoch 6/100\n",
            "94/94 [==============================] - 0s 3ms/step - loss: 0.4813 - accuracy: 0.7722\n",
            "Epoch 7/100\n",
            "94/94 [==============================] - 0s 3ms/step - loss: 0.4791 - accuracy: 0.7669\n",
            "Epoch 8/100\n",
            "94/94 [==============================] - 0s 3ms/step - loss: 0.4756 - accuracy: 0.7699\n",
            "Epoch 9/100\n",
            "94/94 [==============================] - 0s 3ms/step - loss: 0.4740 - accuracy: 0.7746\n",
            "Epoch 10/100\n",
            "94/94 [==============================] - 0s 3ms/step - loss: 0.4726 - accuracy: 0.7756\n",
            "Epoch 11/100\n",
            "94/94 [==============================] - 0s 3ms/step - loss: 0.4717 - accuracy: 0.7763\n",
            "Epoch 12/100\n",
            "94/94 [==============================] - 0s 3ms/step - loss: 0.4675 - accuracy: 0.7763\n",
            "Epoch 13/100\n",
            "94/94 [==============================] - 0s 3ms/step - loss: 0.4666 - accuracy: 0.7836\n",
            "Epoch 14/100\n",
            "94/94 [==============================] - 0s 3ms/step - loss: 0.4648 - accuracy: 0.7819\n",
            "Epoch 15/100\n",
            "94/94 [==============================] - 0s 3ms/step - loss: 0.4635 - accuracy: 0.7819\n",
            "Epoch 16/100\n",
            "94/94 [==============================] - 0s 3ms/step - loss: 0.4622 - accuracy: 0.7839\n",
            "Epoch 17/100\n",
            "94/94 [==============================] - 0s 3ms/step - loss: 0.4599 - accuracy: 0.7826\n",
            "Epoch 18/100\n",
            "94/94 [==============================] - 0s 3ms/step - loss: 0.4583 - accuracy: 0.7849\n",
            "Epoch 19/100\n",
            "94/94 [==============================] - 0s 3ms/step - loss: 0.4563 - accuracy: 0.7903\n",
            "Epoch 20/100\n",
            "94/94 [==============================] - 0s 3ms/step - loss: 0.4548 - accuracy: 0.7873\n",
            "Epoch 21/100\n",
            "94/94 [==============================] - 0s 3ms/step - loss: 0.4540 - accuracy: 0.7893\n",
            "Epoch 22/100\n",
            "94/94 [==============================] - 0s 3ms/step - loss: 0.4531 - accuracy: 0.7883\n",
            "Epoch 23/100\n",
            "94/94 [==============================] - 0s 3ms/step - loss: 0.4513 - accuracy: 0.7910\n",
            "Epoch 24/100\n",
            "94/94 [==============================] - 0s 3ms/step - loss: 0.4514 - accuracy: 0.7916\n",
            "Epoch 25/100\n",
            "94/94 [==============================] - 0s 3ms/step - loss: 0.4482 - accuracy: 0.7890\n",
            "Epoch 26/100\n",
            "94/94 [==============================] - 0s 3ms/step - loss: 0.4493 - accuracy: 0.7923\n",
            "Epoch 27/100\n",
            "94/94 [==============================] - 0s 3ms/step - loss: 0.4470 - accuracy: 0.7930\n",
            "Epoch 28/100\n",
            "94/94 [==============================] - 0s 3ms/step - loss: 0.4458 - accuracy: 0.7930\n",
            "Epoch 29/100\n",
            "94/94 [==============================] - 0s 3ms/step - loss: 0.4448 - accuracy: 0.7946\n",
            "Epoch 30/100\n",
            "94/94 [==============================] - 0s 3ms/step - loss: 0.4438 - accuracy: 0.7933\n",
            "Epoch 31/100\n",
            "94/94 [==============================] - 0s 3ms/step - loss: 0.4431 - accuracy: 0.7930\n",
            "Epoch 32/100\n",
            "94/94 [==============================] - 0s 3ms/step - loss: 0.4422 - accuracy: 0.7943\n",
            "Epoch 33/100\n",
            "94/94 [==============================] - 0s 3ms/step - loss: 0.4404 - accuracy: 0.7940\n",
            "Epoch 34/100\n",
            "94/94 [==============================] - 0s 3ms/step - loss: 0.4404 - accuracy: 0.7973\n",
            "Epoch 35/100\n",
            "94/94 [==============================] - 0s 3ms/step - loss: 0.4375 - accuracy: 0.7926\n",
            "Epoch 36/100\n",
            "94/94 [==============================] - 0s 3ms/step - loss: 0.4384 - accuracy: 0.7953\n",
            "Epoch 37/100\n",
            "94/94 [==============================] - 0s 3ms/step - loss: 0.4372 - accuracy: 0.7990\n",
            "Epoch 38/100\n",
            "94/94 [==============================] - 0s 3ms/step - loss: 0.4362 - accuracy: 0.8017\n",
            "Epoch 39/100\n",
            "94/94 [==============================] - 0s 3ms/step - loss: 0.4355 - accuracy: 0.8013\n",
            "Epoch 40/100\n",
            "94/94 [==============================] - 0s 3ms/step - loss: 0.4359 - accuracy: 0.7963\n",
            "Epoch 41/100\n",
            "94/94 [==============================] - 0s 3ms/step - loss: 0.4326 - accuracy: 0.8013\n",
            "Epoch 42/100\n",
            "94/94 [==============================] - 0s 3ms/step - loss: 0.4325 - accuracy: 0.8030\n",
            "Epoch 43/100\n",
            "94/94 [==============================] - 0s 3ms/step - loss: 0.4303 - accuracy: 0.8067\n",
            "Epoch 44/100\n",
            "94/94 [==============================] - 0s 3ms/step - loss: 0.4317 - accuracy: 0.8020\n",
            "Epoch 45/100\n",
            "94/94 [==============================] - 0s 3ms/step - loss: 0.4288 - accuracy: 0.8033\n",
            "Epoch 46/100\n",
            "94/94 [==============================] - 0s 3ms/step - loss: 0.4287 - accuracy: 0.8013\n",
            "Epoch 47/100\n",
            "94/94 [==============================] - 0s 3ms/step - loss: 0.4264 - accuracy: 0.8013\n",
            "Epoch 48/100\n",
            "94/94 [==============================] - 0s 3ms/step - loss: 0.4280 - accuracy: 0.8054\n",
            "Epoch 49/100\n",
            "94/94 [==============================] - 0s 3ms/step - loss: 0.4261 - accuracy: 0.8057\n",
            "Epoch 50/100\n",
            "94/94 [==============================] - 0s 3ms/step - loss: 0.4252 - accuracy: 0.8070\n",
            "Epoch 51/100\n",
            "94/94 [==============================] - 0s 3ms/step - loss: 0.4248 - accuracy: 0.8047\n",
            "Epoch 52/100\n",
            "94/94 [==============================] - 0s 3ms/step - loss: 0.4249 - accuracy: 0.8087\n",
            "Epoch 53/100\n",
            "94/94 [==============================] - 0s 3ms/step - loss: 0.4224 - accuracy: 0.8107\n",
            "Epoch 54/100\n",
            "94/94 [==============================] - 0s 3ms/step - loss: 0.4204 - accuracy: 0.8057\n",
            "Epoch 55/100\n",
            "94/94 [==============================] - 0s 3ms/step - loss: 0.4221 - accuracy: 0.8067\n",
            "Epoch 56/100\n",
            "94/94 [==============================] - 0s 3ms/step - loss: 0.4196 - accuracy: 0.8070\n",
            "Epoch 57/100\n",
            "94/94 [==============================] - 0s 3ms/step - loss: 0.4178 - accuracy: 0.8114\n",
            "Epoch 58/100\n",
            "94/94 [==============================] - 0s 3ms/step - loss: 0.4180 - accuracy: 0.8087\n",
            "Epoch 59/100\n",
            "94/94 [==============================] - 0s 3ms/step - loss: 0.4174 - accuracy: 0.8127\n",
            "Epoch 60/100\n",
            "94/94 [==============================] - 0s 3ms/step - loss: 0.4148 - accuracy: 0.8157\n",
            "Epoch 61/100\n",
            "94/94 [==============================] - 0s 3ms/step - loss: 0.4161 - accuracy: 0.8097\n",
            "Epoch 62/100\n",
            "94/94 [==============================] - 0s 3ms/step - loss: 0.4152 - accuracy: 0.8094\n",
            "Epoch 63/100\n",
            "94/94 [==============================] - 0s 3ms/step - loss: 0.4149 - accuracy: 0.8134\n",
            "Epoch 64/100\n",
            "94/94 [==============================] - 0s 3ms/step - loss: 0.4135 - accuracy: 0.8090\n",
            "Epoch 65/100\n",
            "94/94 [==============================] - 0s 3ms/step - loss: 0.4126 - accuracy: 0.8127\n",
            "Epoch 66/100\n",
            "94/94 [==============================] - 0s 3ms/step - loss: 0.4120 - accuracy: 0.8114\n",
            "Epoch 67/100\n",
            "94/94 [==============================] - 0s 3ms/step - loss: 0.4112 - accuracy: 0.8164\n",
            "Epoch 68/100\n",
            "94/94 [==============================] - 0s 3ms/step - loss: 0.4094 - accuracy: 0.8137\n",
            "Epoch 69/100\n",
            "94/94 [==============================] - 0s 3ms/step - loss: 0.4108 - accuracy: 0.8137\n",
            "Epoch 70/100\n",
            "94/94 [==============================] - 0s 3ms/step - loss: 0.4089 - accuracy: 0.8094\n",
            "Epoch 71/100\n",
            "94/94 [==============================] - 0s 3ms/step - loss: 0.4078 - accuracy: 0.8147\n",
            "Epoch 72/100\n",
            "94/94 [==============================] - 0s 3ms/step - loss: 0.4076 - accuracy: 0.8181\n",
            "Epoch 73/100\n",
            "94/94 [==============================] - 0s 3ms/step - loss: 0.4110 - accuracy: 0.8144\n",
            "Epoch 74/100\n",
            "94/94 [==============================] - 0s 3ms/step - loss: 0.4064 - accuracy: 0.8171\n",
            "Epoch 75/100\n",
            "94/94 [==============================] - 0s 3ms/step - loss: 0.4064 - accuracy: 0.8154\n",
            "Epoch 76/100\n",
            "94/94 [==============================] - 0s 3ms/step - loss: 0.4033 - accuracy: 0.8177\n",
            "Epoch 77/100\n",
            "94/94 [==============================] - 0s 3ms/step - loss: 0.4041 - accuracy: 0.8211\n",
            "Epoch 78/100\n",
            "94/94 [==============================] - 0s 3ms/step - loss: 0.4038 - accuracy: 0.8194\n",
            "Epoch 79/100\n",
            "94/94 [==============================] - 0s 3ms/step - loss: 0.4035 - accuracy: 0.8161\n",
            "Epoch 80/100\n",
            "94/94 [==============================] - 0s 3ms/step - loss: 0.4013 - accuracy: 0.8177\n",
            "Epoch 81/100\n",
            "94/94 [==============================] - 0s 3ms/step - loss: 0.4012 - accuracy: 0.8177\n",
            "Epoch 82/100\n",
            "94/94 [==============================] - 0s 3ms/step - loss: 0.4007 - accuracy: 0.8191\n",
            "Epoch 83/100\n",
            "94/94 [==============================] - 0s 3ms/step - loss: 0.4008 - accuracy: 0.8161\n",
            "Epoch 84/100\n",
            "94/94 [==============================] - 0s 3ms/step - loss: 0.3985 - accuracy: 0.8171\n",
            "Epoch 85/100\n",
            "94/94 [==============================] - 0s 3ms/step - loss: 0.3993 - accuracy: 0.8130\n",
            "Epoch 86/100\n",
            "94/94 [==============================] - 0s 3ms/step - loss: 0.3997 - accuracy: 0.8201\n",
            "Epoch 87/100\n",
            "94/94 [==============================] - 0s 3ms/step - loss: 0.3967 - accuracy: 0.8177\n",
            "Epoch 88/100\n",
            "94/94 [==============================] - 0s 3ms/step - loss: 0.3965 - accuracy: 0.8204\n",
            "Epoch 89/100\n",
            "94/94 [==============================] - 0s 3ms/step - loss: 0.3957 - accuracy: 0.8224\n",
            "Epoch 90/100\n",
            "94/94 [==============================] - 0s 3ms/step - loss: 0.3950 - accuracy: 0.8234\n",
            "Epoch 91/100\n",
            "94/94 [==============================] - 0s 3ms/step - loss: 0.3963 - accuracy: 0.8181\n",
            "Epoch 92/100\n",
            "94/94 [==============================] - 0s 3ms/step - loss: 0.3934 - accuracy: 0.8237\n",
            "Epoch 93/100\n",
            "94/94 [==============================] - 0s 3ms/step - loss: 0.3940 - accuracy: 0.8174\n",
            "Epoch 94/100\n",
            "94/94 [==============================] - 0s 3ms/step - loss: 0.3925 - accuracy: 0.8207\n",
            "Epoch 95/100\n",
            "94/94 [==============================] - 0s 3ms/step - loss: 0.3927 - accuracy: 0.8217\n",
            "Epoch 96/100\n",
            "94/94 [==============================] - 0s 3ms/step - loss: 0.3908 - accuracy: 0.8244\n",
            "Epoch 97/100\n",
            "94/94 [==============================] - 0s 3ms/step - loss: 0.3906 - accuracy: 0.8157\n",
            "Epoch 98/100\n",
            "94/94 [==============================] - 0s 3ms/step - loss: 0.3892 - accuracy: 0.8284\n",
            "Epoch 99/100\n",
            "94/94 [==============================] - 0s 3ms/step - loss: 0.3883 - accuracy: 0.8258\n",
            "Epoch 100/100\n",
            "94/94 [==============================] - 0s 3ms/step - loss: 0.3876 - accuracy: 0.8244\n",
            "44/44 [==============================] - 0s 2ms/step - loss: 0.5893 - accuracy: 0.7107\n",
            "[0.5893182158470154, 0.7107320427894592]\n",
            "44/44 [==============================] - 0s 1ms/step\n",
            "Classification Report: \n",
            "               precision    recall  f1-score   support\n",
            "\n",
            "           0       0.89      0.69      0.78      1033\n",
            "           1       0.47      0.76      0.58       374\n",
            "\n",
            "    accuracy                           0.71      1407\n",
            "   macro avg       0.68      0.73      0.68      1407\n",
            "weighted avg       0.78      0.71      0.73      1407\n",
            "\n"
          ]
        }
      ]
    },
    {
      "cell_type": "code",
      "source": [
        "X_train, y_train = get_train_batch(df3_class0, df3_class1, 1495, 2990)\n",
        "\n",
        "y_pred2 = ANN(X_train, y_train, X_test, y_test, 'binary_crossentropy', -1)"
      ],
      "metadata": {
        "colab": {
          "base_uri": "https://localhost:8080/"
        },
        "id": "QXBwPSqO2qbh",
        "outputId": "81dd5072-9f23-40ad-f42b-555106927168"
      },
      "execution_count": 56,
      "outputs": [
        {
          "output_type": "stream",
          "name": "stdout",
          "text": [
            "Epoch 1/100\n",
            "94/94 [==============================] - 1s 3ms/step - loss: 0.6164 - accuracy: 0.6609\n",
            "Epoch 2/100\n",
            "94/94 [==============================] - 0s 3ms/step - loss: 0.5109 - accuracy: 0.7478\n",
            "Epoch 3/100\n",
            "94/94 [==============================] - 0s 3ms/step - loss: 0.4944 - accuracy: 0.7552\n",
            "Epoch 4/100\n",
            "94/94 [==============================] - 0s 3ms/step - loss: 0.4874 - accuracy: 0.7609\n",
            "Epoch 5/100\n",
            "94/94 [==============================] - 0s 3ms/step - loss: 0.4846 - accuracy: 0.7642\n",
            "Epoch 6/100\n",
            "94/94 [==============================] - 0s 3ms/step - loss: 0.4816 - accuracy: 0.7682\n",
            "Epoch 7/100\n",
            "94/94 [==============================] - 0s 3ms/step - loss: 0.4791 - accuracy: 0.7672\n",
            "Epoch 8/100\n",
            "94/94 [==============================] - 0s 3ms/step - loss: 0.4773 - accuracy: 0.7746\n",
            "Epoch 9/100\n",
            "94/94 [==============================] - 0s 3ms/step - loss: 0.4756 - accuracy: 0.7729\n",
            "Epoch 10/100\n",
            "94/94 [==============================] - 0s 3ms/step - loss: 0.4739 - accuracy: 0.7729\n",
            "Epoch 11/100\n",
            "94/94 [==============================] - 0s 3ms/step - loss: 0.4709 - accuracy: 0.7709\n",
            "Epoch 12/100\n",
            "94/94 [==============================] - 0s 3ms/step - loss: 0.4678 - accuracy: 0.7686\n",
            "Epoch 13/100\n",
            "94/94 [==============================] - 0s 3ms/step - loss: 0.4677 - accuracy: 0.7732\n",
            "Epoch 14/100\n",
            "94/94 [==============================] - 0s 3ms/step - loss: 0.4658 - accuracy: 0.7773\n",
            "Epoch 15/100\n",
            "94/94 [==============================] - 0s 3ms/step - loss: 0.4645 - accuracy: 0.7773\n",
            "Epoch 16/100\n",
            "94/94 [==============================] - 0s 3ms/step - loss: 0.4624 - accuracy: 0.7763\n",
            "Epoch 17/100\n",
            "94/94 [==============================] - 0s 3ms/step - loss: 0.4616 - accuracy: 0.7749\n",
            "Epoch 18/100\n",
            "94/94 [==============================] - 0s 3ms/step - loss: 0.4600 - accuracy: 0.7809\n",
            "Epoch 19/100\n",
            "94/94 [==============================] - 0s 3ms/step - loss: 0.4579 - accuracy: 0.7819\n",
            "Epoch 20/100\n",
            "94/94 [==============================] - 0s 3ms/step - loss: 0.4572 - accuracy: 0.7773\n",
            "Epoch 21/100\n",
            "94/94 [==============================] - 0s 3ms/step - loss: 0.4554 - accuracy: 0.7806\n",
            "Epoch 22/100\n",
            "94/94 [==============================] - 0s 3ms/step - loss: 0.4542 - accuracy: 0.7803\n",
            "Epoch 23/100\n",
            "94/94 [==============================] - 0s 3ms/step - loss: 0.4545 - accuracy: 0.7789\n",
            "Epoch 24/100\n",
            "94/94 [==============================] - 0s 3ms/step - loss: 0.4505 - accuracy: 0.7816\n",
            "Epoch 25/100\n",
            "94/94 [==============================] - 0s 3ms/step - loss: 0.4505 - accuracy: 0.7813\n",
            "Epoch 26/100\n",
            "94/94 [==============================] - 0s 3ms/step - loss: 0.4479 - accuracy: 0.7849\n",
            "Epoch 27/100\n",
            "94/94 [==============================] - 0s 3ms/step - loss: 0.4466 - accuracy: 0.7880\n",
            "Epoch 28/100\n",
            "94/94 [==============================] - 0s 3ms/step - loss: 0.4440 - accuracy: 0.7890\n",
            "Epoch 29/100\n",
            "94/94 [==============================] - 0s 3ms/step - loss: 0.4435 - accuracy: 0.7906\n",
            "Epoch 30/100\n",
            "94/94 [==============================] - 0s 3ms/step - loss: 0.4423 - accuracy: 0.7896\n",
            "Epoch 31/100\n",
            "94/94 [==============================] - 0s 3ms/step - loss: 0.4407 - accuracy: 0.7913\n",
            "Epoch 32/100\n",
            "94/94 [==============================] - 0s 3ms/step - loss: 0.4407 - accuracy: 0.7896\n",
            "Epoch 33/100\n",
            "94/94 [==============================] - 0s 3ms/step - loss: 0.4383 - accuracy: 0.7886\n",
            "Epoch 34/100\n",
            "94/94 [==============================] - 0s 3ms/step - loss: 0.4379 - accuracy: 0.7920\n",
            "Epoch 35/100\n",
            "94/94 [==============================] - 0s 3ms/step - loss: 0.4354 - accuracy: 0.7910\n",
            "Epoch 36/100\n",
            "94/94 [==============================] - 0s 3ms/step - loss: 0.4369 - accuracy: 0.7933\n",
            "Epoch 37/100\n",
            "94/94 [==============================] - 0s 3ms/step - loss: 0.4337 - accuracy: 0.7940\n",
            "Epoch 38/100\n",
            "94/94 [==============================] - 0s 3ms/step - loss: 0.4329 - accuracy: 0.7983\n",
            "Epoch 39/100\n",
            "94/94 [==============================] - 0s 3ms/step - loss: 0.4324 - accuracy: 0.7983\n",
            "Epoch 40/100\n",
            "94/94 [==============================] - 0s 3ms/step - loss: 0.4302 - accuracy: 0.7967\n",
            "Epoch 41/100\n",
            "94/94 [==============================] - 0s 3ms/step - loss: 0.4287 - accuracy: 0.8013\n",
            "Epoch 42/100\n",
            "94/94 [==============================] - 0s 3ms/step - loss: 0.4281 - accuracy: 0.8007\n",
            "Epoch 43/100\n",
            "94/94 [==============================] - 0s 3ms/step - loss: 0.4281 - accuracy: 0.8023\n",
            "Epoch 44/100\n",
            "94/94 [==============================] - 0s 3ms/step - loss: 0.4259 - accuracy: 0.7983\n",
            "Epoch 45/100\n",
            "94/94 [==============================] - 0s 3ms/step - loss: 0.4236 - accuracy: 0.7997\n",
            "Epoch 46/100\n",
            "94/94 [==============================] - 0s 3ms/step - loss: 0.4235 - accuracy: 0.8050\n",
            "Epoch 47/100\n",
            "94/94 [==============================] - 0s 3ms/step - loss: 0.4230 - accuracy: 0.7963\n",
            "Epoch 48/100\n",
            "94/94 [==============================] - 0s 3ms/step - loss: 0.4213 - accuracy: 0.8003\n",
            "Epoch 49/100\n",
            "94/94 [==============================] - 0s 3ms/step - loss: 0.4204 - accuracy: 0.7983\n",
            "Epoch 50/100\n",
            "94/94 [==============================] - 0s 3ms/step - loss: 0.4205 - accuracy: 0.8013\n",
            "Epoch 51/100\n",
            "94/94 [==============================] - 0s 3ms/step - loss: 0.4194 - accuracy: 0.7983\n",
            "Epoch 52/100\n",
            "94/94 [==============================] - 0s 3ms/step - loss: 0.4170 - accuracy: 0.8020\n",
            "Epoch 53/100\n",
            "94/94 [==============================] - 0s 3ms/step - loss: 0.4172 - accuracy: 0.8040\n",
            "Epoch 54/100\n",
            "94/94 [==============================] - 0s 3ms/step - loss: 0.4157 - accuracy: 0.8030\n",
            "Epoch 55/100\n",
            "94/94 [==============================] - 0s 3ms/step - loss: 0.4150 - accuracy: 0.8013\n",
            "Epoch 56/100\n",
            "94/94 [==============================] - 0s 3ms/step - loss: 0.4157 - accuracy: 0.8050\n",
            "Epoch 57/100\n",
            "94/94 [==============================] - 0s 3ms/step - loss: 0.4129 - accuracy: 0.8057\n",
            "Epoch 58/100\n",
            "94/94 [==============================] - 0s 3ms/step - loss: 0.4122 - accuracy: 0.8070\n",
            "Epoch 59/100\n",
            "94/94 [==============================] - 0s 3ms/step - loss: 0.4120 - accuracy: 0.8020\n",
            "Epoch 60/100\n",
            "94/94 [==============================] - 0s 3ms/step - loss: 0.4112 - accuracy: 0.8070\n",
            "Epoch 61/100\n",
            "94/94 [==============================] - 0s 3ms/step - loss: 0.4112 - accuracy: 0.8060\n",
            "Epoch 62/100\n",
            "94/94 [==============================] - 0s 3ms/step - loss: 0.4084 - accuracy: 0.8070\n",
            "Epoch 63/100\n",
            "94/94 [==============================] - 0s 3ms/step - loss: 0.4080 - accuracy: 0.8070\n",
            "Epoch 64/100\n",
            "94/94 [==============================] - 0s 3ms/step - loss: 0.4084 - accuracy: 0.8080\n",
            "Epoch 65/100\n",
            "94/94 [==============================] - 0s 3ms/step - loss: 0.4072 - accuracy: 0.8087\n",
            "Epoch 66/100\n",
            "94/94 [==============================] - 0s 3ms/step - loss: 0.4057 - accuracy: 0.8070\n",
            "Epoch 67/100\n",
            "94/94 [==============================] - 0s 3ms/step - loss: 0.4086 - accuracy: 0.8054\n",
            "Epoch 68/100\n",
            "94/94 [==============================] - 0s 3ms/step - loss: 0.4044 - accuracy: 0.8097\n",
            "Epoch 69/100\n",
            "94/94 [==============================] - 0s 3ms/step - loss: 0.4039 - accuracy: 0.8067\n",
            "Epoch 70/100\n",
            "94/94 [==============================] - 0s 3ms/step - loss: 0.4026 - accuracy: 0.8144\n",
            "Epoch 71/100\n",
            "94/94 [==============================] - 0s 3ms/step - loss: 0.4042 - accuracy: 0.8090\n",
            "Epoch 72/100\n",
            "94/94 [==============================] - 0s 3ms/step - loss: 0.4033 - accuracy: 0.8067\n",
            "Epoch 73/100\n",
            "94/94 [==============================] - 0s 3ms/step - loss: 0.4044 - accuracy: 0.8077\n",
            "Epoch 74/100\n",
            "94/94 [==============================] - 0s 3ms/step - loss: 0.4014 - accuracy: 0.8130\n",
            "Epoch 75/100\n",
            "94/94 [==============================] - 0s 3ms/step - loss: 0.4018 - accuracy: 0.8130\n",
            "Epoch 76/100\n",
            "94/94 [==============================] - 0s 3ms/step - loss: 0.3998 - accuracy: 0.8094\n",
            "Epoch 77/100\n",
            "94/94 [==============================] - 0s 3ms/step - loss: 0.3999 - accuracy: 0.8114\n",
            "Epoch 78/100\n",
            "94/94 [==============================] - 0s 3ms/step - loss: 0.3979 - accuracy: 0.8127\n",
            "Epoch 79/100\n",
            "94/94 [==============================] - 0s 3ms/step - loss: 0.3975 - accuracy: 0.8137\n",
            "Epoch 80/100\n",
            "94/94 [==============================] - 0s 3ms/step - loss: 0.3976 - accuracy: 0.8151\n",
            "Epoch 81/100\n",
            "94/94 [==============================] - 0s 3ms/step - loss: 0.3964 - accuracy: 0.8144\n",
            "Epoch 82/100\n",
            "94/94 [==============================] - 0s 3ms/step - loss: 0.3941 - accuracy: 0.8124\n",
            "Epoch 83/100\n",
            "94/94 [==============================] - 0s 3ms/step - loss: 0.3948 - accuracy: 0.8151\n",
            "Epoch 84/100\n",
            "94/94 [==============================] - 0s 3ms/step - loss: 0.3953 - accuracy: 0.8110\n",
            "Epoch 85/100\n",
            "94/94 [==============================] - 0s 3ms/step - loss: 0.3930 - accuracy: 0.8171\n",
            "Epoch 86/100\n",
            "94/94 [==============================] - 0s 3ms/step - loss: 0.3924 - accuracy: 0.8174\n",
            "Epoch 87/100\n",
            "94/94 [==============================] - 0s 3ms/step - loss: 0.3939 - accuracy: 0.8164\n",
            "Epoch 88/100\n",
            "94/94 [==============================] - 0s 3ms/step - loss: 0.3947 - accuracy: 0.8177\n",
            "Epoch 89/100\n",
            "94/94 [==============================] - 0s 3ms/step - loss: 0.3901 - accuracy: 0.8194\n",
            "Epoch 90/100\n",
            "94/94 [==============================] - 0s 3ms/step - loss: 0.3897 - accuracy: 0.8194\n",
            "Epoch 91/100\n",
            "94/94 [==============================] - 0s 3ms/step - loss: 0.3923 - accuracy: 0.8184\n",
            "Epoch 92/100\n",
            "94/94 [==============================] - 0s 3ms/step - loss: 0.3910 - accuracy: 0.8184\n",
            "Epoch 93/100\n",
            "94/94 [==============================] - 0s 3ms/step - loss: 0.3911 - accuracy: 0.8171\n",
            "Epoch 94/100\n",
            "94/94 [==============================] - 0s 3ms/step - loss: 0.3877 - accuracy: 0.8268\n",
            "Epoch 95/100\n",
            "94/94 [==============================] - 0s 3ms/step - loss: 0.3881 - accuracy: 0.8237\n",
            "Epoch 96/100\n",
            "94/94 [==============================] - 0s 3ms/step - loss: 0.3865 - accuracy: 0.8224\n",
            "Epoch 97/100\n",
            "94/94 [==============================] - 0s 3ms/step - loss: 0.3871 - accuracy: 0.8211\n",
            "Epoch 98/100\n",
            "94/94 [==============================] - 0s 3ms/step - loss: 0.3865 - accuracy: 0.8237\n",
            "Epoch 99/100\n",
            "94/94 [==============================] - 0s 3ms/step - loss: 0.3862 - accuracy: 0.8224\n",
            "Epoch 100/100\n",
            "94/94 [==============================] - 0s 3ms/step - loss: 0.3858 - accuracy: 0.8187\n",
            "44/44 [==============================] - 0s 2ms/step - loss: 0.5633 - accuracy: 0.7271\n",
            "[0.5632606148719788, 0.727078914642334]\n",
            "44/44 [==============================] - 0s 1ms/step\n",
            "Classification Report: \n",
            "               precision    recall  f1-score   support\n",
            "\n",
            "           0       0.87      0.74      0.80      1033\n",
            "           1       0.49      0.70      0.58       374\n",
            "\n",
            "    accuracy                           0.73      1407\n",
            "   macro avg       0.68      0.72      0.69      1407\n",
            "weighted avg       0.77      0.73      0.74      1407\n",
            "\n"
          ]
        }
      ]
    },
    {
      "cell_type": "code",
      "source": [
        "X_train, y_train = get_train_batch(df3_class0, df3_class1, 2990, 4130)\n",
        "\n",
        "y_pred3 = ANN(X_train, y_train, X_test, y_test, 'binary_crossentropy', -1)"
      ],
      "metadata": {
        "colab": {
          "base_uri": "https://localhost:8080/"
        },
        "id": "lmxh_LD33FxK",
        "outputId": "24d53de7-6151-4fc2-da02-e10c350a1815"
      },
      "execution_count": 57,
      "outputs": [
        {
          "output_type": "stream",
          "name": "stdout",
          "text": [
            "Epoch 1/100\n",
            "83/83 [==============================] - 1s 3ms/step - loss: 0.5796 - accuracy: 0.7351\n",
            "Epoch 2/100\n",
            "83/83 [==============================] - 0s 3ms/step - loss: 0.5037 - accuracy: 0.7620\n",
            "Epoch 3/100\n",
            "83/83 [==============================] - 0s 3ms/step - loss: 0.4890 - accuracy: 0.7708\n",
            "Epoch 4/100\n",
            "83/83 [==============================] - 0s 3ms/step - loss: 0.4796 - accuracy: 0.7806\n",
            "Epoch 5/100\n",
            "83/83 [==============================] - 0s 3ms/step - loss: 0.4759 - accuracy: 0.7719\n",
            "Epoch 6/100\n",
            "83/83 [==============================] - 0s 3ms/step - loss: 0.4728 - accuracy: 0.7780\n",
            "Epoch 7/100\n",
            "83/83 [==============================] - 0s 3ms/step - loss: 0.4698 - accuracy: 0.7841\n",
            "Epoch 8/100\n",
            "83/83 [==============================] - 0s 3ms/step - loss: 0.4664 - accuracy: 0.7875\n",
            "Epoch 9/100\n",
            "83/83 [==============================] - 0s 3ms/step - loss: 0.4640 - accuracy: 0.7882\n",
            "Epoch 10/100\n",
            "83/83 [==============================] - 0s 3ms/step - loss: 0.4632 - accuracy: 0.7863\n",
            "Epoch 11/100\n",
            "83/83 [==============================] - 0s 3ms/step - loss: 0.4601 - accuracy: 0.7913\n",
            "Epoch 12/100\n",
            "83/83 [==============================] - 0s 3ms/step - loss: 0.4583 - accuracy: 0.7894\n",
            "Epoch 13/100\n",
            "83/83 [==============================] - 0s 3ms/step - loss: 0.4578 - accuracy: 0.7913\n",
            "Epoch 14/100\n",
            "83/83 [==============================] - 0s 3ms/step - loss: 0.4562 - accuracy: 0.7894\n",
            "Epoch 15/100\n",
            "83/83 [==============================] - 0s 3ms/step - loss: 0.4552 - accuracy: 0.7928\n",
            "Epoch 16/100\n",
            "83/83 [==============================] - 0s 3ms/step - loss: 0.4516 - accuracy: 0.7939\n",
            "Epoch 17/100\n",
            "83/83 [==============================] - 0s 3ms/step - loss: 0.4524 - accuracy: 0.7924\n",
            "Epoch 18/100\n",
            "83/83 [==============================] - 0s 3ms/step - loss: 0.4487 - accuracy: 0.7951\n",
            "Epoch 19/100\n",
            "83/83 [==============================] - 0s 3ms/step - loss: 0.4480 - accuracy: 0.7970\n",
            "Epoch 20/100\n",
            "83/83 [==============================] - 0s 3ms/step - loss: 0.4457 - accuracy: 0.7985\n",
            "Epoch 21/100\n",
            "83/83 [==============================] - 0s 3ms/step - loss: 0.4445 - accuracy: 0.7985\n",
            "Epoch 22/100\n",
            "83/83 [==============================] - 0s 3ms/step - loss: 0.4415 - accuracy: 0.8008\n",
            "Epoch 23/100\n",
            "83/83 [==============================] - 0s 3ms/step - loss: 0.4416 - accuracy: 0.8000\n",
            "Epoch 24/100\n",
            "83/83 [==============================] - 0s 3ms/step - loss: 0.4398 - accuracy: 0.7958\n",
            "Epoch 25/100\n",
            "83/83 [==============================] - 0s 3ms/step - loss: 0.4387 - accuracy: 0.8019\n",
            "Epoch 26/100\n",
            "83/83 [==============================] - 0s 3ms/step - loss: 0.4371 - accuracy: 0.7985\n",
            "Epoch 27/100\n",
            "83/83 [==============================] - 0s 3ms/step - loss: 0.4361 - accuracy: 0.7985\n",
            "Epoch 28/100\n",
            "83/83 [==============================] - 0s 3ms/step - loss: 0.4323 - accuracy: 0.8038\n",
            "Epoch 29/100\n",
            "83/83 [==============================] - 0s 3ms/step - loss: 0.4327 - accuracy: 0.8000\n",
            "Epoch 30/100\n",
            "83/83 [==============================] - 0s 3ms/step - loss: 0.4331 - accuracy: 0.8030\n",
            "Epoch 31/100\n",
            "83/83 [==============================] - 0s 3ms/step - loss: 0.4299 - accuracy: 0.8072\n",
            "Epoch 32/100\n",
            "83/83 [==============================] - 0s 3ms/step - loss: 0.4281 - accuracy: 0.8091\n",
            "Epoch 33/100\n",
            "83/83 [==============================] - 0s 3ms/step - loss: 0.4274 - accuracy: 0.8076\n",
            "Epoch 34/100\n",
            "83/83 [==============================] - 0s 3ms/step - loss: 0.4273 - accuracy: 0.8023\n",
            "Epoch 35/100\n",
            "83/83 [==============================] - 0s 3ms/step - loss: 0.4242 - accuracy: 0.8049\n",
            "Epoch 36/100\n",
            "83/83 [==============================] - 0s 3ms/step - loss: 0.4257 - accuracy: 0.8087\n",
            "Epoch 37/100\n",
            "83/83 [==============================] - 0s 3ms/step - loss: 0.4226 - accuracy: 0.8080\n",
            "Epoch 38/100\n",
            "83/83 [==============================] - 0s 3ms/step - loss: 0.4214 - accuracy: 0.8102\n",
            "Epoch 39/100\n",
            "83/83 [==============================] - 0s 3ms/step - loss: 0.4217 - accuracy: 0.8068\n",
            "Epoch 40/100\n",
            "83/83 [==============================] - 0s 3ms/step - loss: 0.4204 - accuracy: 0.8099\n",
            "Epoch 41/100\n",
            "83/83 [==============================] - 0s 3ms/step - loss: 0.4187 - accuracy: 0.8061\n",
            "Epoch 42/100\n",
            "83/83 [==============================] - 0s 3ms/step - loss: 0.4192 - accuracy: 0.8068\n",
            "Epoch 43/100\n",
            "83/83 [==============================] - 0s 3ms/step - loss: 0.4171 - accuracy: 0.8034\n",
            "Epoch 44/100\n",
            "83/83 [==============================] - 0s 3ms/step - loss: 0.4160 - accuracy: 0.8129\n",
            "Epoch 45/100\n",
            "83/83 [==============================] - 0s 3ms/step - loss: 0.4171 - accuracy: 0.8011\n",
            "Epoch 46/100\n",
            "83/83 [==============================] - 0s 3ms/step - loss: 0.4159 - accuracy: 0.8046\n",
            "Epoch 47/100\n",
            "83/83 [==============================] - 0s 3ms/step - loss: 0.4128 - accuracy: 0.8053\n",
            "Epoch 48/100\n",
            "83/83 [==============================] - 0s 3ms/step - loss: 0.4120 - accuracy: 0.8095\n",
            "Epoch 49/100\n",
            "83/83 [==============================] - 0s 3ms/step - loss: 0.4086 - accuracy: 0.8159\n",
            "Epoch 50/100\n",
            "83/83 [==============================] - 0s 3ms/step - loss: 0.4082 - accuracy: 0.8121\n",
            "Epoch 51/100\n",
            "83/83 [==============================] - 0s 3ms/step - loss: 0.4063 - accuracy: 0.8133\n",
            "Epoch 52/100\n",
            "83/83 [==============================] - 0s 3ms/step - loss: 0.4054 - accuracy: 0.8175\n",
            "Epoch 53/100\n",
            "83/83 [==============================] - 0s 3ms/step - loss: 0.4042 - accuracy: 0.8163\n",
            "Epoch 54/100\n",
            "83/83 [==============================] - 0s 3ms/step - loss: 0.4049 - accuracy: 0.8125\n",
            "Epoch 55/100\n",
            "83/83 [==============================] - 0s 3ms/step - loss: 0.4014 - accuracy: 0.8121\n",
            "Epoch 56/100\n",
            "83/83 [==============================] - 0s 4ms/step - loss: 0.4021 - accuracy: 0.8114\n",
            "Epoch 57/100\n",
            "83/83 [==============================] - 0s 5ms/step - loss: 0.4008 - accuracy: 0.8159\n",
            "Epoch 58/100\n",
            "83/83 [==============================] - 0s 4ms/step - loss: 0.4003 - accuracy: 0.8186\n",
            "Epoch 59/100\n",
            "83/83 [==============================] - 0s 4ms/step - loss: 0.4009 - accuracy: 0.8190\n",
            "Epoch 60/100\n",
            "83/83 [==============================] - 0s 5ms/step - loss: 0.3990 - accuracy: 0.8205\n",
            "Epoch 61/100\n",
            "83/83 [==============================] - 0s 5ms/step - loss: 0.3962 - accuracy: 0.8213\n",
            "Epoch 62/100\n",
            "83/83 [==============================] - 0s 5ms/step - loss: 0.3971 - accuracy: 0.8178\n",
            "Epoch 63/100\n",
            "83/83 [==============================] - 0s 3ms/step - loss: 0.3946 - accuracy: 0.8201\n",
            "Epoch 64/100\n",
            "83/83 [==============================] - 0s 3ms/step - loss: 0.3948 - accuracy: 0.8205\n",
            "Epoch 65/100\n",
            "83/83 [==============================] - 0s 3ms/step - loss: 0.3918 - accuracy: 0.8250\n",
            "Epoch 66/100\n",
            "83/83 [==============================] - 0s 3ms/step - loss: 0.3945 - accuracy: 0.8167\n",
            "Epoch 67/100\n",
            "83/83 [==============================] - 0s 3ms/step - loss: 0.3927 - accuracy: 0.8205\n",
            "Epoch 68/100\n",
            "83/83 [==============================] - 0s 3ms/step - loss: 0.3908 - accuracy: 0.8224\n",
            "Epoch 69/100\n",
            "83/83 [==============================] - 0s 3ms/step - loss: 0.3912 - accuracy: 0.8235\n",
            "Epoch 70/100\n",
            "83/83 [==============================] - 0s 3ms/step - loss: 0.3884 - accuracy: 0.8250\n",
            "Epoch 71/100\n",
            "83/83 [==============================] - 0s 3ms/step - loss: 0.3884 - accuracy: 0.8216\n",
            "Epoch 72/100\n",
            "83/83 [==============================] - 0s 3ms/step - loss: 0.3861 - accuracy: 0.8216\n",
            "Epoch 73/100\n",
            "83/83 [==============================] - 0s 3ms/step - loss: 0.3864 - accuracy: 0.8269\n",
            "Epoch 74/100\n",
            "83/83 [==============================] - 0s 3ms/step - loss: 0.3859 - accuracy: 0.8224\n",
            "Epoch 75/100\n",
            "83/83 [==============================] - 0s 3ms/step - loss: 0.3839 - accuracy: 0.8247\n",
            "Epoch 76/100\n",
            "83/83 [==============================] - 0s 3ms/step - loss: 0.3833 - accuracy: 0.8258\n",
            "Epoch 77/100\n",
            "83/83 [==============================] - 0s 3ms/step - loss: 0.3835 - accuracy: 0.8266\n",
            "Epoch 78/100\n",
            "83/83 [==============================] - 0s 3ms/step - loss: 0.3842 - accuracy: 0.8266\n",
            "Epoch 79/100\n",
            "83/83 [==============================] - 0s 3ms/step - loss: 0.3820 - accuracy: 0.8277\n",
            "Epoch 80/100\n",
            "83/83 [==============================] - 0s 3ms/step - loss: 0.3821 - accuracy: 0.8239\n",
            "Epoch 81/100\n",
            "83/83 [==============================] - 0s 3ms/step - loss: 0.3804 - accuracy: 0.8273\n",
            "Epoch 82/100\n",
            "83/83 [==============================] - 0s 3ms/step - loss: 0.3786 - accuracy: 0.8292\n",
            "Epoch 83/100\n",
            "83/83 [==============================] - 0s 3ms/step - loss: 0.3803 - accuracy: 0.8281\n",
            "Epoch 84/100\n",
            "83/83 [==============================] - 0s 3ms/step - loss: 0.3789 - accuracy: 0.8296\n",
            "Epoch 85/100\n",
            "83/83 [==============================] - 0s 3ms/step - loss: 0.3771 - accuracy: 0.8315\n",
            "Epoch 86/100\n",
            "83/83 [==============================] - 0s 3ms/step - loss: 0.3735 - accuracy: 0.8285\n",
            "Epoch 87/100\n",
            "83/83 [==============================] - 0s 3ms/step - loss: 0.3741 - accuracy: 0.8353\n",
            "Epoch 88/100\n",
            "83/83 [==============================] - 0s 3ms/step - loss: 0.3733 - accuracy: 0.8296\n",
            "Epoch 89/100\n",
            "83/83 [==============================] - 0s 3ms/step - loss: 0.3742 - accuracy: 0.8323\n",
            "Epoch 90/100\n",
            "83/83 [==============================] - 0s 3ms/step - loss: 0.3729 - accuracy: 0.8319\n",
            "Epoch 91/100\n",
            "83/83 [==============================] - 0s 3ms/step - loss: 0.3711 - accuracy: 0.8326\n",
            "Epoch 92/100\n",
            "83/83 [==============================] - 0s 3ms/step - loss: 0.3741 - accuracy: 0.8254\n",
            "Epoch 93/100\n",
            "83/83 [==============================] - 0s 3ms/step - loss: 0.3704 - accuracy: 0.8345\n",
            "Epoch 94/100\n",
            "83/83 [==============================] - 0s 3ms/step - loss: 0.3692 - accuracy: 0.8380\n",
            "Epoch 95/100\n",
            "83/83 [==============================] - 0s 3ms/step - loss: 0.3699 - accuracy: 0.8319\n",
            "Epoch 96/100\n",
            "83/83 [==============================] - 0s 3ms/step - loss: 0.3688 - accuracy: 0.8342\n",
            "Epoch 97/100\n",
            "83/83 [==============================] - 0s 3ms/step - loss: 0.3667 - accuracy: 0.8326\n",
            "Epoch 98/100\n",
            "83/83 [==============================] - 0s 3ms/step - loss: 0.3667 - accuracy: 0.8342\n",
            "Epoch 99/100\n",
            "83/83 [==============================] - 0s 3ms/step - loss: 0.3673 - accuracy: 0.8376\n",
            "Epoch 100/100\n",
            "83/83 [==============================] - 0s 3ms/step - loss: 0.3640 - accuracy: 0.8376\n",
            "44/44 [==============================] - 0s 2ms/step - loss: 0.6190 - accuracy: 0.6951\n",
            "[0.6190460920333862, 0.695095956325531]\n",
            "44/44 [==============================] - 0s 1ms/step\n",
            "Classification Report: \n",
            "               precision    recall  f1-score   support\n",
            "\n",
            "           0       0.90      0.66      0.76      1033\n",
            "           1       0.46      0.80      0.58       374\n",
            "\n",
            "    accuracy                           0.70      1407\n",
            "   macro avg       0.68      0.73      0.67      1407\n",
            "weighted avg       0.78      0.70      0.71      1407\n",
            "\n"
          ]
        }
      ]
    },
    {
      "cell_type": "code",
      "source": [
        "len(y_pred1)"
      ],
      "metadata": {
        "colab": {
          "base_uri": "https://localhost:8080/"
        },
        "id": "9dgR7rUo3KYm",
        "outputId": "a85a949f-7830-4d0a-a479-93def2cc7c56"
      },
      "execution_count": 58,
      "outputs": [
        {
          "output_type": "execute_result",
          "data": {
            "text/plain": [
              "1407"
            ]
          },
          "metadata": {},
          "execution_count": 58
        }
      ]
    },
    {
      "cell_type": "code",
      "source": [
        "y_pred_final = y_pred1.copy()\n",
        "for i in range(len(y_pred1)):\n",
        "    n_ones = y_pred1[i] + y_pred2[i] + y_pred3[i]\n",
        "    if n_ones>1:\n",
        "        y_pred_final[i] = 1\n",
        "    else:\n",
        "        y_pred_final[i] = 0"
      ],
      "metadata": {
        "id": "ofezzhkZ3P9r"
      },
      "execution_count": 59,
      "outputs": []
    },
    {
      "cell_type": "code",
      "source": [
        "cl_rep = classification_report(y_test, y_pred_final)\n",
        "print(cl_rep)"
      ],
      "metadata": {
        "colab": {
          "base_uri": "https://localhost:8080/"
        },
        "id": "J3G8rQb03TVy",
        "outputId": "2638e5ff-2ec9-4936-f48d-2ab3d187de07"
      },
      "execution_count": 60,
      "outputs": [
        {
          "output_type": "stream",
          "name": "stdout",
          "text": [
            "              precision    recall  f1-score   support\n",
            "\n",
            "           0       0.90      0.71      0.79      1033\n",
            "           1       0.49      0.77      0.60       374\n",
            "\n",
            "    accuracy                           0.73      1407\n",
            "   macro avg       0.69      0.74      0.70      1407\n",
            "weighted avg       0.79      0.73      0.74      1407\n",
            "\n"
          ]
        }
      ]
    },
    {
      "cell_type": "markdown",
      "source": [
        "Imbalanced Dataset\n",
        "\n",
        "Classification Report: \n",
        "\n",
        "               precision    recall  f1-score   support\n",
        "\n",
        "           0       0.84      0.89      0.87      1040\n",
        "           1       0.63      0.51      0.56       367\n",
        "\n",
        "    accuracy                           0.79      1407\n",
        " \n",
        "    macro avg       0.73      0.70      0.71      1407\n",
        "\n",
        "    weighted avg       0.78      0.79      0.79      1407\n",
        "\n",
        "\n",
        "UNDERSAMPLING\n",
        "\n",
        "Classification Report: \n",
        "\n",
        "               precision    recall  f1-score   support\n",
        "\n",
        "           0       0.73      0.72      0.73       374\n",
        "           1       0.72      0.74      0.73       374\n",
        "\n",
        "    accuracy                           0.73       748\n",
        " \n",
        "    macro avg       0.73      0.73      0.73       748\n",
        "    \n",
        "    weighted avg       0.73      0.73      0.73       748\n",
        "\n",
        "\n",
        "OVERSAMPLING\n",
        "\n",
        "Classification Report:\n",
        "\n",
        "              precision    recall  f1-score   support\n",
        "\n",
        "           0       0.85      0.70      0.77      1033\n",
        "           1       0.74      0.87      0.80      1033\n",
        "\n",
        "    accuracy                           0.79      2066\n",
        "    \n",
        "    macro avg       0.80      0.79      0.78      2066\n",
        "\n",
        "    weighted avg       0.80      0.79      0.78      2066\n",
        "\n",
        "SMOTE Oversampling\n",
        "\n",
        "Classification Report: \n",
        "\n",
        "               precision    recall  f1-score   support\n",
        "\n",
        "           0       0.85      0.71      0.77      1033\n",
        "           1       0.75      0.87      0.81      1033\n",
        "\n",
        "    accuracy                           0.79      2066\n",
        " \n",
        "    macro avg       0.80      0.79      0.79      2066\n",
        "    \n",
        "    weighted avg       0.80      0.79      0.79      2066\n",
        "\n",
        "Ensemble with UnderSampling\n",
        "\n",
        "Part 1\n",
        "\n",
        "Classification Report: \n",
        "\n",
        "               precision    recall  f1-score   support\n",
        "\n",
        "           0       0.89      0.69      0.78      1033\n",
        "           1       0.47      0.76      0.58       374\n",
        "\n",
        "    accuracy                           0.71      1407\n",
        " \n",
        "    macro avg       0.68      0.73      0.68      1407\n",
        "    \n",
        "    weighted avg       0.78      0.71      0.73      1407\n",
        "\n",
        "Part 2\n",
        "\n",
        "Classification Report: \n",
        "\n",
        "               precision    recall  f1-score   support\n",
        "\n",
        "           0       0.87      0.74      0.80      1033\n",
        "           1       0.49      0.70      0.58       374\n",
        "\n",
        "    accuracy                           0.73      1407\n",
        "\n",
        "    macro avg       0.68      0.72      0.69      1407\n",
        "\n",
        "    weighted avg       0.77      0.73      0.74      1407\n",
        "\n",
        "Part 3\n",
        "\n",
        "Classification Report: \n",
        "\n",
        "               precision    recall  f1-score   support\n",
        "\n",
        "           0       0.90      0.66      0.76      1033\n",
        "           1       0.46      0.80      0.58       374\n",
        "\n",
        "    accuracy                           0.70      1407\n",
        "\n",
        "    macro avg       0.68      0.73      0.67      1407\n",
        "\n",
        "    weighted avg       0.78      0.70      0.71      1407\n",
        "\n",
        "Overall\n",
        "\n",
        "Classification Report: \n",
        "\n",
        "               precision    recall  f1-score   support\n",
        "\n",
        "           0       0.90      0.71      0.79      1033\n",
        "           1       0.49      0.77      0.60       374\n",
        "\n",
        "    accuracy                           0.73      1407\n",
        " \n",
        "    macro avg       0.69      0.74      0.70      1407\n",
        "    \n",
        "    weighted avg       0.79      0.73      0.74      1407"
      ],
      "metadata": {
        "id": "vpHbVRV83n3U"
      }
    },
    {
      "cell_type": "code",
      "source": [],
      "metadata": {
        "id": "50ejyftW4fWB"
      },
      "execution_count": null,
      "outputs": []
    }
  ],
  "metadata": {
    "kernelspec": {
      "display_name": "Python 3",
      "language": "python",
      "name": "python3"
    },
    "language_info": {
      "codemirror_mode": {
        "name": "ipython",
        "version": 3
      },
      "file_extension": ".py",
      "mimetype": "text/x-python",
      "name": "python",
      "nbconvert_exporter": "python",
      "pygments_lexer": "ipython3",
      "version": "3.10.8"
    },
    "orig_nbformat": 4,
    "vscode": {
      "interpreter": {
        "hash": "3b095c78d4d0a65c3f456c494693e1a5b5771f8f860a0a9af68316c2e765deba"
      }
    },
    "colab": {
      "provenance": []
    },
    "accelerator": "GPU",
    "gpuClass": "standard"
  },
  "nbformat": 4,
  "nbformat_minor": 0
}